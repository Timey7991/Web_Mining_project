{
  "cells": [
    {
      "cell_type": "markdown",
      "metadata": {
        "id": "pdIoGVy0dLFJ"
      },
      "source": [
        "# Set up"
      ]
    },
    {
      "cell_type": "markdown",
      "metadata": {
        "id": "dAbpqgiYZQTw"
      },
      "source": [
        "## Package Loading"
      ]
    },
    {
      "cell_type": "code",
      "execution_count": null,
      "metadata": {
        "colab": {
          "base_uri": "https://localhost:8080/"
        },
        "id": "pkuSpTlmZZ17",
        "outputId": "17c7052d-b745-4a6a-b076-a0d766df2fc7"
      },
      "outputs": [
        {
          "output_type": "stream",
          "name": "stdout",
          "text": [
            "Collecting emoji\n",
            "  Downloading emoji-1.7.0.tar.gz (175 kB)\n",
            "\u001b[?25l\r\u001b[K     |█▉                              | 10 kB 31.9 MB/s eta 0:00:01\r\u001b[K     |███▊                            | 20 kB 18.6 MB/s eta 0:00:01\r\u001b[K     |█████▋                          | 30 kB 15.0 MB/s eta 0:00:01\r\u001b[K     |███████▌                        | 40 kB 13.7 MB/s eta 0:00:01\r\u001b[K     |█████████▍                      | 51 kB 6.2 MB/s eta 0:00:01\r\u001b[K     |███████████▏                    | 61 kB 7.3 MB/s eta 0:00:01\r\u001b[K     |█████████████                   | 71 kB 8.1 MB/s eta 0:00:01\r\u001b[K     |███████████████                 | 81 kB 8.0 MB/s eta 0:00:01\r\u001b[K     |████████████████▉               | 92 kB 8.9 MB/s eta 0:00:01\r\u001b[K     |██████████████████▊             | 102 kB 7.3 MB/s eta 0:00:01\r\u001b[K     |████████████████████▌           | 112 kB 7.3 MB/s eta 0:00:01\r\u001b[K     |██████████████████████▍         | 122 kB 7.3 MB/s eta 0:00:01\r\u001b[K     |████████████████████████▎       | 133 kB 7.3 MB/s eta 0:00:01\r\u001b[K     |██████████████████████████▏     | 143 kB 7.3 MB/s eta 0:00:01\r\u001b[K     |████████████████████████████    | 153 kB 7.3 MB/s eta 0:00:01\r\u001b[K     |█████████████████████████████▉  | 163 kB 7.3 MB/s eta 0:00:01\r\u001b[K     |███████████████████████████████▊| 174 kB 7.3 MB/s eta 0:00:01\r\u001b[K     |████████████████████████████████| 175 kB 7.3 MB/s \n",
            "\u001b[?25hBuilding wheels for collected packages: emoji\n",
            "  Building wheel for emoji (setup.py) ... \u001b[?25l\u001b[?25hdone\n",
            "  Created wheel for emoji: filename=emoji-1.7.0-py3-none-any.whl size=171046 sha256=5c4731bdfc79fe548a82f0a4aa97f18f30259cf80f56681e063229982b3abe8f\n",
            "  Stored in directory: /root/.cache/pip/wheels/8a/4e/b6/57b01db010d17ef6ea9b40300af725ef3e210cb1acfb7ac8b6\n",
            "Successfully built emoji\n",
            "Installing collected packages: emoji\n",
            "Successfully installed emoji-1.7.0\n",
            "Requirement already satisfied: nltk in /usr/local/lib/python3.7/dist-packages (3.2.5)\n",
            "Requirement already satisfied: six in /usr/local/lib/python3.7/dist-packages (from nltk) (1.15.0)\n",
            "[nltk_data] Downloading package punkt to /root/nltk_data...\n",
            "[nltk_data]   Unzipping tokenizers/punkt.zip.\n",
            "[nltk_data] Downloading package stopwords to /root/nltk_data...\n",
            "[nltk_data]   Unzipping corpora/stopwords.zip.\n",
            "Mounted at /content/drive\n"
          ]
        }
      ],
      "source": [
        "import pandas as pd\n",
        "import numpy as np\n",
        "import itertools\n",
        "!pip install emoji\n",
        "import emoji\n",
        "import re\n",
        "!pip install nltk\n",
        "import nltk\n",
        "nltk.download('punkt')\n",
        "nltk.download('stopwords')\n",
        "from nltk.corpus import stopwords \n",
        "from nltk.tokenize import word_tokenize \n",
        "from nltk.stem import PorterStemmer \n",
        "from sklearn.utils.multiclass import unique_labels\n",
        "from sklearn.feature_extraction.text import TfidfVectorizer, CountVectorizer\n",
        "from imblearn.pipeline import Pipeline\n",
        "from imblearn.over_sampling import RandomOverSampler, ADASYN, SMOTE\n",
        "from imblearn.under_sampling import RandomUnderSampler, NearMiss\n",
        "from sklearn.pipeline import make_pipeline\n",
        "from sklearn.model_selection import train_test_split, StratifiedKFold, cross_val_predict, GridSearchCV\n",
        "from sklearn.svm import LinearSVC\n",
        "from sklearn.ensemble import  RandomForestClassifier\n",
        "from sklearn.linear_model import LogisticRegression\n",
        "from sklearn.metrics import classification_report, accuracy_score, confusion_matrix, f1_score, make_scorer\n",
        "from sklearn.compose import ColumnTransformer\n",
        "import mlxtend\n",
        "import matplotlib.pyplot as plt\n",
        "import time\n",
        "import joblib\n",
        "import gzip\n",
        "import json\n",
        "import seaborn as sns\n",
        "from google.colab import drive\n",
        "drive.mount('/content/drive')"
      ]
    },
    {
      "cell_type": "markdown",
      "metadata": {
        "id": "bhhHbBWheQb-"
      },
      "source": [
        "## Set Up paths"
      ]
    },
    {
      "cell_type": "code",
      "execution_count": null,
      "metadata": {
        "id": "frFeRDORe2DQ"
      },
      "outputs": [],
      "source": [
        "# Parent paths\n",
        "parent_path = '/content/drive/My Drive/'\n",
        "\n",
        "\n",
        "#Specific paths\n",
        "path_hyperparameters_nb = parent_path+\"Web_Mining_Project/classifier_parameters/best_parameters/nb.csv\"\n",
        "path_hyperparameters_knn = parent_path+\"Web_Mining_Project/classifier_parameters/best_parameters/knn.csv\"\n",
        "path_hyperparameters_rf = parent_path+\"Web_Mining_Project/classifier_parameters/best_parameters/rf.csv\"\n",
        "path_hyperparameters_svm = parent_path+\"Web_Mining_Project/classifier_parameters/best_parameters/svm.csv\"\n",
        "\n",
        "path_best_parameters_nb = parent_path+\"Web_Mining_Project/classifier_parameters/nb.pkl\"\n",
        "path_best_parameters_knn = parent_path+\"Web_Mining_Project/classifier_parameters/knn.pkl\"\n",
        "path_best_parameters_rf = parent_path+\"Web_Mining_Project/classifier_parameters/rf.pkl\"\n",
        "path_best_parameters_svm = parent_path+\"Web_Mining_Project/classifier_parameters/svm.pkl\"\n",
        "#dataset paths \n",
        "path_complete_dataset = parent_path + \"Web_Mining_Project/data/complete_dataset.csv\"\n",
        "path_shortend_dataset = parent_path + \"Web_Mining_Project/data/shortend10000_dataset.csv\"\n",
        "path_shortend10000_preprocessed = parent_path + \"Web_Mining_Project/data/shortend10000_dataset_preprocessed.csv\"\n",
        "path_shortend50000_preprocessed = parent_path + \"Web_Mining_Project/data/shortend50000_dataset_preprocessed.csv\""
      ]
    },
    {
      "cell_type": "markdown",
      "metadata": {
        "id": "ghQeUaKCgx2L"
      },
      "source": [
        "## Set Up Functions"
      ]
    },
    {
      "cell_type": "code",
      "execution_count": null,
      "metadata": {
        "id": "_IgovWRmgwRa"
      },
      "outputs": [],
      "source": [
        "# function for evaluation(confusion matrix)\n",
        "def plot_confusion_matrix(cm, classes,\n",
        "                          normalize=False,\n",
        "                          title='Confusion matrix',\n",
        "                          cmap=plt.cm.Blues):\n",
        "    \"\"\"\n",
        "    This function prints and plots the confusion matrix.\n",
        "    Normalization can be applied by setting `normalize=True`.\n",
        "    \"\"\"\n",
        "    if normalize:\n",
        "        cm = cm.astype('float') / cm.sum(axis=1)[:, np.newaxis]\n",
        "\n",
        "    plt.imshow(cm, interpolation='nearest', cmap=cmap)\n",
        "    plt.title(title)\n",
        "    plt.colorbar()\n",
        "    tick_marks = np.arange(len(classes))\n",
        "    plt.xticks(tick_marks, classes, rotation=45)\n",
        "    plt.yticks(tick_marks, classes)\n",
        "\n",
        "    fmt = '.2f' if normalize else 'd'\n",
        "    thresh = cm.max() / 2.\n",
        "    for i, j in itertools.product(range(cm.shape[0]), range(cm.shape[1])):\n",
        "        plt.text(j, i, format(cm[i, j], fmt),\n",
        "                 horizontalalignment=\"center\",\n",
        "                 color=\"white\" if cm[i, j] > thresh else \"black\")\n",
        "\n",
        "    plt.ylabel('True label')\n",
        "    plt.xlabel('Predicted label')\n",
        "    plt.tight_layout()\n",
        "\n",
        "# function for sentiment label creating \n",
        "def create_labels_from_rating(score):\n",
        "  score = int(score)\n",
        "  if score <= 2:\n",
        "    return 0 #negative\n",
        "  elif score == 3:\n",
        "    return 1 #neutral\n",
        "  else:\n",
        "    return 2 #positive\n",
        "  \n",
        "# function to bin vote column \n",
        "def bin_vote(vote):\n",
        "  vote = int(vote)\n",
        "\n",
        "  if vote < 2:\n",
        "    return 0\n",
        "  elif vote >= 2 and vote <= 6:\n",
        "    return 1 \n",
        "  else:\n",
        "    return 2"
      ]
    },
    {
      "cell_type": "markdown",
      "metadata": {
        "id": "2psw4oRk5UQu"
      },
      "source": [
        "# Data Download and Exploration"
      ]
    },
    {
      "cell_type": "code",
      "execution_count": null,
      "metadata": {
        "colab": {
          "base_uri": "https://localhost:8080/",
          "height": 441
        },
        "id": "gOg75kouWVna",
        "outputId": "1e57b7ed-b0cc-4b1f-e5bc-ed956b48509d"
      },
      "outputs": [
        {
          "output_type": "stream",
          "name": "stdout",
          "text": [
            "(10000, 12)\n"
          ]
        },
        {
          "output_type": "execute_result",
          "data": {
            "text/plain": [
              "   overall  verified   reviewTime      reviewerID        asin  \\\n",
              "0      5.0      True  10 17, 2015  A1HP7NVNPFMA4N  0700026657   \n",
              "1      4.0     False  07 27, 2015  A1JGAP0185YJI6  0700026657   \n",
              "2      3.0      True  02 23, 2015  A1YJWEXHQBWK2B  0700026657   \n",
              "3      2.0      True  02 20, 2015  A2204E1TH211HT  0700026657   \n",
              "4      5.0      True  12 25, 2014  A2RF5B5H74JLPE  0700026657   \n",
              "\n",
              "        reviewerName                                         reviewText  \\\n",
              "0        Ambrosia075  This game is a bit hard to get the hang of, bu...   \n",
              "1             travis  I played it a while but it was alright. The st...   \n",
              "2  Vincent G. Mezera                                           ok game.   \n",
              "3         Grandma KR  found the game a bit too complicated, not what...   \n",
              "4                jon  great game, I love it and have played it since...   \n",
              "\n",
              "                                       summary  unixReviewTime  vote style  \\\n",
              "0                  but when you do it's great.      1445040000   NaN   NaN   \n",
              "1  But in spite of that it was fun, I liked it      1437955200   NaN   NaN   \n",
              "2                                  Three Stars      1424649600   NaN   NaN   \n",
              "3                                    Two Stars      1424390400   NaN   NaN   \n",
              "4                               love this game      1419465600   NaN   NaN   \n",
              "\n",
              "  image  \n",
              "0   NaN  \n",
              "1   NaN  \n",
              "2   NaN  \n",
              "3   NaN  \n",
              "4   NaN  "
            ],
            "text/html": [
              "\n",
              "  <div id=\"df-b0c9d290-2ab7-4b27-a85a-52ef13596f87\">\n",
              "    <div class=\"colab-df-container\">\n",
              "      <div>\n",
              "<style scoped>\n",
              "    .dataframe tbody tr th:only-of-type {\n",
              "        vertical-align: middle;\n",
              "    }\n",
              "\n",
              "    .dataframe tbody tr th {\n",
              "        vertical-align: top;\n",
              "    }\n",
              "\n",
              "    .dataframe thead th {\n",
              "        text-align: right;\n",
              "    }\n",
              "</style>\n",
              "<table border=\"1\" class=\"dataframe\">\n",
              "  <thead>\n",
              "    <tr style=\"text-align: right;\">\n",
              "      <th></th>\n",
              "      <th>overall</th>\n",
              "      <th>verified</th>\n",
              "      <th>reviewTime</th>\n",
              "      <th>reviewerID</th>\n",
              "      <th>asin</th>\n",
              "      <th>reviewerName</th>\n",
              "      <th>reviewText</th>\n",
              "      <th>summary</th>\n",
              "      <th>unixReviewTime</th>\n",
              "      <th>vote</th>\n",
              "      <th>style</th>\n",
              "      <th>image</th>\n",
              "    </tr>\n",
              "  </thead>\n",
              "  <tbody>\n",
              "    <tr>\n",
              "      <th>0</th>\n",
              "      <td>5.0</td>\n",
              "      <td>True</td>\n",
              "      <td>10 17, 2015</td>\n",
              "      <td>A1HP7NVNPFMA4N</td>\n",
              "      <td>0700026657</td>\n",
              "      <td>Ambrosia075</td>\n",
              "      <td>This game is a bit hard to get the hang of, bu...</td>\n",
              "      <td>but when you do it's great.</td>\n",
              "      <td>1445040000</td>\n",
              "      <td>NaN</td>\n",
              "      <td>NaN</td>\n",
              "      <td>NaN</td>\n",
              "    </tr>\n",
              "    <tr>\n",
              "      <th>1</th>\n",
              "      <td>4.0</td>\n",
              "      <td>False</td>\n",
              "      <td>07 27, 2015</td>\n",
              "      <td>A1JGAP0185YJI6</td>\n",
              "      <td>0700026657</td>\n",
              "      <td>travis</td>\n",
              "      <td>I played it a while but it was alright. The st...</td>\n",
              "      <td>But in spite of that it was fun, I liked it</td>\n",
              "      <td>1437955200</td>\n",
              "      <td>NaN</td>\n",
              "      <td>NaN</td>\n",
              "      <td>NaN</td>\n",
              "    </tr>\n",
              "    <tr>\n",
              "      <th>2</th>\n",
              "      <td>3.0</td>\n",
              "      <td>True</td>\n",
              "      <td>02 23, 2015</td>\n",
              "      <td>A1YJWEXHQBWK2B</td>\n",
              "      <td>0700026657</td>\n",
              "      <td>Vincent G. Mezera</td>\n",
              "      <td>ok game.</td>\n",
              "      <td>Three Stars</td>\n",
              "      <td>1424649600</td>\n",
              "      <td>NaN</td>\n",
              "      <td>NaN</td>\n",
              "      <td>NaN</td>\n",
              "    </tr>\n",
              "    <tr>\n",
              "      <th>3</th>\n",
              "      <td>2.0</td>\n",
              "      <td>True</td>\n",
              "      <td>02 20, 2015</td>\n",
              "      <td>A2204E1TH211HT</td>\n",
              "      <td>0700026657</td>\n",
              "      <td>Grandma KR</td>\n",
              "      <td>found the game a bit too complicated, not what...</td>\n",
              "      <td>Two Stars</td>\n",
              "      <td>1424390400</td>\n",
              "      <td>NaN</td>\n",
              "      <td>NaN</td>\n",
              "      <td>NaN</td>\n",
              "    </tr>\n",
              "    <tr>\n",
              "      <th>4</th>\n",
              "      <td>5.0</td>\n",
              "      <td>True</td>\n",
              "      <td>12 25, 2014</td>\n",
              "      <td>A2RF5B5H74JLPE</td>\n",
              "      <td>0700026657</td>\n",
              "      <td>jon</td>\n",
              "      <td>great game, I love it and have played it since...</td>\n",
              "      <td>love this game</td>\n",
              "      <td>1419465600</td>\n",
              "      <td>NaN</td>\n",
              "      <td>NaN</td>\n",
              "      <td>NaN</td>\n",
              "    </tr>\n",
              "  </tbody>\n",
              "</table>\n",
              "</div>\n",
              "      <button class=\"colab-df-convert\" onclick=\"convertToInteractive('df-b0c9d290-2ab7-4b27-a85a-52ef13596f87')\"\n",
              "              title=\"Convert this dataframe to an interactive table.\"\n",
              "              style=\"display:none;\">\n",
              "        \n",
              "  <svg xmlns=\"http://www.w3.org/2000/svg\" height=\"24px\"viewBox=\"0 0 24 24\"\n",
              "       width=\"24px\">\n",
              "    <path d=\"M0 0h24v24H0V0z\" fill=\"none\"/>\n",
              "    <path d=\"M18.56 5.44l.94 2.06.94-2.06 2.06-.94-2.06-.94-.94-2.06-.94 2.06-2.06.94zm-11 1L8.5 8.5l.94-2.06 2.06-.94-2.06-.94L8.5 2.5l-.94 2.06-2.06.94zm10 10l.94 2.06.94-2.06 2.06-.94-2.06-.94-.94-2.06-.94 2.06-2.06.94z\"/><path d=\"M17.41 7.96l-1.37-1.37c-.4-.4-.92-.59-1.43-.59-.52 0-1.04.2-1.43.59L10.3 9.45l-7.72 7.72c-.78.78-.78 2.05 0 2.83L4 21.41c.39.39.9.59 1.41.59.51 0 1.02-.2 1.41-.59l7.78-7.78 2.81-2.81c.8-.78.8-2.07 0-2.86zM5.41 20L4 18.59l7.72-7.72 1.47 1.35L5.41 20z\"/>\n",
              "  </svg>\n",
              "      </button>\n",
              "      \n",
              "  <style>\n",
              "    .colab-df-container {\n",
              "      display:flex;\n",
              "      flex-wrap:wrap;\n",
              "      gap: 12px;\n",
              "    }\n",
              "\n",
              "    .colab-df-convert {\n",
              "      background-color: #E8F0FE;\n",
              "      border: none;\n",
              "      border-radius: 50%;\n",
              "      cursor: pointer;\n",
              "      display: none;\n",
              "      fill: #1967D2;\n",
              "      height: 32px;\n",
              "      padding: 0 0 0 0;\n",
              "      width: 32px;\n",
              "    }\n",
              "\n",
              "    .colab-df-convert:hover {\n",
              "      background-color: #E2EBFA;\n",
              "      box-shadow: 0px 1px 2px rgba(60, 64, 67, 0.3), 0px 1px 3px 1px rgba(60, 64, 67, 0.15);\n",
              "      fill: #174EA6;\n",
              "    }\n",
              "\n",
              "    [theme=dark] .colab-df-convert {\n",
              "      background-color: #3B4455;\n",
              "      fill: #D2E3FC;\n",
              "    }\n",
              "\n",
              "    [theme=dark] .colab-df-convert:hover {\n",
              "      background-color: #434B5C;\n",
              "      box-shadow: 0px 1px 3px 1px rgba(0, 0, 0, 0.15);\n",
              "      filter: drop-shadow(0px 1px 2px rgba(0, 0, 0, 0.3));\n",
              "      fill: #FFFFFF;\n",
              "    }\n",
              "  </style>\n",
              "\n",
              "      <script>\n",
              "        const buttonEl =\n",
              "          document.querySelector('#df-b0c9d290-2ab7-4b27-a85a-52ef13596f87 button.colab-df-convert');\n",
              "        buttonEl.style.display =\n",
              "          google.colab.kernel.accessAllowed ? 'block' : 'none';\n",
              "\n",
              "        async function convertToInteractive(key) {\n",
              "          const element = document.querySelector('#df-b0c9d290-2ab7-4b27-a85a-52ef13596f87');\n",
              "          const dataTable =\n",
              "            await google.colab.kernel.invokeFunction('convertToInteractive',\n",
              "                                                     [key], {});\n",
              "          if (!dataTable) return;\n",
              "\n",
              "          const docLinkHtml = 'Like what you see? Visit the ' +\n",
              "            '<a target=\"_blank\" href=https://colab.research.google.com/notebooks/data_table.ipynb>data table notebook</a>'\n",
              "            + ' to learn more about interactive tables.';\n",
              "          element.innerHTML = '';\n",
              "          dataTable['output_type'] = 'display_data';\n",
              "          await google.colab.output.renderOutput(dataTable, element);\n",
              "          const docLink = document.createElement('div');\n",
              "          docLink.innerHTML = docLinkHtml;\n",
              "          element.appendChild(docLink);\n",
              "        }\n",
              "      </script>\n",
              "    </div>\n",
              "  </div>\n",
              "  "
            ]
          },
          "metadata": {},
          "execution_count": 4
        }
      ],
      "source": [
        "# create dataframe \n",
        "df = pd.read_csv(path_shortend_dataset)\n",
        "df.drop(columns=['Unnamed: 0'], inplace=True)\n",
        "print(df.shape)\n",
        "df.head()"
      ]
    },
    {
      "cell_type": "code",
      "execution_count": null,
      "metadata": {
        "colab": {
          "base_uri": "https://localhost:8080/",
          "height": 1000
        },
        "id": "G_CWaKAg6ceh",
        "outputId": "85aa9c32-e4ca-44eb-e8d8-bc1926261fbf"
      },
      "outputs": [
        {
          "output_type": "stream",
          "name": "stdout",
          "text": [
            "overall           False\n",
            "verified          False\n",
            "reviewTime        False\n",
            "reviewerID        False\n",
            "asin              False\n",
            "reviewerName      False\n",
            "reviewText        False\n",
            "summary            True\n",
            "unixReviewTime    False\n",
            "vote               True\n",
            "style              True\n",
            "image              True\n",
            "dtype: bool\n",
            "\n",
            "<class 'pandas.core.frame.DataFrame'>\n",
            "RangeIndex: 10000 entries, 0 to 9999\n",
            "Data columns (total 12 columns):\n",
            " #   Column          Non-Null Count  Dtype  \n",
            "---  ------          --------------  -----  \n",
            " 0   overall         10000 non-null  float64\n",
            " 1   verified        10000 non-null  bool   \n",
            " 2   reviewTime      10000 non-null  object \n",
            " 3   reviewerID      10000 non-null  object \n",
            " 4   asin            10000 non-null  object \n",
            " 5   reviewerName    10000 non-null  object \n",
            " 6   reviewText      10000 non-null  object \n",
            " 7   summary         9999 non-null   object \n",
            " 8   unixReviewTime  10000 non-null  int64  \n",
            " 9   vote            2716 non-null   float64\n",
            " 10  style           3784 non-null   object \n",
            " 11  image           50 non-null     object \n",
            "dtypes: bool(1), float64(2), int64(1), object(8)\n",
            "memory usage: 869.3+ KB\n",
            "\n",
            "overall           float64\n",
            "verified             bool\n",
            "reviewTime         object\n",
            "reviewerID         object\n",
            "asin               object\n",
            "reviewerName       object\n",
            "reviewText         object\n",
            "summary            object\n",
            "unixReviewTime      int64\n",
            "vote              float64\n",
            "style              object\n",
            "image              object\n",
            "dtype: object\n",
            "\n",
            "count    10000.000000\n",
            "mean         4.391900\n",
            "std          1.042316\n",
            "min          1.000000\n",
            "25%          4.000000\n",
            "50%          5.000000\n",
            "75%          5.000000\n",
            "max          5.000000\n",
            "Name: overall, dtype: float64\n",
            "\n"
          ]
        },
        {
          "output_type": "stream",
          "name": "stderr",
          "text": [
            "/usr/local/lib/python3.7/dist-packages/seaborn/_decorators.py:43: FutureWarning: Pass the following variable as a keyword arg: x. From version 0.12, the only valid positional argument will be `data`, and passing other arguments without an explicit keyword will result in an error or misinterpretation.\n",
            "  FutureWarning\n"
          ]
        },
        {
          "output_type": "display_data",
          "data": {
            "text/plain": [
              "<Figure size 432x288 with 1 Axes>"
            ],
            "image/png": "[encoded data removed]"
          },
          "metadata": {
            "needs_background": "light"
          }
        },
        {
          "output_type": "stream",
          "name": "stdout",
          "text": [
            "\n"
          ]
        },
        {
          "output_type": "stream",
          "name": "stderr",
          "text": [
            "/usr/local/lib/python3.7/dist-packages/seaborn/_decorators.py:43: FutureWarning: Pass the following variable as a keyword arg: x. From version 0.12, the only valid positional argument will be `data`, and passing other arguments without an explicit keyword will result in an error or misinterpretation.\n",
            "  FutureWarning\n"
          ]
        },
        {
          "output_type": "stream",
          "name": "stdout",
          "text": [
            "\n",
            "count    10000.000000\n",
            "mean         1.743100\n",
            "std          7.031931\n",
            "min          0.000000\n",
            "25%          0.000000\n",
            "50%          0.000000\n",
            "75%          2.000000\n",
            "max        281.000000\n",
            "Name: vote, dtype: float64\n"
          ]
        },
        {
          "output_type": "display_data",
          "data": {
            "text/plain": [
              "<Figure size 432x288 with 1 Axes>"
            ],
            "image/png": "[encoded data removed]"
          },
          "metadata": {
            "needs_background": "light"
          }
        },
        {
          "output_type": "display_data",
          "data": {
            "text/plain": [
              "<Figure size 432x288 with 1 Axes>"
            ],
            "image/png": "[encoded data removed]"
          },
          "metadata": {
            "needs_background": "light"
          }
        }
      ],
      "source": [
        "# General Information and Null values\n",
        "print(df.isnull().any())\n",
        "print()\n",
        "df.info()\n",
        "print()\n",
        "print(df.dtypes)\n",
        "print()\n",
        "print(df.overall.describe())\n",
        "print()\n",
        "# plot the score & check for the distribution of the star ratings \n",
        "sns.countplot(df.overall)\n",
        "plt.show()\n",
        "print()\n",
        "# plot distribution of vote column\n",
        "df['vote'] = df['vote'].fillna(0)\n",
        "sns.countplot(df.vote)\n",
        "print()\n",
        "print(df.vote.describe())\n",
        "# plot vote depending on overall\n",
        "df.plot(x='overall', y='vote', style='o')"
      ]
    },
    {
      "cell_type": "markdown",
      "metadata": {
        "id": "Ub4lefsY5XwW"
      },
      "source": [
        "# Data Preprocessing and further Exploration"
      ]
    },
    {
      "cell_type": "markdown",
      "metadata": {
        "id": "T6qhdNDLviKC"
      },
      "source": [
        "## Label creation"
      ]
    },
    {
      "cell_type": "code",
      "execution_count": null,
      "metadata": {
        "colab": {
          "base_uri": "https://localhost:8080/",
          "height": 334
        },
        "id": "oC2lhUbiv6fy",
        "outputId": "ad4e83e5-6287-456c-c609-c367cf3785f4"
      },
      "outputs": [
        {
          "output_type": "stream",
          "name": "stderr",
          "text": [
            "/usr/local/lib/python3.7/dist-packages/seaborn/_decorators.py:43: FutureWarning: Pass the following variable as a keyword arg: x. From version 0.12, the only valid positional argument will be `data`, and passing other arguments without an explicit keyword will result in an error or misinterpretation.\n",
            "  FutureWarning\n"
          ]
        },
        {
          "output_type": "display_data",
          "data": {
            "text/plain": [
              "<Figure size 432x288 with 1 Axes>"
            ],
            "image/png": "[encoded data removed]"
          },
          "metadata": {
            "needs_background": "light"
          }
        }
      ],
      "source": [
        "df['label'] = df['overall'].apply(create_labels_from_rating)\n",
        "# plot the score & check for the distribution of the star ratings \n",
        "sns.countplot(df.label)\n",
        "plt.show()"
      ]
    },
    {
      "cell_type": "markdown",
      "metadata": {
        "id": "PyHX54AVnI4U"
      },
      "source": [
        "## Feature Generation and Selection"
      ]
    },
    {
      "cell_type": "code",
      "execution_count": null,
      "metadata": {
        "colab": {
          "base_uri": "https://localhost:8080/"
        },
        "id": "9HzH9Q_NnNbs",
        "outputId": "b1cf1aac-d888-41d9-9524-f2dc47fe572d"
      },
      "outputs": [
        {
          "output_type": "stream",
          "name": "stdout",
          "text": [
            "(10000, 8)\n",
            "Index(['verified', 'reviewText', 'summary', 'unixReviewTime', 'vote', 'label',\n",
            "       'reviewer_amount_of_reviews', 'reviewer_mean_score'],\n",
            "      dtype='object')\n"
          ]
        }
      ],
      "source": [
        "# Frequency encoding using value_counts function     ------- generated features not used\n",
        "reviewerID_freq = df['reviewerID'].value_counts()\n",
        "# Mapping the encoded values with original data\n",
        "df['reviewer_amount_of_reviews'] = df['reviewerID'].apply(lambda x : reviewerID_freq[x])\n",
        "# detecting mean of ratings score per user\n",
        "df['reviewer_mean_score'] = df.groupby(['reviewerID'])['overall'].transform(lambda x: x.mean())\n",
        "df.drop(columns=['overall','reviewerID', 'asin', 'reviewerName', 'reviewTime','style', 'image'], inplace=True)\n",
        "print(df.shape)\n",
        "print(df.columns)"
      ]
    },
    {
      "cell_type": "code",
      "source": [
        "df = df[df['reviewText'].apply(lambda x: isinstance(x, str))] \n",
        "df = df[df['summary'].apply(lambda x: isinstance(x, str))]\n",
        "df.dropna(inplace=True)\n",
        "print(df.shape)\n",
        "print(df.head())"
      ],
      "metadata": {
        "colab": {
          "base_uri": "https://localhost:8080/"
        },
        "id": "sH2tmY5m4fIZ",
        "outputId": "5a7bdc47-7e79-4379-e94b-29fb0035b0d5"
      },
      "execution_count": null,
      "outputs": [
        {
          "output_type": "stream",
          "name": "stdout",
          "text": [
            "(9999, 8)\n",
            "   verified                                         reviewText  \\\n",
            "0      True  This game is a bit hard to get the hang of, bu...   \n",
            "1     False  I played it a while but it was alright. The st...   \n",
            "2      True                                           ok game.   \n",
            "3      True  found the game a bit too complicated, not what...   \n",
            "4      True  great game, I love it and have played it since...   \n",
            "\n",
            "                                       summary  unixReviewTime  vote  label  \\\n",
            "0                  but when you do it's great.      1445040000     0      2   \n",
            "1  But in spite of that it was fun, I liked it      1437955200     0      2   \n",
            "2                                  Three Stars      1424649600     0      1   \n",
            "3                                    Two Stars      1424390400     0      0   \n",
            "4                               love this game      1419465600     0      2   \n",
            "\n",
            "   reviewer_amount_of_reviews  reviewer_mean_score  \n",
            "0                           1                  5.0  \n",
            "1                           1                  4.0  \n",
            "2                           1                  3.0  \n",
            "3                           1                  2.0  \n",
            "4                           2                  5.0  \n"
          ]
        }
      ]
    },
    {
      "cell_type": "markdown",
      "metadata": {
        "id": "V5PDua9Y6-KF"
      },
      "source": [
        "## Emoji Detection and Replacement - not used"
      ]
    },
    {
      "cell_type": "code",
      "execution_count": null,
      "metadata": {
        "colab": {
          "base_uri": "https://localhost:8080/"
        },
        "id": "v2Itjg7W7Xpl",
        "outputId": "9183fb37-983f-41b2-aa16-0fe33c72770b"
      },
      "outputs": [
        {
          "output_type": "stream",
          "name": "stdout",
          "text": [
            "[\"This game is a bit hard to get the hang of, but when you do it's great.\", 'I played it a while but it was alright. The steam was a bit of trouble. The more they move these game to steam the more of a hard time I have activating and playing a game. But in spite of that it was fun, I liked it. Now I am looking forward to anno 2205 I really want to play my way to the moon.', 'ok game.', 'found the game a bit too complicated, not what I expected after having played 1602, 1503, and 1701', 'great game, I love it and have played it since its arrived']\n",
            "[\"but when you do it's great.\", 'But in spite of that it was fun, I liked it', 'Three Stars', 'Two Stars', 'love this game']\n",
            "(9999, 2)\n",
            "(9999, 12)\n",
            "<bound method NDFrame.head of       overall  verified   reviewTime      reviewerID        asin  \\\n",
            "0         5.0      True  10 17, 2015  A1HP7NVNPFMA4N  0700026657   \n",
            "1         4.0     False  07 27, 2015  A1JGAP0185YJI6  0700026657   \n",
            "2         3.0      True  02 23, 2015  A1YJWEXHQBWK2B  0700026657   \n",
            "3         2.0      True  02 20, 2015  A2204E1TH211HT  0700026657   \n",
            "4         5.0      True  12 25, 2014  A2RF5B5H74JLPE  0700026657   \n",
            "...       ...       ...          ...             ...         ...   \n",
            "9995      5.0     False  01 14, 2014  A3NY3HRSDU16NC  B00002SVFM   \n",
            "9996      5.0      True   01 3, 2014  A34210QTNJZBJX  B00002SVFM   \n",
            "9997      5.0     False  09 17, 2013  A3J8ABVGK7ZL6H  B00002SVFM   \n",
            "9998      5.0      True   08 5, 2013  A1P9TAGWA2VAE4  B00002SVFM   \n",
            "9999      3.0     False  03 19, 2005   ANAYSRE3LX8GZ  B00002SU0O   \n",
            "\n",
            "            reviewerName  unixReviewTime  label  reviewer_amount_of_reviews  \\\n",
            "0            Ambrosia075      1445040000      2                           1   \n",
            "1                 travis      1437955200      2                           1   \n",
            "2      Vincent G. Mezera      1424649600      1                           1   \n",
            "3             Grandma KR      1424390400      0                           1   \n",
            "4                    jon      1419465600      2                           2   \n",
            "...                  ...             ...    ...                         ...   \n",
            "9995  Demetrio Nieves4th      1389657600      2                           1   \n",
            "9996           brad dyer      1388707200      2                           3   \n",
            "9997             Ishmael      1379376000      2                          19   \n",
            "9998           JD Glover      1375660800      2                           2   \n",
            "9999        Micheal Hunt      1111190400      1                          24   \n",
            "\n",
            "      reviewer_mean_score                                         reviewText  \\\n",
            "0                5.000000  This game is a bit hard to get the hang of, bu...   \n",
            "1                4.000000  I played it a while but it was alright. The st...   \n",
            "2                3.000000                                           ok game.   \n",
            "3                2.000000  found the game a bit too complicated, not what...   \n",
            "4                5.000000  great game, I love it and have played it since...   \n",
            "...                   ...                                                ...   \n",
            "9995             5.000000  there are only 10 playable characters but it i...   \n",
            "9996             4.333333  KI has always been one of my person favorite f...   \n",
            "9997             3.157895  Had this when I was young. Me and my brother w...   \n",
            "9998             5.000000  This game was always pretty cool to me when it...   \n",
            "9999             3.500000                                                NaN   \n",
            "\n",
            "                                          summary  \n",
            "0                     but when you do it's great.  \n",
            "1     But in spite of that it was fun, I liked it  \n",
            "2                                     Three Stars  \n",
            "3                                       Two Stars  \n",
            "4                                  love this game  \n",
            "...                                           ...  \n",
            "9995                          great 2 player game  \n",
            "9996    One of the best fighting games ever made!  \n",
            "9997                                      LOVE IT  \n",
            "9998            It was the WWF game of it's time.  \n",
            "9999                                          NaN  \n",
            "\n",
            "[9999 rows x 12 columns]>\n"
          ]
        }
      ],
      "source": [
        "text = df['reviewText']\n",
        "label = df['label']\n",
        "summaries = df['summary']\n",
        "\n",
        "list_texts = list(text)\n",
        "list_summaries = list(summaries)\n",
        "\n",
        "pure_texts = []\n",
        "for text in list_texts:\n",
        "  pure_text = emoji.demojize(text, language='en')\n",
        "  pure_texts.append(pure_text)\n",
        "\n",
        "pure_summaries = []\n",
        "for summary in list_summaries:\n",
        "  pure_summary = emoji.demojize(summary, language='en')\n",
        "  pure_summaries.append(pure_summary) \n",
        "\n",
        "print(pure_texts[:5])\n",
        "print(pure_summaries[:5])\n",
        "\n",
        "text_without_sw = pd.DataFrame(pure_texts,columns=['reviewText'])\n",
        "summaries_without_sw = pd.DataFrame(pure_summaries, columns=['summary'])\n",
        "text_and_summary = pd.concat([summaries_without_sw, text_without_sw], axis=1)\n",
        "print(text_and_summary.shape)\n",
        "print(df.shape)\n",
        "df.reset_index(drop=True)\n",
        "df.drop(columns =['reviewText', 'summary'], inplace = True)\n",
        "df['reviewText'] = text_and_summary['reviewText']\n",
        "df['summary'] = text_and_summary['summary']\n",
        "print(df.head)"
      ]
    },
    {
      "cell_type": "markdown",
      "metadata": {
        "id": "XAvccEqX8n4R"
      },
      "source": [
        "## Data Transformation - not used"
      ]
    },
    {
      "cell_type": "code",
      "execution_count": null,
      "metadata": {
        "colab": {
          "base_uri": "https://localhost:8080/"
        },
        "id": "-Fr79gog8nVJ",
        "outputId": "8fd2e9ba-a1e1-46ff-e8b9-f559cf391eab"
      },
      "outputs": [
        {
          "output_type": "stream",
          "name": "stdout",
          "text": [
            "['This game is a bit hard to get the hang of but when you do it s great ']\n",
            "['but when you do it s great ']\n",
            "(9999, 2)\n",
            "(9999, 10)\n",
            "<bound method NDFrame.head of       overall  verified      reviewerID        asin  unixReviewTime  label  \\\n",
            "0         5.0      True  A1HP7NVNPFMA4N  0700026657      1445040000      2   \n",
            "1         4.0     False  A1JGAP0185YJI6  0700026657      1437955200      2   \n",
            "2         3.0      True  A1YJWEXHQBWK2B  0700026657      1424649600      1   \n",
            "3         2.0      True  A2204E1TH211HT  0700026657      1424390400      0   \n",
            "4         5.0      True  A2RF5B5H74JLPE  0700026657      1419465600      2   \n",
            "...       ...       ...             ...         ...             ...    ...   \n",
            "9995      5.0     False  A3NY3HRSDU16NC  B00002SVFM      1389657600      2   \n",
            "9996      5.0      True  A34210QTNJZBJX  B00002SVFM      1388707200      2   \n",
            "9997      5.0     False  A3J8ABVGK7ZL6H  B00002SVFM      1379376000      2   \n",
            "9998      5.0      True  A1P9TAGWA2VAE4  B00002SVFM      1375660800      2   \n",
            "9999      3.0     False   ANAYSRE3LX8GZ  B00002SU0O      1111190400      1   \n",
            "\n",
            "      reviewer_amount_of_reviews  reviewer_mean_score  \\\n",
            "0                              1             5.000000   \n",
            "1                              1             4.000000   \n",
            "2                              1             3.000000   \n",
            "3                              1             2.000000   \n",
            "4                              2             5.000000   \n",
            "...                          ...                  ...   \n",
            "9995                           1             5.000000   \n",
            "9996                           3             4.333333   \n",
            "9997                          19             3.157895   \n",
            "9998                           2             5.000000   \n",
            "9999                          24             3.500000   \n",
            "\n",
            "                                             reviewText  \\\n",
            "0     This game is a bit hard to get the hang of but...   \n",
            "1     I played it a while but it was alright The ste...   \n",
            "2                                              ok game    \n",
            "3     found the game a bit too complicated not what ...   \n",
            "4     great game I love it and have played it since ...   \n",
            "...                                                 ...   \n",
            "9995  there are only playable characters but it is s...   \n",
            "9996  KI has always been one of my person favorite f...   \n",
            "9997  Had this when I was young Me and my brother wo...   \n",
            "9998  This game was always pretty cool to me when it...   \n",
            "9999                                                NaN   \n",
            "\n",
            "                                         summary  \n",
            "0                    but when you do it s great   \n",
            "1     But in spite of that it was fun I liked it  \n",
            "2                                    Three Stars  \n",
            "3                                      Two Stars  \n",
            "4                                 love this game  \n",
            "...                                          ...  \n",
            "9995                           great player game  \n",
            "9996   One of the best fighting games ever made   \n",
            "9997                                     LOVE IT  \n",
            "9998           It was the WWF game of it s time   \n",
            "9999                                         NaN  \n",
            "\n",
            "[9999 rows x 10 columns]>\n"
          ]
        }
      ],
      "source": [
        "def transform_text(text):\n",
        "\n",
        "    # lowercasing\n",
        "    #text = text.lower()\n",
        "    \n",
        "    # remove everything that is not a word \n",
        "    text =  re.sub(\"[^A-Za-z]+\", \" \",text)\n",
        "\n",
        "    # remove Links \n",
        "    url_pattern = re.compile(r'https?://\\S+|www\\.\\S+')\n",
        "    text = url_pattern.sub(r'', text)\n",
        "    \n",
        "    return text\n",
        "text = df['reviewText']\n",
        "label = df['label']\n",
        "summaries = df['summary']\n",
        "\n",
        "list_texts = list(text)\n",
        "list_summaries = list(summaries)\n",
        "\n",
        "finished_text = []\n",
        "for i in range(len(list_texts)):\n",
        "    finished_text.append(transform_text(list_texts[i]))\n",
        "\n",
        "\n",
        "finished_summaries = []\n",
        "for i in range(len(list_summaries)):\n",
        "    finished_summaries.append(transform_text(list_summaries[i]))\n",
        "\n",
        "print(finished_text[:1])\n",
        "print(finished_summaries[:1])\n",
        "\n",
        "text_without_sw = pd.DataFrame(finished_text,columns=['reviewText'])\n",
        "summaries_without_sw = pd.DataFrame(finished_summaries, columns=['summary'])\n",
        "text_and_summary = pd.concat([summaries_without_sw, text_without_sw], axis=1)\n",
        "print(text_and_summary.shape)\n",
        "print(df.shape)\n",
        "df.reset_index(drop=True)\n",
        "df.drop(columns =['reviewText', 'summary'], inplace = True)\n",
        "df['reviewText'] = text_and_summary['reviewText']\n",
        "df['summary'] = text_and_summary['summary']\n",
        "print(df.head)"
      ]
    },
    {
      "cell_type": "markdown",
      "metadata": {
        "id": "pocsiti49v2l"
      },
      "source": [
        "## Tokenization "
      ]
    },
    {
      "cell_type": "code",
      "source": [
        "df = df[df['reviewText'].apply(lambda x: isinstance(x, str))] \n",
        "df = df[df['summary'].apply(lambda x: isinstance(x, str))]\n",
        "\n",
        "#tokenize and use stemming \n",
        "#stemmer = PorterStemmer()\n",
        "#print(df.head())\n",
        "#df['reviewText'] = df['reviewText'].apply(lambda x: ' '.join([stemmer.stem(word) for word in x.split()]))\n",
        "#df['summary'] = df['summary'].apply(lambda x: ' '.join([stemmer.stem(word) for word in x.split()]))\n",
        "#print(df.head())\n",
        "\n",
        "# tokenize and remove stopwords \n",
        "stop = stopwords.words('english')\n",
        "df['reviewText'] = df['reviewText'].apply(lambda x: ' '.join([word for word in x.split() if word not in (stop)]))\n",
        "df['summary'] = df['summary'].apply(lambda x: ' '.join([word for word in x.split() if word not in (stop)]))\n",
        "df.dropna(inplace=True)\n",
        "print(df.head())\n",
        "print(df.shape)"
      ],
      "metadata": {
        "colab": {
          "base_uri": "https://localhost:8080/"
        },
        "id": "Bs6W6wRsA1hz",
        "outputId": "d6845424-d0c3-45bf-9c75-402e42d95e21"
      },
      "execution_count": null,
      "outputs": [
        {
          "output_type": "stream",
          "name": "stdout",
          "text": [
            "   verified                                         reviewText  \\\n",
            "0      True             This game bit hard get hang of, great.   \n",
            "1     False  I played alright. The steam bit trouble. The m...   \n",
            "2      True                                           ok game.   \n",
            "3      True  found game bit complicated, I expected played ...   \n",
            "4      True            great game, I love played since arrived   \n",
            "\n",
            "                  summary  unixReviewTime  vote  label  \\\n",
            "0                  great.      1445040000     0      2   \n",
            "1  But spite fun, I liked      1437955200     0      2   \n",
            "2             Three Stars      1424649600     0      1   \n",
            "3               Two Stars      1424390400     0      0   \n",
            "4               love game      1419465600     0      2   \n",
            "\n",
            "   reviewer_amount_of_reviews  reviewer_mean_score  \n",
            "0                           1                  5.0  \n",
            "1                           1                  4.0  \n",
            "2                           1                  3.0  \n",
            "3                           1                  2.0  \n",
            "4                           2                  5.0  \n",
            "(9999, 8)\n"
          ]
        }
      ]
    },
    {
      "cell_type": "markdown",
      "source": [
        "# Train Test Split and shortening "
      ],
      "metadata": {
        "id": "h0Huq-553D0p"
      }
    },
    {
      "cell_type": "code",
      "source": [
        "df.dropna(inplace=True)\n",
        "df = df[df['reviewText'].apply(lambda x: isinstance(x, str))] \n",
        "df = df[df['summary'].apply(lambda x: isinstance(x, str))]"
      ],
      "metadata": {
        "id": "V304yhm93NOu"
      },
      "execution_count": null,
      "outputs": []
    },
    {
      "cell_type": "code",
      "source": [
        "# split into train and test set \n",
        "x_train, x_test = train_test_split(df, test_size=0.2, random_state = 453, stratify=df['label'])\n",
        "\n",
        "y_train = x_train['label']\n",
        "y_test = x_test['label']\n",
        "\n",
        "print (f\"y_train: {y_train.shape}/ x_train: {x_train.shape}\")\n",
        "print (f\"y_test: {y_test.shape}/ x_test: {x_test.shape}\")\n",
        "\n",
        "print(x_train.head())"
      ],
      "metadata": {
        "colab": {
          "base_uri": "https://localhost:8080/"
        },
        "id": "W4AtH8CR3SKs",
        "outputId": "88effd13-b063-4f91-9414-7db8d81f051f"
      },
      "execution_count": null,
      "outputs": [
        {
          "output_type": "stream",
          "name": "stdout",
          "text": [
            "y_train: (7999,)/ x_train: (7999, 8)\n",
            "y_test: (2000,)/ x_test: (2000, 8)\n",
            "      verified                                         reviewText  \\\n",
            "4093     False  Mechwarrior 3 sequel classic mechwarrior 2 mad...   \n",
            "9177      True  This game may greatest Mario RPG Nintendo ever...   \n",
            "9183      True  I love game, honestly need remake game updated...   \n",
            "5141     False  Quite simply quite possibly best game ever mad...   \n",
            "2430      True  It works like one N64. It's little bit bigger ...   \n",
            "\n",
            "                                     summary  unixReviewTime  vote  label  \\\n",
            "4093  Great graphics, gamplay yet short easy       944524800     2      2   \n",
            "9177                   The Mario RPG started      1359331200     0      2   \n",
            "9183               One best Mario games ever      1355702400     0      2   \n",
            "5141             Castlevania: Symphony Night      1105401600     0      2   \n",
            "2430          Other-brand N64 Expansion Pack      1174694400     0      2   \n",
            "\n",
            "      reviewer_amount_of_reviews  reviewer_mean_score  \n",
            "4093                           5             4.800000  \n",
            "9177                           1             5.000000  \n",
            "9183                           3             5.000000  \n",
            "5141                           6             4.833333  \n",
            "2430                           6             4.000000  \n"
          ]
        }
      ]
    },
    {
      "cell_type": "markdown",
      "metadata": {
        "id": "-c_g4TzPQt8_"
      },
      "source": [
        "# Model Training"
      ]
    },
    {
      "cell_type": "markdown",
      "metadata": {
        "id": "hTCfxyjHohj8"
      },
      "source": [
        "## Set Up Pipeline"
      ]
    },
    {
      "cell_type": "code",
      "execution_count": null,
      "metadata": {
        "id": "da4hsNzPog0r",
        "colab": {
          "base_uri": "https://localhost:8080/"
        },
        "outputId": "74b075b3-a0a4-44a6-dd13-e320dd78143f"
      },
      "outputs": [
        {
          "output_type": "stream",
          "name": "stdout",
          "text": [
            "(7999, 7)\n",
            "(7999,)\n",
            "      verified                                         reviewText  \\\n",
            "4093     False  Mechwarrior 3 sequel classic mechwarrior 2 mad...   \n",
            "9177      True  This game may greatest Mario RPG Nintendo ever...   \n",
            "9183      True  I love game, honestly need remake game updated...   \n",
            "5141     False  Quite simply quite possibly best game ever mad...   \n",
            "2430      True  It works like one N64. It's little bit bigger ...   \n",
            "\n",
            "                                     summary  unixReviewTime  vote  \\\n",
            "4093  Great graphics, gamplay yet short easy       944524800     2   \n",
            "9177                   The Mario RPG started      1359331200     0   \n",
            "9183               One best Mario games ever      1355702400     0   \n",
            "5141             Castlevania: Symphony Night      1105401600     0   \n",
            "2430          Other-brand N64 Expansion Pack      1174694400     0   \n",
            "\n",
            "      reviewer_amount_of_reviews  reviewer_mean_score  \n",
            "4093                           5             4.800000  \n",
            "9177                           1             5.000000  \n",
            "9183                           3             5.000000  \n",
            "5141                           6             4.833333  \n",
            "2430                           6             4.000000  \n"
          ]
        }
      ],
      "source": [
        "\n",
        "# define transforms\n",
        "transformer = ColumnTransformer(transformers=[('tf_reviewText', TfidfVectorizer(), 'reviewText'), ('tf_summary', TfidfVectorizer(), 'summary')], remainder='passthrough')\n",
        "\n",
        "# define sampling\n",
        "sampling = RandomOverSampler(random_state=453)\n",
        "\n",
        "# define the scoring function\n",
        "f1 = make_scorer(f1_score, average='weighted')\n",
        "\n",
        "# set up cross validation configuration\n",
        "cv = StratifiedKFold(n_splits=5, shuffle=True, random_state=42)\n",
        "\n",
        "# dataset preparation\n",
        "x_train.drop(columns = ['label'], inplace= True)\n",
        "x_test.drop(columns = ['label'], inplace= True)\n",
        "#x_train = x_train[['reviewText','summary']]\n",
        "#x_valid = x_valid[['reviewText', 'summary']]\n",
        "print(x_train.shape)\n",
        "print(y_train.shape)\n",
        "print(x_train.head(5))\n",
        "\n",
        "\n"
      ]
    },
    {
      "cell_type": "markdown",
      "metadata": {
        "id": "GjcsWovnRMvl"
      },
      "source": [
        "## Naïve Bayes"
      ]
    },
    {
      "cell_type": "code",
      "execution_count": null,
      "metadata": {
        "colab": {
          "base_uri": "https://localhost:8080/"
        },
        "id": "kJvXgDr9qutk",
        "outputId": "c637a2d1-7ed0-4d61-c21d-674864e392a4"
      },
      "outputs": [
        {
          "output_type": "stream",
          "name": "stdout",
          "text": [
            "Pipeline(steps=[('FeaturePreprocessing',\n",
            "                 ColumnTransformer(remainder='passthrough',\n",
            "                                   transformers=[('tf_reviewText',\n",
            "                                                  TfidfVectorizer(),\n",
            "                                                  'reviewText'),\n",
            "                                                 ('tf_summary',\n",
            "                                                  TfidfVectorizer(),\n",
            "                                                  'summary')])),\n",
            "                ('balancing', RandomOverSampler(random_state=453)),\n",
            "                ('estimator', MultinomialNB())])\n",
            "Fitting 5 folds for each of 6 candidates, totalling 30 fits\n",
            "--- 15.70952844619751 seconds ---\n",
            "Multinomial NBClassifier: 82.68427700534534% F1-score for class 'label' with parameters {'estimator__alpha': 0.1}\n"
          ]
        },
        {
          "output_type": "execute_result",
          "data": {
            "text/plain": [
              "['/content/drive/My Drive/Web_Mining_Project/classifier_parameters/nb.pkl']"
            ]
          },
          "metadata": {},
          "execution_count": 30
        }
      ],
      "source": [
        "\n",
        "# Optimize parameters for NB Classifier\n",
        "from sklearn.naive_bayes import MultinomialNB\n",
        "estimator = MultinomialNB()\n",
        "\n",
        "# Define grid of possible hyperparamters values \n",
        "parameters = {\n",
        "#'vectorizer__max_df': [0.25, 0.5, 0.75, 1.0],\n",
        "    #'vectorizer__smooth_idf': (True, False),\n",
        "    #'vectorizer__norm': ('l1', 'l2', None),\n",
        "    'estimator__alpha': [ 0.0001, 0.001, 0.01, 0.1, 1, 10],\n",
        "}\n",
        "\n",
        "# Create a pipeline\n",
        "pipeline = Pipeline([ ('FeaturePreprocessing', transformer),('balancing', sampling), ('estimator', estimator) ])\n",
        "print(pipeline)\n",
        "\n",
        "# Hyperparameter optimization with Grid Search\n",
        "start_time = time.time()\n",
        "grid_search_estimator = GridSearchCV(pipeline, parameters, scoring=f1, cv=cv, return_train_score=False, n_jobs=-1, verbose=10)\n",
        "grid_search_estimator.fit(x_train, y_train)\n",
        "\n",
        "print(\"--- %s seconds ---\" % (time.time() - start_time))\n",
        "print(\"Multinomial NBClassifier: {}% F1-score for class 'label' with parameters {}\".format(grid_search_estimator.best_score_ * 100, grid_search_estimator.best_params_))\n",
        "\n",
        "# Save hyperparameter optmization results\n",
        "df_hyper = pd.DataFrame(grid_search_estimator.cv_results_)\n",
        "df_hyper.to_csv(path_hyperparameters_nb, index=False)\n",
        "\n",
        "# Save best hyperparameters values\n",
        "joblib.dump(grid_search_estimator.best_params_, path_best_parameters_nb, compress = 1) # Only best parameters\n"
      ]
    },
    {
      "cell_type": "code",
      "execution_count": null,
      "metadata": {
        "colab": {
          "base_uri": "https://localhost:8080/",
          "height": 470
        },
        "id": "GZuCTfkb-TFF",
        "outputId": "a06b0a00-dc6a-4180-b545-3258adc97fd5"
      },
      "outputs": [
        {
          "output_type": "stream",
          "name": "stdout",
          "text": [
            "              precision    recall  f1-score   support\n",
            "\n",
            "           0       0.54      0.48      0.51       151\n",
            "           1       0.22      0.35      0.27       162\n",
            "           2       0.92      0.88      0.90      1687\n",
            "\n",
            "    accuracy                           0.81      2000\n",
            "   macro avg       0.56      0.57      0.56      2000\n",
            "weighted avg       0.84      0.81      0.82      2000\n",
            "\n"
          ]
        },
        {
          "output_type": "display_data",
          "data": {
            "text/plain": [
              "<Figure size 432x288 with 2 Axes>"
            ],
            "image/png": "[encoded data removed]"
          },
          "metadata": {
            "needs_background": "light"
          }
        }
      ],
      "source": [
        "#x_test = x_test['reviewText']\n",
        "prediction = grid_search_estimator.predict(x_test)\n",
        "cm = confusion_matrix(y_test, prediction)\n",
        "plot_confusion_matrix(cm, classes = unique_labels(y_test), title = \"NB Classifier on Test Set\")\n",
        "print(classification_report(y_test, prediction))"
      ]
    }
  ],
  "metadata": {
    "accelerator": "GPU",
    "colab": {
      "collapsed_sections": [],
      "name": "amazon_reviews_sentiment_pre_processing_eval.ipynb",
      "toc_visible": true,
      "provenance": []
    },
    "kernelspec": {
      "display_name": "Python 3",
      "language": "python",
      "name": "python3"
    },
    "language_info": {
      "codemirror_mode": {
        "name": "ipython",
        "version": 3
      },
      "file_extension": ".py",
      "mimetype": "text/x-python",
      "name": "python",
      "nbconvert_exporter": "python",
      "pygments_lexer": "ipython3",
      "version": "3.6.9"
    }
  },
  "nbformat": 4,
  "nbformat_minor": 0
}
