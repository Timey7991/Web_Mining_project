{
  "cells": [
    {
      "cell_type": "markdown",
      "metadata": {
        "id": "pdIoGVy0dLFJ"
      },
      "source": [
        "# Set up"
      ]
    },
    {
      "cell_type": "markdown",
      "metadata": {
        "id": "dAbpqgiYZQTw"
      },
      "source": [
        "## Package Loading"
      ]
    },
    {
      "cell_type": "code",
      "execution_count": 1,
      "metadata": {
        "colab": {
          "base_uri": "https://localhost:8080/"
        },
        "id": "pkuSpTlmZZ17",
        "outputId": "4fe56576-1750-48fa-ee05-bb11c13906ea"
      },
      "outputs": [
        {
          "output_type": "stream",
          "name": "stdout",
          "text": [
            "Looking in indexes: https://pypi.org/simple, https://us-python.pkg.dev/colab-wheels/public/simple/\n",
            "Collecting emoji\n",
            "  Downloading emoji-1.7.0.tar.gz (175 kB)\n",
            "\u001b[K     |████████████████████████████████| 175 kB 4.3 MB/s \n",
            "\u001b[?25hBuilding wheels for collected packages: emoji\n",
            "  Building wheel for emoji (setup.py) ... \u001b[?25l\u001b[?25hdone\n",
            "  Created wheel for emoji: filename=emoji-1.7.0-py3-none-any.whl size=171046 sha256=1a7454e88962003bf3c3f10d9fe49446baeafe74a8b18cf5fd10cca2db1c83ef\n",
            "  Stored in directory: /root/.cache/pip/wheels/8a/4e/b6/57b01db010d17ef6ea9b40300af725ef3e210cb1acfb7ac8b6\n",
            "Successfully built emoji\n",
            "Installing collected packages: emoji\n",
            "Successfully installed emoji-1.7.0\n",
            "Looking in indexes: https://pypi.org/simple, https://us-python.pkg.dev/colab-wheels/public/simple/\n",
            "Requirement already satisfied: nltk in /usr/local/lib/python3.7/dist-packages (3.2.5)\n",
            "Requirement already satisfied: six in /usr/local/lib/python3.7/dist-packages (from nltk) (1.15.0)\n",
            "[nltk_data] Downloading package punkt to /root/nltk_data...\n",
            "[nltk_data]   Unzipping tokenizers/punkt.zip.\n",
            "[nltk_data] Downloading package stopwords to /root/nltk_data...\n",
            "[nltk_data]   Unzipping corpora/stopwords.zip.\n",
            "Looking in indexes: https://pypi.org/simple, https://us-python.pkg.dev/colab-wheels/public/simple/\n",
            "Requirement already satisfied: imblearn in /usr/local/lib/python3.7/dist-packages (0.0)\n",
            "Requirement already satisfied: imbalanced-learn in /usr/local/lib/python3.7/dist-packages (from imblearn) (0.8.1)\n",
            "Requirement already satisfied: scipy>=0.19.1 in /usr/local/lib/python3.7/dist-packages (from imbalanced-learn->imblearn) (1.4.1)\n",
            "Requirement already satisfied: scikit-learn>=0.24 in /usr/local/lib/python3.7/dist-packages (from imbalanced-learn->imblearn) (1.0.2)\n",
            "Requirement already satisfied: joblib>=0.11 in /usr/local/lib/python3.7/dist-packages (from imbalanced-learn->imblearn) (1.1.0)\n",
            "Requirement already satisfied: numpy>=1.13.3 in /usr/local/lib/python3.7/dist-packages (from imbalanced-learn->imblearn) (1.21.6)\n",
            "Requirement already satisfied: threadpoolctl>=2.0.0 in /usr/local/lib/python3.7/dist-packages (from scikit-learn>=0.24->imbalanced-learn->imblearn) (3.1.0)\n",
            "Mounted at /content/drive\n"
          ]
        }
      ],
      "source": [
        "import pandas as pd\n",
        "import numpy as np\n",
        "import itertools\n",
        "!pip install emoji\n",
        "import emoji\n",
        "import re\n",
        "!pip install nltk\n",
        "import nltk\n",
        "nltk.download('punkt')\n",
        "nltk.download('stopwords')\n",
        "from nltk.corpus import stopwords \n",
        "from nltk.tokenize import word_tokenize \n",
        "from nltk.stem import PorterStemmer \n",
        "from sklearn.utils.multiclass import unique_labels\n",
        "from sklearn.feature_extraction.text import TfidfVectorizer, CountVectorizer\n",
        "! pip install imblearn\n",
        "from imblearn.pipeline import Pipeline\n",
        "from imblearn.over_sampling import RandomOverSampler, ADASYN, SMOTE\n",
        "from imblearn.under_sampling import RandomUnderSampler, NearMiss\n",
        "from sklearn.pipeline import make_pipeline\n",
        "from sklearn.model_selection import train_test_split, StratifiedKFold, cross_val_predict, GridSearchCV\n",
        "from sklearn.svm import LinearSVC\n",
        "from sklearn.ensemble import RandomForestClassifier\n",
        "from sklearn.linear_model import LogisticRegression\n",
        "from sklearn.metrics import classification_report, accuracy_score, confusion_matrix, f1_score, make_scorer\n",
        "from sklearn.compose import ColumnTransformer\n",
        "import mlxtend\n",
        "import matplotlib.pyplot as plt\n",
        "import time\n",
        "import joblib\n",
        "import gzip\n",
        "import json\n",
        "import seaborn as sns\n",
        "from google.colab import drive\n",
        "drive.mount('/content/drive')"
      ]
    },
    {
      "cell_type": "markdown",
      "metadata": {
        "id": "bhhHbBWheQb-"
      },
      "source": [
        "## Set Up paths"
      ]
    },
    {
      "cell_type": "code",
      "execution_count": 2,
      "metadata": {
        "id": "frFeRDORe2DQ"
      },
      "outputs": [],
      "source": [
        "# Parent paths\n",
        "parent_path = '/content/drive/My Drive/'\n",
        "\n",
        "\n",
        "#Specific paths\n",
        "path_hyperparameters_nb = parent_path+\"Web_Mining_Project/2labels/classifier_parameters/best_parameters/nb.csv\"\n",
        "path_hyperparameters_knn = parent_path+\"Web_Mining_Project/2labels/classifier_parameters/best_parameters/knn.csv\"\n",
        "path_hyperparameters_rf = parent_path+\"Web_Mining_Project/2labels/classifier_parameters/best_parameters/rf.csv\"\n",
        "path_hyperparameters_svm = parent_path+\"Web_Mining_Project/2labels/classifier_parameters/best_parameters/svm.csv\"\n",
        "path_hyperparameters_lr = parent_path+\"Web_Mining_Project/with_pre/classifier_parameters/best_parameters/lr.csv\"\n",
        "\n",
        "path_best_parameters_nb = parent_path+\"Web_Mining_Project/2labels/classifier_parameters/nb.pkl\"\n",
        "path_best_parameters_knn = parent_path+\"Web_Mining_Project/2labels/classifier_parameters/knn.pkl\"\n",
        "path_best_parameters_rf = parent_path+\"Web_Mining_Project/2labels/classifier_parameters/rf.pkl\"\n",
        "path_best_parameters_svm = parent_path+\"Web_Mining_Project/2labels/classifier_parameters/svm.pkl\"\n",
        "path_best_parameters_lr = parent_path+\"Web_Mining_Project/2labels/classifier_parameters/lr.pkl\"\n",
        "#dataset paths \n",
        "path_complete_dataset = parent_path + \"Web_Mining_Project/data/complete_dataset.csv\"\n",
        "path_shortend_dataset = parent_path + \"Web_Mining_Project/data/shortend10000_dataset.csv\"\n",
        "path_shortend10000_preprocessed = parent_path + \"Web_Mining_Project/data/shortend10000_dataset_preprocessed.csv\"\n",
        "path_shortend50000_preprocessed = parent_path + \"Web_Mining_Project/data/shortend50000_dataset_preprocessed.csv\""
      ]
    },
    {
      "cell_type": "markdown",
      "metadata": {
        "id": "ghQeUaKCgx2L"
      },
      "source": [
        "## Set Up Functions"
      ]
    },
    {
      "cell_type": "code",
      "execution_count": 3,
      "metadata": {
        "id": "_IgovWRmgwRa"
      },
      "outputs": [],
      "source": [
        "# function for evaluation(confusion matrix)\n",
        "def plot_confusion_matrix(cm, classes,\n",
        "                          normalize=False,\n",
        "                          title='Confusion matrix',\n",
        "                          cmap=plt.cm.Blues):\n",
        "    \"\"\"\n",
        "    This function prints and plots the confusion matrix.\n",
        "    Normalization can be applied by setting `normalize=True`.\n",
        "    \"\"\"\n",
        "    if normalize:\n",
        "        cm = cm.astype('float') / cm.sum(axis=1)[:, np.newaxis]\n",
        "\n",
        "    plt.imshow(cm, interpolation='nearest', cmap=cmap)\n",
        "    plt.title(title)\n",
        "    plt.colorbar()\n",
        "    tick_marks = np.arange(len(classes))\n",
        "    plt.xticks(tick_marks, classes, rotation=45)\n",
        "    plt.yticks(tick_marks, classes)\n",
        "\n",
        "    fmt = '.2f' if normalize else 'd'\n",
        "    thresh = cm.max() / 2.\n",
        "    for i, j in itertools.product(range(cm.shape[0]), range(cm.shape[1])):\n",
        "        plt.text(j, i, format(cm[i, j], fmt),\n",
        "                 horizontalalignment=\"center\",\n",
        "                 color=\"white\" if cm[i, j] > thresh else \"black\")\n",
        "\n",
        "    plt.ylabel('True label')\n",
        "    plt.xlabel('Predicted label')\n",
        "    plt.tight_layout()\n",
        "\n",
        "# function for sentiment label creating \n",
        "def create_labels_from_rating(score):\n",
        "  score = int(score)\n",
        "  if score <= 2:\n",
        "    return 0 #negative\n",
        "  elif score == 3:\n",
        "    return 1 #neutral\n",
        "  else:\n",
        "    return 2 #positive\n",
        "  \n",
        "# function to bin vote column \n",
        "def bin_vote(vote):\n",
        "  vote = int(vote)\n",
        "\n",
        "  if vote < 2:\n",
        "    return 0\n",
        "  elif vote >= 2 and vote <= 6:\n",
        "    return 1 \n",
        "  else:\n",
        "    return 2"
      ]
    },
    {
      "cell_type": "markdown",
      "metadata": {
        "id": "2psw4oRk5UQu"
      },
      "source": [
        "# Data Download and Exploration"
      ]
    },
    {
      "cell_type": "code",
      "execution_count": 4,
      "metadata": {
        "colab": {
          "base_uri": "https://localhost:8080/",
          "height": 268
        },
        "id": "gOg75kouWVna",
        "outputId": "22f001f7-18ef-4c5a-db10-e15201ef2043"
      },
      "outputs": [
        {
          "output_type": "stream",
          "name": "stdout",
          "text": [
            "(10000, 12)\n"
          ]
        },
        {
          "output_type": "execute_result",
          "data": {
            "text/plain": [
              "   overall  verified   reviewTime      reviewerID        asin  \\\n",
              "0      5.0      True  10 17, 2015  A1HP7NVNPFMA4N  0700026657   \n",
              "1      4.0     False  07 27, 2015  A1JGAP0185YJI6  0700026657   \n",
              "2      3.0      True  02 23, 2015  A1YJWEXHQBWK2B  0700026657   \n",
              "3      2.0      True  02 20, 2015  A2204E1TH211HT  0700026657   \n",
              "4      5.0      True  12 25, 2014  A2RF5B5H74JLPE  0700026657   \n",
              "\n",
              "        reviewerName                                         reviewText  \\\n",
              "0        Ambrosia075  This game is a bit hard to get the hang of, bu...   \n",
              "1             travis  I played it a while but it was alright. The st...   \n",
              "2  Vincent G. Mezera                                           ok game.   \n",
              "3         Grandma KR  found the game a bit too complicated, not what...   \n",
              "4                jon  great game, I love it and have played it since...   \n",
              "\n",
              "                                       summary  unixReviewTime  vote style  \\\n",
              "0                  but when you do it's great.      1445040000   NaN   NaN   \n",
              "1  But in spite of that it was fun, I liked it      1437955200   NaN   NaN   \n",
              "2                                  Three Stars      1424649600   NaN   NaN   \n",
              "3                                    Two Stars      1424390400   NaN   NaN   \n",
              "4                               love this game      1419465600   NaN   NaN   \n",
              "\n",
              "  image  \n",
              "0   NaN  \n",
              "1   NaN  \n",
              "2   NaN  \n",
              "3   NaN  \n",
              "4   NaN  "
            ],
            "text/html": [
              "\n",
              "  <div id=\"df-45ad713e-d1d6-4d4f-9c30-b0aaec5ec814\">\n",
              "    <div class=\"colab-df-container\">\n",
              "      <div>\n",
              "<style scoped>\n",
              "    .dataframe tbody tr th:only-of-type {\n",
              "        vertical-align: middle;\n",
              "    }\n",
              "\n",
              "    .dataframe tbody tr th {\n",
              "        vertical-align: top;\n",
              "    }\n",
              "\n",
              "    .dataframe thead th {\n",
              "        text-align: right;\n",
              "    }\n",
              "</style>\n",
              "<table border=\"1\" class=\"dataframe\">\n",
              "  <thead>\n",
              "    <tr style=\"text-align: right;\">\n",
              "      <th></th>\n",
              "      <th>overall</th>\n",
              "      <th>verified</th>\n",
              "      <th>reviewTime</th>\n",
              "      <th>reviewerID</th>\n",
              "      <th>asin</th>\n",
              "      <th>reviewerName</th>\n",
              "      <th>reviewText</th>\n",
              "      <th>summary</th>\n",
              "      <th>unixReviewTime</th>\n",
              "      <th>vote</th>\n",
              "      <th>style</th>\n",
              "      <th>image</th>\n",
              "    </tr>\n",
              "  </thead>\n",
              "  <tbody>\n",
              "    <tr>\n",
              "      <th>0</th>\n",
              "      <td>5.0</td>\n",
              "      <td>True</td>\n",
              "      <td>10 17, 2015</td>\n",
              "      <td>A1HP7NVNPFMA4N</td>\n",
              "      <td>0700026657</td>\n",
              "      <td>Ambrosia075</td>\n",
              "      <td>This game is a bit hard to get the hang of, bu...</td>\n",
              "      <td>but when you do it's great.</td>\n",
              "      <td>1445040000</td>\n",
              "      <td>NaN</td>\n",
              "      <td>NaN</td>\n",
              "      <td>NaN</td>\n",
              "    </tr>\n",
              "    <tr>\n",
              "      <th>1</th>\n",
              "      <td>4.0</td>\n",
              "      <td>False</td>\n",
              "      <td>07 27, 2015</td>\n",
              "      <td>A1JGAP0185YJI6</td>\n",
              "      <td>0700026657</td>\n",
              "      <td>travis</td>\n",
              "      <td>I played it a while but it was alright. The st...</td>\n",
              "      <td>But in spite of that it was fun, I liked it</td>\n",
              "      <td>1437955200</td>\n",
              "      <td>NaN</td>\n",
              "      <td>NaN</td>\n",
              "      <td>NaN</td>\n",
              "    </tr>\n",
              "    <tr>\n",
              "      <th>2</th>\n",
              "      <td>3.0</td>\n",
              "      <td>True</td>\n",
              "      <td>02 23, 2015</td>\n",
              "      <td>A1YJWEXHQBWK2B</td>\n",
              "      <td>0700026657</td>\n",
              "      <td>Vincent G. Mezera</td>\n",
              "      <td>ok game.</td>\n",
              "      <td>Three Stars</td>\n",
              "      <td>1424649600</td>\n",
              "      <td>NaN</td>\n",
              "      <td>NaN</td>\n",
              "      <td>NaN</td>\n",
              "    </tr>\n",
              "    <tr>\n",
              "      <th>3</th>\n",
              "      <td>2.0</td>\n",
              "      <td>True</td>\n",
              "      <td>02 20, 2015</td>\n",
              "      <td>A2204E1TH211HT</td>\n",
              "      <td>0700026657</td>\n",
              "      <td>Grandma KR</td>\n",
              "      <td>found the game a bit too complicated, not what...</td>\n",
              "      <td>Two Stars</td>\n",
              "      <td>1424390400</td>\n",
              "      <td>NaN</td>\n",
              "      <td>NaN</td>\n",
              "      <td>NaN</td>\n",
              "    </tr>\n",
              "    <tr>\n",
              "      <th>4</th>\n",
              "      <td>5.0</td>\n",
              "      <td>True</td>\n",
              "      <td>12 25, 2014</td>\n",
              "      <td>A2RF5B5H74JLPE</td>\n",
              "      <td>0700026657</td>\n",
              "      <td>jon</td>\n",
              "      <td>great game, I love it and have played it since...</td>\n",
              "      <td>love this game</td>\n",
              "      <td>1419465600</td>\n",
              "      <td>NaN</td>\n",
              "      <td>NaN</td>\n",
              "      <td>NaN</td>\n",
              "    </tr>\n",
              "  </tbody>\n",
              "</table>\n",
              "</div>\n",
              "      <button class=\"colab-df-convert\" onclick=\"convertToInteractive('df-45ad713e-d1d6-4d4f-9c30-b0aaec5ec814')\"\n",
              "              title=\"Convert this dataframe to an interactive table.\"\n",
              "              style=\"display:none;\">\n",
              "        \n",
              "  <svg xmlns=\"http://www.w3.org/2000/svg\" height=\"24px\"viewBox=\"0 0 24 24\"\n",
              "       width=\"24px\">\n",
              "    <path d=\"M0 0h24v24H0V0z\" fill=\"none\"/>\n",
              "    <path d=\"M18.56 5.44l.94 2.06.94-2.06 2.06-.94-2.06-.94-.94-2.06-.94 2.06-2.06.94zm-11 1L8.5 8.5l.94-2.06 2.06-.94-2.06-.94L8.5 2.5l-.94 2.06-2.06.94zm10 10l.94 2.06.94-2.06 2.06-.94-2.06-.94-.94-2.06-.94 2.06-2.06.94z\"/><path d=\"M17.41 7.96l-1.37-1.37c-.4-.4-.92-.59-1.43-.59-.52 0-1.04.2-1.43.59L10.3 9.45l-7.72 7.72c-.78.78-.78 2.05 0 2.83L4 21.41c.39.39.9.59 1.41.59.51 0 1.02-.2 1.41-.59l7.78-7.78 2.81-2.81c.8-.78.8-2.07 0-2.86zM5.41 20L4 18.59l7.72-7.72 1.47 1.35L5.41 20z\"/>\n",
              "  </svg>\n",
              "      </button>\n",
              "      \n",
              "  <style>\n",
              "    .colab-df-container {\n",
              "      display:flex;\n",
              "      flex-wrap:wrap;\n",
              "      gap: 12px;\n",
              "    }\n",
              "\n",
              "    .colab-df-convert {\n",
              "      background-color: #E8F0FE;\n",
              "      border: none;\n",
              "      border-radius: 50%;\n",
              "      cursor: pointer;\n",
              "      display: none;\n",
              "      fill: #1967D2;\n",
              "      height: 32px;\n",
              "      padding: 0 0 0 0;\n",
              "      width: 32px;\n",
              "    }\n",
              "\n",
              "    .colab-df-convert:hover {\n",
              "      background-color: #E2EBFA;\n",
              "      box-shadow: 0px 1px 2px rgba(60, 64, 67, 0.3), 0px 1px 3px 1px rgba(60, 64, 67, 0.15);\n",
              "      fill: #174EA6;\n",
              "    }\n",
              "\n",
              "    [theme=dark] .colab-df-convert {\n",
              "      background-color: #3B4455;\n",
              "      fill: #D2E3FC;\n",
              "    }\n",
              "\n",
              "    [theme=dark] .colab-df-convert:hover {\n",
              "      background-color: #434B5C;\n",
              "      box-shadow: 0px 1px 3px 1px rgba(0, 0, 0, 0.15);\n",
              "      filter: drop-shadow(0px 1px 2px rgba(0, 0, 0, 0.3));\n",
              "      fill: #FFFFFF;\n",
              "    }\n",
              "  </style>\n",
              "\n",
              "      <script>\n",
              "        const buttonEl =\n",
              "          document.querySelector('#df-45ad713e-d1d6-4d4f-9c30-b0aaec5ec814 button.colab-df-convert');\n",
              "        buttonEl.style.display =\n",
              "          google.colab.kernel.accessAllowed ? 'block' : 'none';\n",
              "\n",
              "        async function convertToInteractive(key) {\n",
              "          const element = document.querySelector('#df-45ad713e-d1d6-4d4f-9c30-b0aaec5ec814');\n",
              "          const dataTable =\n",
              "            await google.colab.kernel.invokeFunction('convertToInteractive',\n",
              "                                                     [key], {});\n",
              "          if (!dataTable) return;\n",
              "\n",
              "          const docLinkHtml = 'Like what you see? Visit the ' +\n",
              "            '<a target=\"_blank\" href=https://colab.research.google.com/notebooks/data_table.ipynb>data table notebook</a>'\n",
              "            + ' to learn more about interactive tables.';\n",
              "          element.innerHTML = '';\n",
              "          dataTable['output_type'] = 'display_data';\n",
              "          await google.colab.output.renderOutput(dataTable, element);\n",
              "          const docLink = document.createElement('div');\n",
              "          docLink.innerHTML = docLinkHtml;\n",
              "          element.appendChild(docLink);\n",
              "        }\n",
              "      </script>\n",
              "    </div>\n",
              "  </div>\n",
              "  "
            ]
          },
          "metadata": {},
          "execution_count": 4
        }
      ],
      "source": [
        "# create dataframe \n",
        "df = pd.read_csv(path_shortend_dataset)\n",
        "df.drop(columns=['Unnamed: 0'], inplace=True)\n",
        "print(df.shape)\n",
        "df.head()"
      ]
    },
    {
      "cell_type": "code",
      "execution_count": 5,
      "metadata": {
        "colab": {
          "base_uri": "https://localhost:8080/",
          "height": 1000
        },
        "id": "G_CWaKAg6ceh",
        "outputId": "476158bd-9267-44df-ec92-b9e833da1218"
      },
      "outputs": [
        {
          "output_type": "stream",
          "name": "stdout",
          "text": [
            "overall           False\n",
            "verified          False\n",
            "reviewTime        False\n",
            "reviewerID        False\n",
            "asin              False\n",
            "reviewerName      False\n",
            "reviewText        False\n",
            "summary            True\n",
            "unixReviewTime    False\n",
            "vote               True\n",
            "style              True\n",
            "image              True\n",
            "dtype: bool\n",
            "\n",
            "<class 'pandas.core.frame.DataFrame'>\n",
            "RangeIndex: 10000 entries, 0 to 9999\n",
            "Data columns (total 12 columns):\n",
            " #   Column          Non-Null Count  Dtype  \n",
            "---  ------          --------------  -----  \n",
            " 0   overall         10000 non-null  float64\n",
            " 1   verified        10000 non-null  bool   \n",
            " 2   reviewTime      10000 non-null  object \n",
            " 3   reviewerID      10000 non-null  object \n",
            " 4   asin            10000 non-null  object \n",
            " 5   reviewerName    10000 non-null  object \n",
            " 6   reviewText      10000 non-null  object \n",
            " 7   summary         9999 non-null   object \n",
            " 8   unixReviewTime  10000 non-null  int64  \n",
            " 9   vote            2716 non-null   float64\n",
            " 10  style           3784 non-null   object \n",
            " 11  image           50 non-null     object \n",
            "dtypes: bool(1), float64(2), int64(1), object(8)\n",
            "memory usage: 869.3+ KB\n",
            "\n",
            "overall           float64\n",
            "verified             bool\n",
            "reviewTime         object\n",
            "reviewerID         object\n",
            "asin               object\n",
            "reviewerName       object\n",
            "reviewText         object\n",
            "summary            object\n",
            "unixReviewTime      int64\n",
            "vote              float64\n",
            "style              object\n",
            "image              object\n",
            "dtype: object\n",
            "\n",
            "count    10000.000000\n",
            "mean         4.391900\n",
            "std          1.042316\n",
            "min          1.000000\n",
            "25%          4.000000\n",
            "50%          5.000000\n",
            "75%          5.000000\n",
            "max          5.000000\n",
            "Name: overall, dtype: float64\n",
            "\n"
          ]
        },
        {
          "output_type": "stream",
          "name": "stderr",
          "text": [
            "/usr/local/lib/python3.7/dist-packages/seaborn/_decorators.py:43: FutureWarning: Pass the following variable as a keyword arg: x. From version 0.12, the only valid positional argument will be `data`, and passing other arguments without an explicit keyword will result in an error or misinterpretation.\n",
            "  FutureWarning\n"
          ]
        },
        {
          "output_type": "display_data",
          "data": {
            "text/plain": [
              "<Figure size 432x288 with 1 Axes>"
            ],
            "image/png": "[encoded data removed]"
          },
          "metadata": {
            "needs_background": "light"
          }
        },
        {
          "output_type": "stream",
          "name": "stdout",
          "text": [
            "\n"
          ]
        },
        {
          "output_type": "stream",
          "name": "stderr",
          "text": [
            "/usr/local/lib/python3.7/dist-packages/seaborn/_decorators.py:43: FutureWarning: Pass the following variable as a keyword arg: x. From version 0.12, the only valid positional argument will be `data`, and passing other arguments without an explicit keyword will result in an error or misinterpretation.\n",
            "  FutureWarning\n"
          ]
        },
        {
          "output_type": "stream",
          "name": "stdout",
          "text": [
            "\n",
            "count    10000.000000\n",
            "mean         1.743100\n",
            "std          7.031931\n",
            "min          0.000000\n",
            "25%          0.000000\n",
            "50%          0.000000\n",
            "75%          2.000000\n",
            "max        281.000000\n",
            "Name: vote, dtype: float64\n"
          ]
        },
        {
          "output_type": "display_data",
          "data": {
            "text/plain": [
              "<Figure size 432x288 with 1 Axes>"
            ],
            "image/png": "[encoded data removed]"
          },
          "metadata": {
            "needs_background": "light"
          }
        },
        {
          "output_type": "display_data",
          "data": {
            "text/plain": [
              "<Figure size 432x288 with 1 Axes>"
            ],
            "image/png": "[encoded data removed]"
          },
          "metadata": {
            "needs_background": "light"
          }
        }
      ],
      "source": [
        "# General Information and Null values\n",
        "print(df.isnull().any())\n",
        "print()\n",
        "df.info()\n",
        "print()\n",
        "print(df.dtypes)\n",
        "print()\n",
        "print(df.overall.describe())\n",
        "print()\n",
        "# plot the score & check for the distribution of the star ratings \n",
        "sns.countplot(df.overall)\n",
        "plt.show()\n",
        "print()\n",
        "# plot distribution of vote column\n",
        "df['vote'] = df['vote'].fillna(0)\n",
        "sns.countplot(df.vote)\n",
        "print()\n",
        "print(df.vote.describe())\n",
        "# plot vote depending on overall\n",
        "df.plot(x='overall', y='vote', style='o')"
      ]
    },
    {
      "cell_type": "markdown",
      "metadata": {
        "id": "Ub4lefsY5XwW"
      },
      "source": [
        "# Data Preprocessing and further Exploration"
      ]
    },
    {
      "cell_type": "markdown",
      "metadata": {
        "id": "T6qhdNDLviKC"
      },
      "source": [
        "## Label creation"
      ]
    },
    {
      "cell_type": "code",
      "execution_count": 6,
      "metadata": {
        "colab": {
          "base_uri": "https://localhost:8080/",
          "height": 334
        },
        "id": "oC2lhUbiv6fy",
        "outputId": "900ed847-9542-4b72-b537-855088cbe148"
      },
      "outputs": [
        {
          "output_type": "stream",
          "name": "stderr",
          "text": [
            "/usr/local/lib/python3.7/dist-packages/seaborn/_decorators.py:43: FutureWarning: Pass the following variable as a keyword arg: x. From version 0.12, the only valid positional argument will be `data`, and passing other arguments without an explicit keyword will result in an error or misinterpretation.\n",
            "  FutureWarning\n"
          ]
        },
        {
          "output_type": "display_data",
          "data": {
            "text/plain": [
              "<Figure size 432x288 with 1 Axes>"
            ],
            "image/png": "[encoded data removed]"
          },
          "metadata": {
            "needs_background": "light"
          }
        }
      ],
      "source": [
        "df['label'] = df['overall'].apply(create_labels_from_rating)\n",
        "# plot the score & check for the distribution of the star ratings \n",
        "# drop labels 1 \n",
        "df = df[df.label != 1]\n",
        "sns.countplot(df.label)\n",
        "plt.show()"
      ]
    },
    {
      "cell_type": "markdown",
      "metadata": {
        "id": "PyHX54AVnI4U"
      },
      "source": [
        "## Feature Generation and Selection"
      ]
    },
    {
      "cell_type": "code",
      "execution_count": 7,
      "metadata": {
        "colab": {
          "base_uri": "https://localhost:8080/"
        },
        "id": "9HzH9Q_NnNbs",
        "outputId": "ed466729-98d2-4cbc-cc00-4bf4c73fbb49"
      },
      "outputs": [
        {
          "output_type": "stream",
          "name": "stderr",
          "text": [
            "/usr/local/lib/python3.7/dist-packages/ipykernel_launcher.py:4: SettingWithCopyWarning: \n",
            "A value is trying to be set on a copy of a slice from a DataFrame.\n",
            "Try using .loc[row_indexer,col_indexer] = value instead\n",
            "\n",
            "See the caveats in the documentation: https://pandas.pydata.org/pandas-docs/stable/user_guide/indexing.html#returning-a-view-versus-a-copy\n",
            "  after removing the cwd from sys.path.\n"
          ]
        },
        {
          "output_type": "stream",
          "name": "stdout",
          "text": [
            "(9192, 8)\n",
            "Index(['verified', 'reviewText', 'summary', 'unixReviewTime', 'vote', 'label',\n",
            "       'reviewer_amount_of_reviews', 'reviewer_mean_score'],\n",
            "      dtype='object')\n"
          ]
        }
      ],
      "source": [
        "# Frequency encoding using value_counts function ---------- generated features not used\n",
        "reviewerID_freq = df['reviewerID'].value_counts()\n",
        "# Mapping the encoded values with original data\n",
        "df['reviewer_amount_of_reviews'] = df['reviewerID'].apply(lambda x : reviewerID_freq[x])\n",
        "# detecting mean of ratings score per user\n",
        "df['reviewer_mean_score'] = df.groupby(['reviewerID'])['overall'].transform(lambda x: x.mean())\n",
        "df.drop(columns=['overall','reviewerID', 'asin', 'reviewerName', 'reviewTime','style', 'image'], inplace=True)\n",
        "print(df.shape)\n",
        "print(df.columns)"
      ]
    },
    {
      "cell_type": "code",
      "execution_count": 8,
      "metadata": {
        "colab": {
          "base_uri": "https://localhost:8080/"
        },
        "id": "sH2tmY5m4fIZ",
        "outputId": "d190309c-500f-4f97-8731-f71ff6da87e6"
      },
      "outputs": [
        {
          "output_type": "stream",
          "name": "stdout",
          "text": [
            "(9191, 8)\n",
            "   verified                                         reviewText  \\\n",
            "0      True  This game is a bit hard to get the hang of, bu...   \n",
            "1     False  I played it a while but it was alright. The st...   \n",
            "3      True  found the game a bit too complicated, not what...   \n",
            "4      True  great game, I love it and have played it since...   \n",
            "5      True  i liked a lot some time that i haven't play a ...   \n",
            "\n",
            "                                       summary  unixReviewTime  vote  label  \\\n",
            "0                  but when you do it's great.      1445040000     0      2   \n",
            "1  But in spite of that it was fun, I liked it      1437955200     0      2   \n",
            "3                                    Two Stars      1424390400     0      0   \n",
            "4                               love this game      1419465600     0      2   \n",
            "5                                    Anno 2070      1415836800     0      2   \n",
            "\n",
            "   reviewer_amount_of_reviews  reviewer_mean_score  \n",
            "0                           1                  5.0  \n",
            "1                           1                  4.0  \n",
            "3                           1                  2.0  \n",
            "4                           2                  5.0  \n",
            "5                           1                  4.0  \n"
          ]
        }
      ],
      "source": [
        "df = df[df['reviewText'].apply(lambda x: isinstance(x, str))] \n",
        "df = df[df['summary'].apply(lambda x: isinstance(x, str))]\n",
        "df.dropna(inplace=True)\n",
        "print(df.shape)\n",
        "print(df.head())"
      ]
    },
    {
      "cell_type": "markdown",
      "metadata": {
        "id": "pocsiti49v2l"
      },
      "source": [
        "## Tokenization "
      ]
    },
    {
      "cell_type": "code",
      "execution_count": 9,
      "metadata": {
        "colab": {
          "base_uri": "https://localhost:8080/"
        },
        "id": "Bs6W6wRsA1hz",
        "outputId": "53bb9e5a-99b4-4488-aa26-923cac323a44"
      },
      "outputs": [
        {
          "output_type": "stream",
          "name": "stdout",
          "text": [
            "   verified                                         reviewText  \\\n",
            "0      True             This game bit hard get hang of, great.   \n",
            "1     False  I played alright. The steam bit trouble. The m...   \n",
            "3      True  found game bit complicated, I expected played ...   \n",
            "4      True            great game, I love played since arrived   \n",
            "5      True  liked lot time play wonderfull game simply fun...   \n",
            "\n",
            "                  summary  unixReviewTime  vote  label  \\\n",
            "0                  great.      1445040000     0      2   \n",
            "1  But spite fun, I liked      1437955200     0      2   \n",
            "3               Two Stars      1424390400     0      0   \n",
            "4               love game      1419465600     0      2   \n",
            "5               Anno 2070      1415836800     0      2   \n",
            "\n",
            "   reviewer_amount_of_reviews  reviewer_mean_score  \n",
            "0                           1                  5.0  \n",
            "1                           1                  4.0  \n",
            "3                           1                  2.0  \n",
            "4                           2                  5.0  \n",
            "5                           1                  4.0  \n",
            "(9191, 8)\n"
          ]
        }
      ],
      "source": [
        "df = df[df['reviewText'].apply(lambda x: isinstance(x, str))] \n",
        "df = df[df['summary'].apply(lambda x: isinstance(x, str))]\n",
        "\n",
        "#tokenize and use stemming \n",
        "#stemmer = PorterStemmer()\n",
        "#print(df.head())\n",
        "#df['reviewText'] = df['reviewText'].apply(lambda x: ' '.join([stemmer.stem(word) for word in x.split()]))\n",
        "#df['summary'] = df['summary'].apply(lambda x: ' '.join([stemmer.stem(word) for word in x.split()]))\n",
        "#print(df.head())\n",
        "\n",
        "# tokenize and remove stopwords \n",
        "stop = stopwords.words('english')\n",
        "df['reviewText'] = df['reviewText'].apply(lambda x: ' '.join([word for word in x.split() if word not in (stop)]))\n",
        "df['summary'] = df['summary'].apply(lambda x: ' '.join([word for word in x.split() if word not in (stop)]))\n",
        "df.dropna(inplace=True)\n",
        "print(df.head())\n",
        "print(df.shape)"
      ]
    },
    {
      "cell_type": "markdown",
      "metadata": {
        "id": "h0Huq-553D0p"
      },
      "source": [
        "# Train Test Split and shortening "
      ]
    },
    {
      "cell_type": "code",
      "execution_count": 10,
      "metadata": {
        "id": "V304yhm93NOu"
      },
      "outputs": [],
      "source": [
        "df.dropna(inplace=True)\n",
        "df = df[df['reviewText'].apply(lambda x: isinstance(x, str))] \n",
        "df = df[df['summary'].apply(lambda x: isinstance(x, str))]"
      ]
    },
    {
      "cell_type": "code",
      "execution_count": 11,
      "metadata": {
        "colab": {
          "base_uri": "https://localhost:8080/"
        },
        "id": "W4AtH8CR3SKs",
        "outputId": "9dba4cef-ccad-4f57-b2b2-80592963858d"
      },
      "outputs": [
        {
          "output_type": "stream",
          "name": "stdout",
          "text": [
            "y_train: (7352,)/ x_train: (7352, 8)\n",
            "y_test: (1839,)/ x_test: (1839, 8)\n",
            "      verified                                         reviewText  \\\n",
            "1262     False  Fans dedicated single-player \"first person sho...   \n",
            "3306     False  Final Fantasy 7 best final fantasy game fun ad...   \n",
            "7254     False  It's good game easily beaten enough common sen...   \n",
            "3421      True              Plays looks great! Thanks very, much!   \n",
            "3068     False  Graphics: 9/10 - Nothing ugly Ape Escape, look...   \n",
            "\n",
            "                                                summary  unixReviewTime  vote  \\\n",
            "1262  (XP User) A series unfortunate incidents...luc...      1119398400     1   \n",
            "3306                                 Best Final Fantasy      1088985600     0   \n",
            "7254                                         Good Game.      1393545600     1   \n",
            "3421                                         Five Stars      1424217600     0   \n",
            "3068                                    Fantastical fun       995673600     0   \n",
            "\n",
            "      label  reviewer_amount_of_reviews  reviewer_mean_score  \n",
            "1262      2                           5             4.000000  \n",
            "3306      2                           1             5.000000  \n",
            "7254      2                           2             3.500000  \n",
            "3421      2                           2             5.000000  \n",
            "3068      2                           9             4.555556  \n"
          ]
        }
      ],
      "source": [
        "# split into train and test set\n",
        "x_train, x_test = train_test_split(df, test_size=0.2, random_state = 453, stratify=df['label'])\n",
        "\n",
        "y_train = x_train['label']\n",
        "y_test = x_test['label']\n",
        "\n",
        "print (f\"y_train: {y_train.shape}/ x_train: {x_train.shape}\")\n",
        "print (f\"y_test: {y_test.shape}/ x_test: {x_test.shape}\")\n",
        "\n",
        "print(x_train.head())"
      ]
    },
    {
      "cell_type": "markdown",
      "metadata": {
        "id": "-c_g4TzPQt8_"
      },
      "source": [
        "# Model Training"
      ]
    },
    {
      "cell_type": "markdown",
      "metadata": {
        "id": "hTCfxyjHohj8"
      },
      "source": [
        "## Set Up Pipeline"
      ]
    },
    {
      "cell_type": "code",
      "execution_count": 12,
      "metadata": {
        "colab": {
          "base_uri": "https://localhost:8080/"
        },
        "id": "da4hsNzPog0r",
        "outputId": "03a93440-f647-45f9-8aa7-af25443fc5e6"
      },
      "outputs": [
        {
          "output_type": "stream",
          "name": "stdout",
          "text": [
            "(7352,)\n",
            "(7352,)\n",
            "1262    Fans dedicated single-player \"first person sho...\n",
            "3306    Final Fantasy 7 best final fantasy game fun ad...\n",
            "7254    It's good game easily beaten enough common sen...\n",
            "3421                Plays looks great! Thanks very, much!\n",
            "3068    Graphics: 9/10 - Nothing ugly Ape Escape, look...\n",
            "Name: reviewText, dtype: object\n"
          ]
        }
      ],
      "source": [
        "\n",
        "# define transforms\n",
        "vectorizer = TfidfVectorizer()\n",
        "\n",
        "# define sampling\n",
        "sampling = RandomUnderSampler(random_state=452)\n",
        "\n",
        "# define the scoring function\n",
        "f1 = make_scorer(f1_score, average='weighted')\n",
        "\n",
        "# set up cross validation configuration\n",
        "cv = StratifiedKFold(n_splits=5, shuffle=True, random_state=42)\n",
        "\n",
        "# dataset preparation\n",
        "x_train.drop(columns = ['label'], inplace= True)\n",
        "x_test.drop(columns = ['label'], inplace= True)\n",
        "x_train = x_train['reviewText']\n",
        "x_test = x_test['reviewText']\n",
        "print(x_train.shape)\n",
        "print(y_train.shape)\n",
        "print(x_train.head(5))\n",
        "\n",
        "\n"
      ]
    },
    {
      "cell_type": "markdown",
      "metadata": {
        "id": "GjcsWovnRMvl"
      },
      "source": [
        "## Naïve Bayes"
      ]
    },
    {
      "cell_type": "code",
      "execution_count": 13,
      "metadata": {
        "colab": {
          "base_uri": "https://localhost:8080/"
        },
        "id": "kJvXgDr9qutk",
        "outputId": "97065767-f74a-44e0-8661-7375b3bbc120"
      },
      "outputs": [
        {
          "output_type": "stream",
          "name": "stdout",
          "text": [
            "Pipeline(steps=[('vectorizer', TfidfVectorizer()),\n",
            "                ('balancing', RandomUnderSampler(random_state=452)),\n",
            "                ('estimator', MultinomialNB())])\n",
            "Fitting 5 folds for each of 144 candidates, totalling 720 fits\n",
            "--- 330.5281882286072 seconds ---\n",
            "Multinomial NBClassifier: 90.15045488393018% F1-score for class 'label' with parameters {'estimator__alpha': 10, 'vectorizer__max_df': 0.75, 'vectorizer__norm': 'l1', 'vectorizer__smooth_idf': False}\n"
          ]
        },
        {
          "output_type": "execute_result",
          "data": {
            "text/plain": [
              "['/content/drive/My Drive/Web_Mining_Project/2labels/classifier_parameters/nb.pkl']"
            ]
          },
          "metadata": {},
          "execution_count": 13
        }
      ],
      "source": [
        "\n",
        "# Optimize parameters for NB Classifier\n",
        "from sklearn.naive_bayes import MultinomialNB\n",
        "estimator = MultinomialNB()\n",
        "\n",
        "# Define grid of possible hyperparamters values \n",
        "parameters = {\n",
        "    'vectorizer__max_df': [0.25, 0.5, 0.75, 1.0],\n",
        "    'vectorizer__smooth_idf': (True, False),\n",
        "    'vectorizer__norm': ('l1', 'l2', None),\n",
        "    'estimator__alpha': [ 0.0001, 0.001, 0.01, 0.1, 1, 10],\n",
        "}\n",
        "\n",
        "# Create a pipeline\n",
        "pipeline = Pipeline([ ('vectorizer', vectorizer),('balancing', sampling), ('estimator', estimator) ])\n",
        "print(pipeline)\n",
        "\n",
        "# Hyperparameter optimization with Grid Search\n",
        "start_time = time.time()\n",
        "grid_search_estimator = GridSearchCV(pipeline, parameters, scoring=f1, cv=cv, return_train_score=False, n_jobs=-1, verbose=10)\n",
        "grid_search_estimator.fit(x_train, y_train)\n",
        "\n",
        "print(\"--- %s seconds ---\" % (time.time() - start_time))\n",
        "print(\"Multinomial NBClassifier: {}% F1-score for class 'label' with parameters {}\".format(grid_search_estimator.best_score_ * 100, grid_search_estimator.best_params_))\n",
        "\n",
        "# Save hyperparameter optmization results\n",
        "df_hyper = pd.DataFrame(grid_search_estimator.cv_results_)\n",
        "df_hyper.to_csv(path_hyperparameters_nb, index=False)\n",
        "\n",
        "# Save best hyperparameters values\n",
        "joblib.dump(grid_search_estimator.best_params_, path_best_parameters_nb, compress = 1) # Only best parameters\n"
      ]
    },
    {
      "cell_type": "code",
      "execution_count": 14,
      "metadata": {
        "colab": {
          "base_uri": "https://localhost:8080/",
          "height": 453
        },
        "id": "GZuCTfkb-TFF",
        "outputId": "d8df1142-09ed-45e0-f7ce-83814fb82952"
      },
      "outputs": [
        {
          "output_type": "stream",
          "name": "stdout",
          "text": [
            "              precision    recall  f1-score   support\n",
            "\n",
            "           0       0.43      0.46      0.45       151\n",
            "           2       0.95      0.94      0.95      1688\n",
            "\n",
            "    accuracy                           0.91      1839\n",
            "   macro avg       0.69      0.70      0.70      1839\n",
            "weighted avg       0.91      0.91      0.91      1839\n",
            "\n"
          ]
        },
        {
          "output_type": "display_data",
          "data": {
            "text/plain": [
              "<Figure size 432x288 with 2 Axes>"
            ],
            "image/png": "[encoded data removed]"
          },
          "metadata": {
            "needs_background": "light"
          }
        }
      ],
      "source": [
        "prediction = grid_search_estimator.predict(x_test)\n",
        "cm = confusion_matrix(y_test, prediction)\n",
        "plot_confusion_matrix(cm, classes = unique_labels(y_test), title = \"NB Classifier on Test Set\")\n",
        "print(classification_report(y_test, prediction))"
      ]
    },
    {
      "cell_type": "markdown",
      "source": [
        "## Knn"
      ],
      "metadata": {
        "id": "FvHZzb-YFNNi"
      }
    },
    {
      "cell_type": "code",
      "source": [
        "# Optimize parameters for KNN Classifier\n",
        "from sklearn.neighbors import KNeighborsClassifier\n",
        "estimator = KNeighborsClassifier()\n",
        "\n",
        "vectorizer = TfidfVectorizer(max_df=0.25, norm=None, smooth_idf=False)\n",
        "\n",
        "# Define grid of posible hyperparamters values \n",
        "parameters = {\n",
        "    #'vectorizer__max_df': [0.25, 0.5, 0.75, 1.0],\n",
        "    #'vectorizer__smooth_idf': (True, False),\n",
        "    #'vectorizer__norm': ('l1', 'l2', None),\n",
        "    'estimator__n_neighbors': [5, 10, 15, 20, 25],\n",
        "    'estimator__weights': ['uniform','distance'],\n",
        "    'estimator__algorithm':['auto', 'ball_tree', 'kd_tree', 'brute'],\n",
        "       }\n",
        "\n",
        "# Create a pipeline\n",
        "pipeline = Pipeline([ ('vectorizer', vectorizer), ('balancing', sampling), ('estimator', estimator) ])\n",
        "print(pipeline)\n",
        "\n",
        "# Hyperparameter optimization with Grid Search\n",
        "start_time = time.time()\n",
        "grid_search_estimator = GridSearchCV(pipeline, parameters, scoring=f1, cv=cv, return_train_score=False, n_jobs=-1, verbose=10)\n",
        "grid_search_estimator.fit(x_train, y_train)\n",
        "\n",
        "print(\"--- %s seconds ---\" % (time.time() - start_time))\n",
        "print(\"KNN : {}% F1-score for class 'label' with parameters {}\".format(grid_search_estimator.best_score_ * 100, grid_search_estimator.best_params_))\n",
        "\n",
        "# Save hyperparameter optmization results\n",
        "df_hyper = pd.DataFrame(grid_search_estimator.cv_results_)\n",
        "df_hyper.to_csv(path_hyperparameters_knn, index=False)\n",
        "\n",
        "# Save best hyperparameters values\n",
        "joblib.dump(grid_search_estimator.best_params_, path_best_parameters_knn, compress = 1) # Only best parameters"
      ],
      "metadata": {
        "colab": {
          "base_uri": "https://localhost:8080/"
        },
        "id": "FK_zNgMCFR43",
        "outputId": "62980e01-606f-44a4-a492-f6202dbe0859"
      },
      "execution_count": 15,
      "outputs": [
        {
          "output_type": "stream",
          "name": "stdout",
          "text": [
            "Pipeline(steps=[('vectorizer',\n",
            "                 TfidfVectorizer(max_df=0.25, norm=None, smooth_idf=False)),\n",
            "                ('balancing', RandomUnderSampler(random_state=452)),\n",
            "                ('estimator', KNeighborsClassifier())])\n",
            "Fitting 5 folds for each of 40 candidates, totalling 200 fits\n",
            "--- 104.50165677070618 seconds ---\n",
            "KNN : 88.10788918066302% F1-score for class 'label' with parameters {'estimator__algorithm': 'auto', 'estimator__n_neighbors': 15, 'estimator__weights': 'distance'}\n"
          ]
        },
        {
          "output_type": "execute_result",
          "data": {
            "text/plain": [
              "['/content/drive/My Drive/Web_Mining_Project/2labels/classifier_parameters/knn.pkl']"
            ]
          },
          "metadata": {},
          "execution_count": 15
        }
      ]
    },
    {
      "cell_type": "code",
      "source": [
        "prediction = grid_search_estimator.predict(x_test)\n",
        "cm = confusion_matrix(y_test, prediction)\n",
        "plot_confusion_matrix(cm, classes = unique_labels(y_test), title = \"Knn Classifier on Test Set\")\n",
        "print(classification_report(y_test, prediction))"
      ],
      "metadata": {
        "colab": {
          "base_uri": "https://localhost:8080/",
          "height": 453
        },
        "id": "L_zM0I6eFSsc",
        "outputId": "b724c0e9-b4ad-4ee4-cf20-2ceb41b0aabb"
      },
      "execution_count": 16,
      "outputs": [
        {
          "output_type": "stream",
          "name": "stdout",
          "text": [
            "              precision    recall  f1-score   support\n",
            "\n",
            "           0       0.33      0.05      0.09       151\n",
            "           2       0.92      0.99      0.95      1688\n",
            "\n",
            "    accuracy                           0.91      1839\n",
            "   macro avg       0.63      0.52      0.52      1839\n",
            "weighted avg       0.87      0.91      0.88      1839\n",
            "\n"
          ]
        },
        {
          "output_type": "display_data",
          "data": {
            "text/plain": [
              "<Figure size 432x288 with 2 Axes>"
            ],
            "image/png": "[encoded data removed]"
          },
          "metadata": {
            "needs_background": "light"
          }
        }
      ]
    },
    {
      "cell_type": "markdown",
      "source": [
        "## Random Forest"
      ],
      "metadata": {
        "id": "QCGZrjANg_RT"
      }
    },
    {
      "cell_type": "code",
      "source": [
        "# Optimize parameters for Random Forest\n",
        "estimator = RandomForestClassifier( random_state=42)\n",
        "\n",
        "vectorizer = TfidfVectorizer(max_df=0.25, smooth_idf=True)\n",
        "\n",
        "# Define grid of posible hyperparamters values \n",
        "parameters = {\n",
        "    #'vectorizer__max_df': [0.25, 0.5, 0.75, 1.0],\n",
        "    #'vectorizer__smooth_idf': (True, False),\n",
        "    #'vectorizer__norm': ('l1', 'l2', None),\n",
        "    'estimator__n_estimators': [100, 300, 500],\n",
        "    'estimator__max_depth': [5, 15, 25],\n",
        "    'estimator__min_samples_split': [5, 25, 100],\n",
        "    'estimator__min_samples_leaf': [ 2, 5, 10]\n",
        "}\n",
        "\n",
        "# Create a pipeline\n",
        "pipeline = Pipeline([ ('vectorizer', vectorizer), ('balancing', sampling), ('estimator', estimator) ])\n",
        "print(pipeline)\n",
        "\n",
        "# Hyperparameter optimization with Grid Search\n",
        "start_time = time.time()\n",
        "grid_search_estimator = GridSearchCV(pipeline, parameters, scoring=f1, cv=cv, return_train_score=False, n_jobs=-1, verbose=10)\n",
        "grid_search_estimator.fit(x_train, y_train)\n",
        "\n",
        "print(\"--- %s seconds ---\" % (time.time() - start_time))\n",
        "print(\"Random Forest Classifier: {}% F1-score for class 'label' with parameters {}\".format(grid_search_estimator.best_score_ * 100, grid_search_estimator.best_params_))\n",
        "\n",
        "# Save hyperparameter optmization results\n",
        "df_hyper = pd.DataFrame(grid_search_estimator.cv_results_)\n",
        "df_hyper.to_csv(path_hyperparameters_rf, index=False)\n",
        "\n",
        "# Save best hyperparameters values\n",
        "joblib.dump(grid_search_estimator.best_params_, path_best_parameters_rf, compress = 1) # Only best parameters"
      ],
      "metadata": {
        "colab": {
          "base_uri": "https://localhost:8080/"
        },
        "id": "UDEKI6_qhDci",
        "outputId": "744e35e2-0955-4207-c3e9-e13da42be16a"
      },
      "execution_count": 17,
      "outputs": [
        {
          "output_type": "stream",
          "name": "stdout",
          "text": [
            "Pipeline(steps=[('vectorizer', TfidfVectorizer(max_df=0.25)),\n",
            "                ('balancing', RandomUnderSampler(random_state=452)),\n",
            "                ('estimator', RandomForestClassifier(random_state=42))])\n",
            "Fitting 5 folds for each of 81 candidates, totalling 405 fits\n",
            "--- 494.8533103466034 seconds ---\n",
            "Random Forest Classifier: 85.05799481730114% F1-score for class 'label' with parameters {'estimator__max_depth': 5, 'estimator__min_samples_leaf': 2, 'estimator__min_samples_split': 5, 'estimator__n_estimators': 300}\n"
          ]
        },
        {
          "output_type": "execute_result",
          "data": {
            "text/plain": [
              "['/content/drive/My Drive/Web_Mining_Project/2labels/classifier_parameters/rf.pkl']"
            ]
          },
          "metadata": {},
          "execution_count": 17
        }
      ]
    },
    {
      "cell_type": "code",
      "source": [
        "prediction = grid_search_estimator.predict(x_test)\n",
        "cm = confusion_matrix(y_test, prediction)\n",
        "plot_confusion_matrix(cm, classes = unique_labels(y_test), title = \"Random Forest Classifier on Test Set\")\n",
        "print(classification_report(y_test, prediction))"
      ],
      "metadata": {
        "id": "GBJhcvLthEU6",
        "colab": {
          "base_uri": "https://localhost:8080/",
          "height": 453
        },
        "outputId": "53c8357e-6161-4387-ee3f-80a4414fd7dc"
      },
      "execution_count": 18,
      "outputs": [
        {
          "output_type": "stream",
          "name": "stdout",
          "text": [
            "              precision    recall  f1-score   support\n",
            "\n",
            "           0       0.31      0.72      0.43       151\n",
            "           2       0.97      0.85      0.91      1688\n",
            "\n",
            "    accuracy                           0.84      1839\n",
            "   macro avg       0.64      0.79      0.67      1839\n",
            "weighted avg       0.92      0.84      0.87      1839\n",
            "\n"
          ]
        },
        {
          "output_type": "display_data",
          "data": {
            "text/plain": [
              "<Figure size 432x288 with 2 Axes>"
            ],
            "image/png": "[encoded data removed]"
          },
          "metadata": {
            "needs_background": "light"
          }
        }
      ]
    },
    {
      "cell_type": "markdown",
      "source": [
        "## SVM"
      ],
      "metadata": {
        "id": "FI3634Fny5Gn"
      }
    },
    {
      "cell_type": "code",
      "source": [
        "# Optimize parameters for LSVM Classifier\n",
        "estimator = LinearSVC(max_iter=5000, random_state=42, dual = True)\n",
        "\n",
        "vectorizer = TfidfVectorizer()\n",
        "\n",
        "# Define grid of posible hyperparamters values \n",
        "parameters = {\n",
        "    #'vectorizer__max_df': [0.25, 0.5, 0.75, 1.0],\n",
        "    #'vectorizer__smooth_idf': (True, False),\n",
        "    #'vectorizer__norm': ('l1', 'l2', None),\n",
        "    'estimator__loss': ['hinge', 'squared_hinge'],\n",
        "    'estimator__tol': [1e-2, 1e-3, 1e-4, 1e-5],\n",
        "    'estimator__C': [0.01, 0.1, 1, 10, 100, 1000],\n",
        "}\n",
        "\n",
        "# Create a pipeline\n",
        "pipeline = Pipeline([ ('vectorizer', vectorizer), ('balancing', sampling), ('estimator', estimator) ])\n",
        "print(pipeline)\n",
        "\n",
        "# Hyperparameter optimization with Grid Search\n",
        "start_time = time.time()\n",
        "grid_search_estimator = GridSearchCV(pipeline, parameters, scoring=f1, cv=cv, return_train_score=False, n_jobs=-1, verbose=2)\n",
        "grid_search_estimator.fit(x_train, y_train)\n",
        "\n",
        "print(\"--- %s seconds ---\" % (time.time() - start_time))\n",
        "print(\"LSVM Classifier: {}% F1-score for class 'label' with parameters {}\".format(grid_search_estimator.best_score_ * 100, grid_search_estimator.best_params_))\n",
        "\n",
        "# Save hyperparameter optmization results\n",
        "df_hyper = pd.DataFrame(grid_search_estimator.cv_results_)\n",
        "df_hyper.to_csv(path_hyperparameters_svm, index=False)\n",
        "\n",
        "# Save best hyperparameters values\n",
        "joblib.dump(grid_search_estimator.best_params_, path_best_parameters_svm, compress = 1) # Only best parameters"
      ],
      "metadata": {
        "colab": {
          "base_uri": "https://localhost:8080/"
        },
        "id": "Bv9E7EKQy8Cr",
        "outputId": "feb61d57-5bd7-4b82-ce59-d481868e23b6"
      },
      "execution_count": 20,
      "outputs": [
        {
          "output_type": "stream",
          "name": "stdout",
          "text": [
            "Pipeline(steps=[('vectorizer', TfidfVectorizer()),\n",
            "                ('balancing', RandomUnderSampler(random_state=452)),\n",
            "                ('estimator', LinearSVC(max_iter=5000, random_state=42))])\n",
            "Fitting 5 folds for each of 48 candidates, totalling 240 fits\n",
            "--- 159.41874241828918 seconds ---\n",
            "LSVM Classifier: 85.5678026207763% F1-score for class 'label' with parameters {'estimator__C': 1, 'estimator__loss': 'hinge', 'estimator__tol': 0.01}\n"
          ]
        },
        {
          "output_type": "execute_result",
          "data": {
            "text/plain": [
              "['/content/drive/My Drive/Web_Mining_Project/2labels/classifier_parameters/svm.pkl']"
            ]
          },
          "metadata": {},
          "execution_count": 20
        }
      ]
    },
    {
      "cell_type": "code",
      "source": [
        "prediction = grid_search_estimator.predict(x_test)\n",
        "cm = confusion_matrix(y_test, prediction)\n",
        "plot_confusion_matrix(cm, classes = unique_labels(y_test), title = \"SVM Classifier on Test Set\")\n",
        "print(classification_report(y_test, prediction))"
      ],
      "metadata": {
        "colab": {
          "base_uri": "https://localhost:8080/",
          "height": 453
        },
        "id": "kBtu3ahgy9Cf",
        "outputId": "e29e954b-6896-4593-e08d-415ce863b890"
      },
      "execution_count": 21,
      "outputs": [
        {
          "output_type": "stream",
          "name": "stdout",
          "text": [
            "              precision    recall  f1-score   support\n",
            "\n",
            "           0       0.31      0.77      0.44       151\n",
            "           2       0.98      0.84      0.90      1688\n",
            "\n",
            "    accuracy                           0.84      1839\n",
            "   macro avg       0.64      0.81      0.67      1839\n",
            "weighted avg       0.92      0.84      0.87      1839\n",
            "\n"
          ]
        },
        {
          "output_type": "display_data",
          "data": {
            "text/plain": [
              "<Figure size 432x288 with 2 Axes>"
            ],
            "image/png": "[encoded data removed]"
          },
          "metadata": {
            "needs_background": "light"
          }
        }
      ]
    },
    {
      "cell_type": "markdown",
      "source": [
        "## Logistic Regression"
      ],
      "metadata": {
        "id": "GYDvgvrSEyo4"
      }
    },
    {
      "cell_type": "code",
      "source": [
        "# Optimize parameters for Logistic Regression\n",
        "estimator = LogisticRegression()\n",
        "\n",
        "vectorizer = TfidfVectorizer(max_df=0.5, smooth_idf=True)\n",
        "\n",
        "# Define grid of posible hyperparamters values \n",
        "parameters = {\n",
        "    'vectorizer__max_df': [0.25, 0.5, 0.75, 1.0],\n",
        "    'vectorizer__smooth_idf': (True, False),\n",
        "    #'vectorizer__norm': ('l1', 'l2', None),\n",
        "    'estimator__solver': ['newton-cg', 'lbfgs', 'liblinear', 'sag', 'saga'],\n",
        "    'estimator__C': [100, 10, 1.0, 0.1, 0.01]\n",
        "}\n",
        "\n",
        "# Create a pipeline\n",
        "pipeline = Pipeline([ ('vectorizer', vectorizer), ('balancing', sampling), ('estimator', estimator) ])\n",
        "print(pipeline)\n",
        "\n",
        "# Hyperparameter optimization with Grid Search\n",
        "start_time = time.time()\n",
        "grid_search_estimator = GridSearchCV(pipeline, parameters, scoring=f1, cv=cv, return_train_score=False, n_jobs=-1, verbose=2)\n",
        "grid_search_estimator.fit(x_train, y_train)\n",
        "\n",
        "print(\"--- %s seconds ---\" % (time.time() - start_time))\n",
        "print(\"Logistic Regression Classifier: {}% F1-score for class 'label' with parameters {}\".format(grid_search_estimator.best_score_ * 100, grid_search_estimator.best_params_))\n",
        "\n",
        "# Save hyperparameter optmization results\n",
        "df_hyper = pd.DataFrame(grid_search_estimator.cv_results_)\n",
        "df_hyper.to_csv(path_hyperparameters_lr, index=False)\n",
        "\n",
        "# Save best hyperparameters values\n",
        "joblib.dump(grid_search_estimator.best_params_, path_best_parameters_lr, compress = 1) # Only best parameters"
      ],
      "metadata": {
        "colab": {
          "base_uri": "https://localhost:8080/"
        },
        "id": "oGFlYqAUE2oF",
        "outputId": "d4f5aa81-3cd6-4e4a-a6a9-680b97416bf0"
      },
      "execution_count": 22,
      "outputs": [
        {
          "output_type": "stream",
          "name": "stdout",
          "text": [
            "Pipeline(steps=[('vectorizer', TfidfVectorizer(max_df=0.5)),\n",
            "                ('balancing', RandomUnderSampler(random_state=452)),\n",
            "                ('estimator', LogisticRegression())])\n",
            "Fitting 5 folds for each of 200 candidates, totalling 1000 fits\n",
            "--- 498.70058369636536 seconds ---\n",
            "Logistic Regression Classifier: 86.20175636783823% F1-score for class 'label' with parameters {'estimator__C': 10, 'estimator__solver': 'newton-cg', 'vectorizer__max_df': 0.25, 'vectorizer__smooth_idf': True}\n"
          ]
        },
        {
          "output_type": "execute_result",
          "data": {
            "text/plain": [
              "['/content/drive/My Drive/Web_Mining_Project/2labels/classifier_parameters/lr.pkl']"
            ]
          },
          "metadata": {},
          "execution_count": 22
        }
      ]
    },
    {
      "cell_type": "code",
      "source": [
        "prediction = grid_search_estimator.predict(x_test)\n",
        "cm = confusion_matrix(y_test, prediction)\n",
        "plot_confusion_matrix(cm, classes = unique_labels(y_test), title = \"Logistic Regression Classifier on Test Set\")\n",
        "print(classification_report(y_test, prediction))"
      ],
      "metadata": {
        "colab": {
          "base_uri": "https://localhost:8080/",
          "height": 453
        },
        "id": "F2DVNl9OE3LG",
        "outputId": "ebf6a6fd-e098-44f5-d48f-7e51546d28fe"
      },
      "execution_count": 23,
      "outputs": [
        {
          "output_type": "stream",
          "name": "stdout",
          "text": [
            "              precision    recall  f1-score   support\n",
            "\n",
            "           0       0.32      0.79      0.46       151\n",
            "           2       0.98      0.85      0.91      1688\n",
            "\n",
            "    accuracy                           0.84      1839\n",
            "   macro avg       0.65      0.82      0.68      1839\n",
            "weighted avg       0.92      0.84      0.87      1839\n",
            "\n"
          ]
        },
        {
          "output_type": "display_data",
          "data": {
            "text/plain": [
              "<Figure size 432x288 with 2 Axes>"
            ],
            "image/png": "[encoded data removed]"
          },
          "metadata": {
            "needs_background": "light"
          }
        }
      ]
    }
  ],
  "metadata": {
    "colab": {
      "collapsed_sections": [],
      "name": "amazon_reviews_text_with_pre_processing_under_2labels.ipynb",
      "provenance": [],
      "toc_visible": true
    },
    "kernelspec": {
      "display_name": "Python 3",
      "language": "python",
      "name": "python3"
    },
    "language_info": {
      "codemirror_mode": {
        "name": "ipython",
        "version": 3
      },
      "file_extension": ".py",
      "mimetype": "text/x-python",
      "name": "python",
      "nbconvert_exporter": "python",
      "pygments_lexer": "ipython3",
      "version": "3.8.8"
    }
  },
  "nbformat": 4,
  "nbformat_minor": 0
}