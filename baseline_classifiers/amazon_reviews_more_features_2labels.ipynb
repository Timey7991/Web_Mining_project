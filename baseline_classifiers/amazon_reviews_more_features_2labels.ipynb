{
  "cells": [
    {
      "cell_type": "markdown",
      "metadata": {
        "id": "pdIoGVy0dLFJ"
      },
      "source": [
        "# Set up"
      ]
    },
    {
      "cell_type": "markdown",
      "metadata": {
        "id": "dAbpqgiYZQTw"
      },
      "source": [
        "## Package Loading"
      ]
    },
    {
      "cell_type": "code",
      "execution_count": 2,
      "metadata": {
        "colab": {
          "base_uri": "https://localhost:8080/"
        },
        "id": "pkuSpTlmZZ17",
        "outputId": "7ce9acb9-bb1a-417d-ac4b-08b7a7023f3b"
      },
      "outputs": [
        {
          "output_type": "stream",
          "name": "stdout",
          "text": [
            "Looking in indexes: https://pypi.org/simple, https://us-python.pkg.dev/colab-wheels/public/simple/\n",
            "Requirement already satisfied: emoji in /usr/local/lib/python3.7/dist-packages (1.7.0)\n",
            "Looking in indexes: https://pypi.org/simple, https://us-python.pkg.dev/colab-wheels/public/simple/\n",
            "Requirement already satisfied: nltk in /usr/local/lib/python3.7/dist-packages (3.2.5)\n",
            "Requirement already satisfied: six in /usr/local/lib/python3.7/dist-packages (from nltk) (1.15.0)\n",
            "[nltk_data] Downloading package punkt to /root/nltk_data...\n",
            "[nltk_data]   Package punkt is already up-to-date!\n",
            "[nltk_data] Downloading package stopwords to /root/nltk_data...\n",
            "[nltk_data]   Package stopwords is already up-to-date!\n",
            "Looking in indexes: https://pypi.org/simple, https://us-python.pkg.dev/colab-wheels/public/simple/\n",
            "Requirement already satisfied: imblearn in /usr/local/lib/python3.7/dist-packages (0.0)\n",
            "Requirement already satisfied: imbalanced-learn in /usr/local/lib/python3.7/dist-packages (from imblearn) (0.8.1)\n",
            "Requirement already satisfied: scikit-learn>=0.24 in /usr/local/lib/python3.7/dist-packages (from imbalanced-learn->imblearn) (1.0.2)\n",
            "Requirement already satisfied: scipy>=0.19.1 in /usr/local/lib/python3.7/dist-packages (from imbalanced-learn->imblearn) (1.4.1)\n",
            "Requirement already satisfied: joblib>=0.11 in /usr/local/lib/python3.7/dist-packages (from imbalanced-learn->imblearn) (1.1.0)\n",
            "Requirement already satisfied: numpy>=1.13.3 in /usr/local/lib/python3.7/dist-packages (from imbalanced-learn->imblearn) (1.21.6)\n",
            "Requirement already satisfied: threadpoolctl>=2.0.0 in /usr/local/lib/python3.7/dist-packages (from scikit-learn>=0.24->imbalanced-learn->imblearn) (3.1.0)\n",
            "Drive already mounted at /content/drive; to attempt to forcibly remount, call drive.mount(\"/content/drive\", force_remount=True).\n"
          ]
        }
      ],
      "source": [
        "import pandas as pd\n",
        "import numpy as np\n",
        "import itertools\n",
        "!pip install emoji\n",
        "import emoji\n",
        "import re\n",
        "!pip install nltk\n",
        "import nltk\n",
        "nltk.download('punkt')\n",
        "nltk.download('stopwords')\n",
        "from nltk.corpus import stopwords \n",
        "from nltk.tokenize import word_tokenize \n",
        "from nltk.stem import PorterStemmer \n",
        "from sklearn.utils.multiclass import unique_labels\n",
        "from sklearn.feature_extraction.text import TfidfVectorizer, CountVectorizer\n",
        "! pip install imblearn\n",
        "from imblearn.pipeline import Pipeline\n",
        "from imblearn.over_sampling import RandomOverSampler, ADASYN, SMOTE\n",
        "from imblearn.under_sampling import RandomUnderSampler, NearMiss\n",
        "from sklearn.pipeline import make_pipeline\n",
        "from sklearn.model_selection import train_test_split, StratifiedKFold, cross_val_predict, GridSearchCV\n",
        "from sklearn.svm import LinearSVC\n",
        "from sklearn.ensemble import RandomForestClassifier\n",
        "from sklearn.linear_model import LogisticRegression\n",
        "from sklearn.metrics import classification_report, accuracy_score, confusion_matrix, f1_score, make_scorer\n",
        "from sklearn.compose import ColumnTransformer\n",
        "from sklearn.preprocessing import StandardScaler, MinMaxScaler\n",
        "import mlxtend\n",
        "import matplotlib.pyplot as plt\n",
        "import time\n",
        "import joblib\n",
        "import gzip\n",
        "import json\n",
        "import seaborn as sns\n",
        "from google.colab import drive\n",
        "drive.mount('/content/drive')"
      ]
    },
    {
      "cell_type": "markdown",
      "metadata": {
        "id": "bhhHbBWheQb-"
      },
      "source": [
        "## Set Up paths"
      ]
    },
    {
      "cell_type": "code",
      "execution_count": 3,
      "metadata": {
        "id": "frFeRDORe2DQ"
      },
      "outputs": [],
      "source": [
        "# Parent paths\n",
        "parent_path = '/content/drive/My Drive/'\n",
        "\n",
        "\n",
        "#Specific paths\n",
        "path_hyperparameters_nb = parent_path+\"Web_Mining_Project/more_features/classifier_parameters/best_parameters/nb.csv\"\n",
        "path_hyperparameters_knn = parent_path+\"Web_Mining_Project/more_features/classifier_parameters/best_parameters/knn.csv\"\n",
        "path_hyperparameters_rf = parent_path+\"Web_Mining_Project/more_features/classifier_parameters/best_parameters/rf.csv\"\n",
        "path_hyperparameters_svm = parent_path+\"Web_Mining_Project/more_features/classifier_parameters/best_parameters/svm.csv\"\n",
        "path_hyperparameters_lr = parent_path+\"Web_Mining_Project/more_features/classifier_parameters/best_parameters/lr.csv\"\n",
        "\n",
        "path_best_parameters_nb = parent_path+\"Web_Mining_Project/more_features/classifier_parameters/nb.pkl\"\n",
        "path_best_parameters_knn = parent_path+\"Web_Mining_Project/more_features/classifier_parameters/knn.pkl\"\n",
        "path_best_parameters_rf = parent_path+\"Web_Mining_Project/more_features/classifier_parameters/rf.pkl\"\n",
        "path_best_parameters_svm = parent_path+\"Web_Mining_Project/more_features/classifier_parameters/svm.pkl\"\n",
        "path_best_parameters_lr = parent_path+\"Web_Mining_Project/more_features/classifier_parameters/lr.pkl\"\n",
        "#dataset paths \n",
        "path_complete_dataset = parent_path + \"Web_Mining_Project/data/complete_dataset.csv\"\n",
        "path_shortend_dataset = parent_path + \"Web_Mining_Project/data/shortend10000_dataset.csv\"\n",
        "path_shortend10000_preprocessed = parent_path + \"Web_Mining_Project/data/shortend10000_dataset_preprocessed.csv\"\n",
        "path_shortend50000_preprocessed = parent_path + \"Web_Mining_Project/data/shortend50000_dataset_preprocessed.csv\""
      ]
    },
    {
      "cell_type": "markdown",
      "metadata": {
        "id": "ghQeUaKCgx2L"
      },
      "source": [
        "## Set Up Functions"
      ]
    },
    {
      "cell_type": "code",
      "execution_count": 4,
      "metadata": {
        "id": "_IgovWRmgwRa"
      },
      "outputs": [],
      "source": [
        "# function for evaluation(confusion matrix)\n",
        "def plot_confusion_matrix(cm, classes,\n",
        "                          normalize=False,\n",
        "                          title='Confusion matrix',\n",
        "                          cmap=plt.cm.Blues):\n",
        "    \"\"\"\n",
        "    This function prints and plots the confusion matrix.\n",
        "    Normalization can be applied by setting `normalize=True`.\n",
        "    \"\"\"\n",
        "    if normalize:\n",
        "        cm = cm.astype('float') / cm.sum(axis=1)[:, np.newaxis]\n",
        "\n",
        "    plt.imshow(cm, interpolation='nearest', cmap=cmap)\n",
        "    plt.title(title)\n",
        "    plt.colorbar()\n",
        "    tick_marks = np.arange(len(classes))\n",
        "    plt.xticks(tick_marks, classes, rotation=45)\n",
        "    plt.yticks(tick_marks, classes)\n",
        "\n",
        "    fmt = '.2f' if normalize else 'd'\n",
        "    thresh = cm.max() / 2.\n",
        "    for i, j in itertools.product(range(cm.shape[0]), range(cm.shape[1])):\n",
        "        plt.text(j, i, format(cm[i, j], fmt),\n",
        "                 horizontalalignment=\"center\",\n",
        "                 color=\"white\" if cm[i, j] > thresh else \"black\")\n",
        "\n",
        "    plt.ylabel('True label')\n",
        "    plt.xlabel('Predicted label')\n",
        "    plt.tight_layout()\n",
        "\n",
        "# function for sentiment label creating \n",
        "def create_labels_from_rating(score):\n",
        "  score = int(score)\n",
        "  if score <= 2:\n",
        "    return 0 #negative\n",
        "  elif score == 3:\n",
        "    return 1 #neutral\n",
        "  else:\n",
        "    return 2 #positive\n",
        "  \n",
        "# function to bin vote column \n",
        "def bin_vote(vote):\n",
        "  vote = int(vote)\n",
        "\n",
        "  if vote < 2:\n",
        "    return 0\n",
        "  elif vote >= 2 and vote <= 6:\n",
        "    return 1 \n",
        "  else:\n",
        "    return 2"
      ]
    },
    {
      "cell_type": "markdown",
      "metadata": {
        "id": "2psw4oRk5UQu"
      },
      "source": [
        "# Data Download and Exploration"
      ]
    },
    {
      "cell_type": "code",
      "execution_count": 5,
      "metadata": {
        "colab": {
          "base_uri": "https://localhost:8080/",
          "height": 268
        },
        "id": "gOg75kouWVna",
        "outputId": "def4de8c-b35b-4264-bf17-12f92b5f9d52"
      },
      "outputs": [
        {
          "output_type": "stream",
          "name": "stdout",
          "text": [
            "(10000, 12)\n"
          ]
        },
        {
          "output_type": "execute_result",
          "data": {
            "text/plain": [
              "   overall  verified   reviewTime      reviewerID        asin  \\\n",
              "0      5.0      True  10 17, 2015  A1HP7NVNPFMA4N  0700026657   \n",
              "1      4.0     False  07 27, 2015  A1JGAP0185YJI6  0700026657   \n",
              "2      3.0      True  02 23, 2015  A1YJWEXHQBWK2B  0700026657   \n",
              "3      2.0      True  02 20, 2015  A2204E1TH211HT  0700026657   \n",
              "4      5.0      True  12 25, 2014  A2RF5B5H74JLPE  0700026657   \n",
              "\n",
              "        reviewerName                                         reviewText  \\\n",
              "0        Ambrosia075  This game is a bit hard to get the hang of, bu...   \n",
              "1             travis  I played it a while but it was alright. The st...   \n",
              "2  Vincent G. Mezera                                           ok game.   \n",
              "3         Grandma KR  found the game a bit too complicated, not what...   \n",
              "4                jon  great game, I love it and have played it since...   \n",
              "\n",
              "                                       summary  unixReviewTime  vote style  \\\n",
              "0                  but when you do it's great.      1445040000   NaN   NaN   \n",
              "1  But in spite of that it was fun, I liked it      1437955200   NaN   NaN   \n",
              "2                                  Three Stars      1424649600   NaN   NaN   \n",
              "3                                    Two Stars      1424390400   NaN   NaN   \n",
              "4                               love this game      1419465600   NaN   NaN   \n",
              "\n",
              "  image  \n",
              "0   NaN  \n",
              "1   NaN  \n",
              "2   NaN  \n",
              "3   NaN  \n",
              "4   NaN  "
            ],
            "text/html": [
              "\n",
              "  <div id=\"df-96c3b82d-e09d-469f-9d6a-6d61886b58d4\">\n",
              "    <div class=\"colab-df-container\">\n",
              "      <div>\n",
              "<style scoped>\n",
              "    .dataframe tbody tr th:only-of-type {\n",
              "        vertical-align: middle;\n",
              "    }\n",
              "\n",
              "    .dataframe tbody tr th {\n",
              "        vertical-align: top;\n",
              "    }\n",
              "\n",
              "    .dataframe thead th {\n",
              "        text-align: right;\n",
              "    }\n",
              "</style>\n",
              "<table border=\"1\" class=\"dataframe\">\n",
              "  <thead>\n",
              "    <tr style=\"text-align: right;\">\n",
              "      <th></th>\n",
              "      <th>overall</th>\n",
              "      <th>verified</th>\n",
              "      <th>reviewTime</th>\n",
              "      <th>reviewerID</th>\n",
              "      <th>asin</th>\n",
              "      <th>reviewerName</th>\n",
              "      <th>reviewText</th>\n",
              "      <th>summary</th>\n",
              "      <th>unixReviewTime</th>\n",
              "      <th>vote</th>\n",
              "      <th>style</th>\n",
              "      <th>image</th>\n",
              "    </tr>\n",
              "  </thead>\n",
              "  <tbody>\n",
              "    <tr>\n",
              "      <th>0</th>\n",
              "      <td>5.0</td>\n",
              "      <td>True</td>\n",
              "      <td>10 17, 2015</td>\n",
              "      <td>A1HP7NVNPFMA4N</td>\n",
              "      <td>0700026657</td>\n",
              "      <td>Ambrosia075</td>\n",
              "      <td>This game is a bit hard to get the hang of, bu...</td>\n",
              "      <td>but when you do it's great.</td>\n",
              "      <td>1445040000</td>\n",
              "      <td>NaN</td>\n",
              "      <td>NaN</td>\n",
              "      <td>NaN</td>\n",
              "    </tr>\n",
              "    <tr>\n",
              "      <th>1</th>\n",
              "      <td>4.0</td>\n",
              "      <td>False</td>\n",
              "      <td>07 27, 2015</td>\n",
              "      <td>A1JGAP0185YJI6</td>\n",
              "      <td>0700026657</td>\n",
              "      <td>travis</td>\n",
              "      <td>I played it a while but it was alright. The st...</td>\n",
              "      <td>But in spite of that it was fun, I liked it</td>\n",
              "      <td>1437955200</td>\n",
              "      <td>NaN</td>\n",
              "      <td>NaN</td>\n",
              "      <td>NaN</td>\n",
              "    </tr>\n",
              "    <tr>\n",
              "      <th>2</th>\n",
              "      <td>3.0</td>\n",
              "      <td>True</td>\n",
              "      <td>02 23, 2015</td>\n",
              "      <td>A1YJWEXHQBWK2B</td>\n",
              "      <td>0700026657</td>\n",
              "      <td>Vincent G. Mezera</td>\n",
              "      <td>ok game.</td>\n",
              "      <td>Three Stars</td>\n",
              "      <td>1424649600</td>\n",
              "      <td>NaN</td>\n",
              "      <td>NaN</td>\n",
              "      <td>NaN</td>\n",
              "    </tr>\n",
              "    <tr>\n",
              "      <th>3</th>\n",
              "      <td>2.0</td>\n",
              "      <td>True</td>\n",
              "      <td>02 20, 2015</td>\n",
              "      <td>A2204E1TH211HT</td>\n",
              "      <td>0700026657</td>\n",
              "      <td>Grandma KR</td>\n",
              "      <td>found the game a bit too complicated, not what...</td>\n",
              "      <td>Two Stars</td>\n",
              "      <td>1424390400</td>\n",
              "      <td>NaN</td>\n",
              "      <td>NaN</td>\n",
              "      <td>NaN</td>\n",
              "    </tr>\n",
              "    <tr>\n",
              "      <th>4</th>\n",
              "      <td>5.0</td>\n",
              "      <td>True</td>\n",
              "      <td>12 25, 2014</td>\n",
              "      <td>A2RF5B5H74JLPE</td>\n",
              "      <td>0700026657</td>\n",
              "      <td>jon</td>\n",
              "      <td>great game, I love it and have played it since...</td>\n",
              "      <td>love this game</td>\n",
              "      <td>1419465600</td>\n",
              "      <td>NaN</td>\n",
              "      <td>NaN</td>\n",
              "      <td>NaN</td>\n",
              "    </tr>\n",
              "  </tbody>\n",
              "</table>\n",
              "</div>\n",
              "      <button class=\"colab-df-convert\" onclick=\"convertToInteractive('df-96c3b82d-e09d-469f-9d6a-6d61886b58d4')\"\n",
              "              title=\"Convert this dataframe to an interactive table.\"\n",
              "              style=\"display:none;\">\n",
              "        \n",
              "  <svg xmlns=\"http://www.w3.org/2000/svg\" height=\"24px\"viewBox=\"0 0 24 24\"\n",
              "       width=\"24px\">\n",
              "    <path d=\"M0 0h24v24H0V0z\" fill=\"none\"/>\n",
              "    <path d=\"M18.56 5.44l.94 2.06.94-2.06 2.06-.94-2.06-.94-.94-2.06-.94 2.06-2.06.94zm-11 1L8.5 8.5l.94-2.06 2.06-.94-2.06-.94L8.5 2.5l-.94 2.06-2.06.94zm10 10l.94 2.06.94-2.06 2.06-.94-2.06-.94-.94-2.06-.94 2.06-2.06.94z\"/><path d=\"M17.41 7.96l-1.37-1.37c-.4-.4-.92-.59-1.43-.59-.52 0-1.04.2-1.43.59L10.3 9.45l-7.72 7.72c-.78.78-.78 2.05 0 2.83L4 21.41c.39.39.9.59 1.41.59.51 0 1.02-.2 1.41-.59l7.78-7.78 2.81-2.81c.8-.78.8-2.07 0-2.86zM5.41 20L4 18.59l7.72-7.72 1.47 1.35L5.41 20z\"/>\n",
              "  </svg>\n",
              "      </button>\n",
              "      \n",
              "  <style>\n",
              "    .colab-df-container {\n",
              "      display:flex;\n",
              "      flex-wrap:wrap;\n",
              "      gap: 12px;\n",
              "    }\n",
              "\n",
              "    .colab-df-convert {\n",
              "      background-color: #E8F0FE;\n",
              "      border: none;\n",
              "      border-radius: 50%;\n",
              "      cursor: pointer;\n",
              "      display: none;\n",
              "      fill: #1967D2;\n",
              "      height: 32px;\n",
              "      padding: 0 0 0 0;\n",
              "      width: 32px;\n",
              "    }\n",
              "\n",
              "    .colab-df-convert:hover {\n",
              "      background-color: #E2EBFA;\n",
              "      box-shadow: 0px 1px 2px rgba(60, 64, 67, 0.3), 0px 1px 3px 1px rgba(60, 64, 67, 0.15);\n",
              "      fill: #174EA6;\n",
              "    }\n",
              "\n",
              "    [theme=dark] .colab-df-convert {\n",
              "      background-color: #3B4455;\n",
              "      fill: #D2E3FC;\n",
              "    }\n",
              "\n",
              "    [theme=dark] .colab-df-convert:hover {\n",
              "      background-color: #434B5C;\n",
              "      box-shadow: 0px 1px 3px 1px rgba(0, 0, 0, 0.15);\n",
              "      filter: drop-shadow(0px 1px 2px rgba(0, 0, 0, 0.3));\n",
              "      fill: #FFFFFF;\n",
              "    }\n",
              "  </style>\n",
              "\n",
              "      <script>\n",
              "        const buttonEl =\n",
              "          document.querySelector('#df-96c3b82d-e09d-469f-9d6a-6d61886b58d4 button.colab-df-convert');\n",
              "        buttonEl.style.display =\n",
              "          google.colab.kernel.accessAllowed ? 'block' : 'none';\n",
              "\n",
              "        async function convertToInteractive(key) {\n",
              "          const element = document.querySelector('#df-96c3b82d-e09d-469f-9d6a-6d61886b58d4');\n",
              "          const dataTable =\n",
              "            await google.colab.kernel.invokeFunction('convertToInteractive',\n",
              "                                                     [key], {});\n",
              "          if (!dataTable) return;\n",
              "\n",
              "          const docLinkHtml = 'Like what you see? Visit the ' +\n",
              "            '<a target=\"_blank\" href=https://colab.research.google.com/notebooks/data_table.ipynb>data table notebook</a>'\n",
              "            + ' to learn more about interactive tables.';\n",
              "          element.innerHTML = '';\n",
              "          dataTable['output_type'] = 'display_data';\n",
              "          await google.colab.output.renderOutput(dataTable, element);\n",
              "          const docLink = document.createElement('div');\n",
              "          docLink.innerHTML = docLinkHtml;\n",
              "          element.appendChild(docLink);\n",
              "        }\n",
              "      </script>\n",
              "    </div>\n",
              "  </div>\n",
              "  "
            ]
          },
          "metadata": {},
          "execution_count": 5
        }
      ],
      "source": [
        "# create dataframe \n",
        "df = pd.read_csv(path_shortend_dataset)\n",
        "df.drop(columns=['Unnamed: 0'], inplace=True)\n",
        "print(df.shape)\n",
        "df.head()"
      ]
    },
    {
      "cell_type": "code",
      "execution_count": 6,
      "metadata": {
        "colab": {
          "base_uri": "https://localhost:8080/",
          "height": 1000
        },
        "id": "G_CWaKAg6ceh",
        "outputId": "60e72483-568e-46a4-a2cb-12718bbd101e"
      },
      "outputs": [
        {
          "output_type": "stream",
          "name": "stdout",
          "text": [
            "overall           False\n",
            "verified          False\n",
            "reviewTime        False\n",
            "reviewerID        False\n",
            "asin              False\n",
            "reviewerName      False\n",
            "reviewText        False\n",
            "summary            True\n",
            "unixReviewTime    False\n",
            "vote               True\n",
            "style              True\n",
            "image              True\n",
            "dtype: bool\n",
            "\n",
            "<class 'pandas.core.frame.DataFrame'>\n",
            "RangeIndex: 10000 entries, 0 to 9999\n",
            "Data columns (total 12 columns):\n",
            " #   Column          Non-Null Count  Dtype  \n",
            "---  ------          --------------  -----  \n",
            " 0   overall         10000 non-null  float64\n",
            " 1   verified        10000 non-null  bool   \n",
            " 2   reviewTime      10000 non-null  object \n",
            " 3   reviewerID      10000 non-null  object \n",
            " 4   asin            10000 non-null  object \n",
            " 5   reviewerName    10000 non-null  object \n",
            " 6   reviewText      10000 non-null  object \n",
            " 7   summary         9999 non-null   object \n",
            " 8   unixReviewTime  10000 non-null  int64  \n",
            " 9   vote            2716 non-null   float64\n",
            " 10  style           3784 non-null   object \n",
            " 11  image           50 non-null     object \n",
            "dtypes: bool(1), float64(2), int64(1), object(8)\n",
            "memory usage: 869.3+ KB\n",
            "\n",
            "overall           float64\n",
            "verified             bool\n",
            "reviewTime         object\n",
            "reviewerID         object\n",
            "asin               object\n",
            "reviewerName       object\n",
            "reviewText         object\n",
            "summary            object\n",
            "unixReviewTime      int64\n",
            "vote              float64\n",
            "style              object\n",
            "image              object\n",
            "dtype: object\n",
            "\n",
            "count    10000.000000\n",
            "mean         4.391900\n",
            "std          1.042316\n",
            "min          1.000000\n",
            "25%          4.000000\n",
            "50%          5.000000\n",
            "75%          5.000000\n",
            "max          5.000000\n",
            "Name: overall, dtype: float64\n",
            "\n"
          ]
        },
        {
          "output_type": "stream",
          "name": "stderr",
          "text": [
            "/usr/local/lib/python3.7/dist-packages/seaborn/_decorators.py:43: FutureWarning: Pass the following variable as a keyword arg: x. From version 0.12, the only valid positional argument will be `data`, and passing other arguments without an explicit keyword will result in an error or misinterpretation.\n",
            "  FutureWarning\n"
          ]
        },
        {
          "output_type": "display_data",
          "data": {
            "text/plain": [
              "<Figure size 432x288 with 1 Axes>"
            ],
            "image/png": "[encoded data removed]"
          },
          "metadata": {
            "needs_background": "light"
          }
        },
        {
          "output_type": "stream",
          "name": "stdout",
          "text": [
            "\n",
            "\n",
            "count    10000.000000\n",
            "mean         1.743100\n",
            "std          7.031931\n",
            "min          0.000000\n",
            "25%          0.000000\n",
            "50%          0.000000\n",
            "75%          2.000000\n",
            "max        281.000000\n",
            "Name: vote, dtype: float64\n"
          ]
        },
        {
          "output_type": "stream",
          "name": "stderr",
          "text": [
            "/usr/local/lib/python3.7/dist-packages/seaborn/_decorators.py:43: FutureWarning: Pass the following variable as a keyword arg: x. From version 0.12, the only valid positional argument will be `data`, and passing other arguments without an explicit keyword will result in an error or misinterpretation.\n",
            "  FutureWarning\n"
          ]
        },
        {
          "output_type": "execute_result",
          "data": {
            "text/plain": [
              "<matplotlib.axes._subplots.AxesSubplot at 0x7fe8a2ebb910>"
            ]
          },
          "metadata": {},
          "execution_count": 6
        },
        {
          "output_type": "display_data",
          "data": {
            "text/plain": [
              "<Figure size 432x288 with 1 Axes>"
            ],
            "image/png": "[encoded data removed]"
          },
          "metadata": {
            "needs_background": "light"
          }
        },
        {
          "output_type": "display_data",
          "data": {
            "text/plain": [
              "<Figure size 432x288 with 1 Axes>"
            ],
            "image/png": "[encoded data removed]"
          },
          "metadata": {
            "needs_background": "light"
          }
        }
      ],
      "source": [
        "# General Information and Null values\n",
        "print(df.isnull().any())\n",
        "print()\n",
        "df.info()\n",
        "print()\n",
        "print(df.dtypes)\n",
        "print()\n",
        "print(df.overall.describe())\n",
        "print()\n",
        "# plot the score & check for the distribution of the star ratings \n",
        "sns.countplot(df.overall)\n",
        "plt.show()\n",
        "print()\n",
        "# plot distribution of vote column\n",
        "df['vote'] = df['vote'].fillna(0)\n",
        "sns.countplot(df.vote)\n",
        "print()\n",
        "print(df.vote.describe())\n",
        "# plot vote depending on overall\n",
        "df.plot(x='overall', y='vote', style='o')"
      ]
    },
    {
      "cell_type": "markdown",
      "metadata": {
        "id": "Ub4lefsY5XwW"
      },
      "source": [
        "# Data Preprocessing and further Exploration"
      ]
    },
    {
      "cell_type": "markdown",
      "metadata": {
        "id": "T6qhdNDLviKC"
      },
      "source": [
        "## Label creation"
      ]
    },
    {
      "cell_type": "code",
      "execution_count": 7,
      "metadata": {
        "colab": {
          "base_uri": "https://localhost:8080/",
          "height": 334
        },
        "id": "oC2lhUbiv6fy",
        "outputId": "d16bfa45-a208-48fa-b91c-654ddbbdefc3"
      },
      "outputs": [
        {
          "output_type": "stream",
          "name": "stderr",
          "text": [
            "/usr/local/lib/python3.7/dist-packages/seaborn/_decorators.py:43: FutureWarning: Pass the following variable as a keyword arg: x. From version 0.12, the only valid positional argument will be `data`, and passing other arguments without an explicit keyword will result in an error or misinterpretation.\n",
            "  FutureWarning\n"
          ]
        },
        {
          "output_type": "display_data",
          "data": {
            "text/plain": [
              "<Figure size 432x288 with 1 Axes>"
            ],
            "image/png": "[encoded data removed]"
          },
          "metadata": {
            "needs_background": "light"
          }
        }
      ],
      "source": [
        "df['label'] = df['overall'].apply(create_labels_from_rating)\n",
        "# drop labels 1 \n",
        "df = df[df.label != 1]\n",
        "\n",
        "# plot the score & check for the distribution of the star ratings \n",
        "sns.countplot(df.label)\n",
        "plt.show()"
      ]
    },
    {
      "cell_type": "markdown",
      "metadata": {
        "id": "PyHX54AVnI4U"
      },
      "source": [
        "## Feature Generation and Selection"
      ]
    },
    {
      "cell_type": "code",
      "source": [
        "df.sort_values(by=['unixReviewTime'], inplace=True)\n",
        "df.reset_index(drop=True, inplace=True)\n",
        "\n",
        "\n",
        "# detecting ratings score per user\n",
        "df['reviewer_mean_score'] = df.groupby(['reviewerID'])['overall'].apply(lambda x: x.expanding(1).mean().shift()).reset_index(0,drop=True)\n",
        "df['reviewer_min_score'] = df.groupby(['reviewerID'])['overall'].apply(lambda x: x.expanding(1).min().shift()).reset_index(0,drop=True)\n",
        "df['reviewer_max_score'] = df.groupby(['reviewerID'])['overall'].apply(lambda x: x.expanding(1).max().shift()).reset_index(0,drop=True)\n",
        "# detecting ratings score per item\n",
        "df['item_mean_score'] = df.groupby(['asin'])['overall'].apply(lambda x: x.expanding(1).mean().shift()).reset_index(0,drop=True)\n",
        "df['item_min_score'] = df.groupby(['asin'])['overall'].apply(lambda x: x.expanding(1).min().shift()).reset_index(0,drop=True)\n",
        "df['item_max_score'] = df.groupby(['asin'])['overall'].apply(lambda x: x.expanding(1).max().shift()).reset_index(0,drop=True)\n",
        "df.drop(columns=['overall','reviewerName','reviewerID', 'asin', 'reviewTime','style', 'image'], inplace=True)\n",
        "# assigning values for nans\n",
        "df['reviewer_mean_score'] = df['reviewer_mean_score'].fillna(3)\n",
        "df['reviewer_min_score'] = df['reviewer_min_score'].fillna(3)\n",
        "df['reviewer_max_score'] = df['reviewer_max_score'].fillna(3)\n",
        "df['item_mean_score'] = df['item_mean_score'].fillna(3)\n",
        "df['item_min_score'] = df['item_min_score'].fillna(3)\n",
        "df['item_max_score'] = df['item_max_score'].fillna(3)"
      ],
      "metadata": {
        "id": "_CcYQxlDZ_u6",
        "colab": {
          "base_uri": "https://localhost:8080/"
        },
        "outputId": "6a57fd0d-3e37-48ef-ce71-45de9fd0df78"
      },
      "execution_count": 8,
      "outputs": [
        {
          "output_type": "stream",
          "name": "stderr",
          "text": [
            "/usr/local/lib/python3.7/dist-packages/pandas/util/_decorators.py:311: SettingWithCopyWarning: \n",
            "A value is trying to be set on a copy of a slice from a DataFrame\n",
            "\n",
            "See the caveats in the documentation: https://pandas.pydata.org/pandas-docs/stable/user_guide/indexing.html#returning-a-view-versus-a-copy\n",
            "  return func(*args, **kwargs)\n"
          ]
        }
      ]
    },
    {
      "cell_type": "code",
      "execution_count": 9,
      "metadata": {
        "colab": {
          "base_uri": "https://localhost:8080/"
        },
        "id": "sH2tmY5m4fIZ",
        "outputId": "de6d1972-f6c4-4edc-8813-1113a71e92d8"
      },
      "outputs": [
        {
          "output_type": "stream",
          "name": "stdout",
          "text": [
            "(9191, 12)\n",
            "   verified                                         reviewText  \\\n",
            "0     False  I'm having the most fun I've ever had on PlayS...   \n",
            "1     False  I'm usually not crazy about real-time strategy...   \n",
            "2     False  This is the football game to play with friends...   \n",
            "3     False  This game actually scared me a couple times, a...   \n",
            "4      True  If you loved Half-Life, this is a must buy. I ...   \n",
            "\n",
            "                           summary  unixReviewTime  vote  label  \\\n",
            "0                   Best RPG Ever!       939859200   0.0      2   \n",
            "1     Good real time strategy game       941760000   3.0      2   \n",
            "2   Easy-to-learn football hijinks       942192000   5.0      2   \n",
            "3  A good game, but way too short!       942192000  10.0      2   \n",
            "4                         AWESOME!       942192000   5.0      2   \n",
            "\n",
            "   reviewer_mean_score  reviewer_min_score  reviewer_max_score  \\\n",
            "0                  3.0                 3.0                 3.0   \n",
            "1                  3.0                 3.0                 3.0   \n",
            "2                  3.0                 3.0                 3.0   \n",
            "3                  3.0                 3.0                 3.0   \n",
            "4                  3.0                 3.0                 3.0   \n",
            "\n",
            "   item_mean_score  item_min_score  item_max_score  \n",
            "0              3.0             3.0             3.0  \n",
            "1              3.0             3.0             3.0  \n",
            "2              3.0             3.0             3.0  \n",
            "3              3.0             3.0             3.0  \n",
            "4              3.0             3.0             3.0  \n"
          ]
        }
      ],
      "source": [
        "df = df[df['reviewText'].apply(lambda x: isinstance(x, str))] \n",
        "df = df[df['summary'].apply(lambda x: isinstance(x, str))]\n",
        "df.dropna(inplace=True)\n",
        "print(df.shape)\n",
        "print(df.head())"
      ]
    },
    {
      "cell_type": "markdown",
      "metadata": {
        "id": "pocsiti49v2l"
      },
      "source": [
        "## Tokenization "
      ]
    },
    {
      "cell_type": "code",
      "execution_count": 10,
      "metadata": {
        "colab": {
          "base_uri": "https://localhost:8080/"
        },
        "id": "Bs6W6wRsA1hz",
        "outputId": "1869a7f3-e5b9-4ced-a834-6e1804b357b8"
      },
      "outputs": [
        {
          "output_type": "stream",
          "name": "stdout",
          "text": [
            "   verified                                         reviewText  \\\n",
            "0     False  I'm fun I've ever PlayStation! I highly recomm...   \n",
            "1     False  I'm usually crazy real-time strategy games, te...   \n",
            "2     False  This football game play friends neighbors, sin...   \n",
            "3     False  This game actually scared couple times, I witn...   \n",
            "4      True  If loved Half-Life, must buy. I big FPshooter ...   \n",
            "\n",
            "                          summary  unixReviewTime  vote  label  \\\n",
            "0                  Best RPG Ever!       939859200   0.0      2   \n",
            "1    Good real time strategy game       941760000   3.0      2   \n",
            "2  Easy-to-learn football hijinks       942192000   5.0      2   \n",
            "3         A good game, way short!       942192000  10.0      2   \n",
            "4                        AWESOME!       942192000   5.0      2   \n",
            "\n",
            "   reviewer_mean_score  reviewer_min_score  reviewer_max_score  \\\n",
            "0                  3.0                 3.0                 3.0   \n",
            "1                  3.0                 3.0                 3.0   \n",
            "2                  3.0                 3.0                 3.0   \n",
            "3                  3.0                 3.0                 3.0   \n",
            "4                  3.0                 3.0                 3.0   \n",
            "\n",
            "   item_mean_score  item_min_score  item_max_score  \n",
            "0              3.0             3.0             3.0  \n",
            "1              3.0             3.0             3.0  \n",
            "2              3.0             3.0             3.0  \n",
            "3              3.0             3.0             3.0  \n",
            "4              3.0             3.0             3.0  \n",
            "(9191, 12)\n"
          ]
        }
      ],
      "source": [
        "df = df[df['reviewText'].apply(lambda x: isinstance(x, str))] \n",
        "df = df[df['summary'].apply(lambda x: isinstance(x, str))]\n",
        "\n",
        "#tokenize and use stemming \n",
        "#stemmer = PorterStemmer()\n",
        "#print(df.head())\n",
        "#df['reviewText'] = df['reviewText'].apply(lambda x: ' '.join([stemmer.stem(word) for word in x.split()]))\n",
        "#df['summary'] = df['summary'].apply(lambda x: ' '.join([stemmer.stem(word) for word in x.split()]))\n",
        "#print(df.head())\n",
        "\n",
        "# tokenize and remove stopwords \n",
        "stop = stopwords.words('english')\n",
        "df['reviewText'] = df['reviewText'].apply(lambda x: ' '.join([word for word in x.split() if word not in (stop)]))\n",
        "df['summary'] = df['summary'].apply(lambda x: ' '.join([word for word in x.split() if word not in (stop)]))\n",
        "df.dropna(inplace=True)\n",
        "print(df.head())\n",
        "print(df.shape)"
      ]
    },
    {
      "cell_type": "markdown",
      "metadata": {
        "id": "h0Huq-553D0p"
      },
      "source": [
        "# Train Test Split and shortening "
      ]
    },
    {
      "cell_type": "code",
      "execution_count": 11,
      "metadata": {
        "id": "V304yhm93NOu"
      },
      "outputs": [],
      "source": [
        "df.dropna(inplace=True)\n",
        "df = df[df['reviewText'].apply(lambda x: isinstance(x, str))] \n",
        "df = df[df['summary'].apply(lambda x: isinstance(x, str))]"
      ]
    },
    {
      "cell_type": "code",
      "execution_count": 12,
      "metadata": {
        "colab": {
          "base_uri": "https://localhost:8080/"
        },
        "id": "W4AtH8CR3SKs",
        "outputId": "6105bc41-92e7-42ce-f2ce-39f7aa0c66eb"
      },
      "outputs": [
        {
          "output_type": "stream",
          "name": "stdout",
          "text": [
            "y_train: (7352,)/ x_train: (7352, 12)\n",
            "y_test: (1839,)/ x_test: (1839, 12)\n",
            "      verified                                         reviewText  \\\n",
            "1254     False  The mother good games given birth yet another ...   \n",
            "3188     False  loved first disc ended, final fantasy 8 much. ...   \n",
            "6716      True  I thought work I sent back. Bought another I t...   \n",
            "3301     False  Okay,the game addicting. The sound,graphics,ga...   \n",
            "2946     False  Ok... This game way way way under-rated!!! Wha...   \n",
            "\n",
            "                                                summary  unixReviewTime  vote  \\\n",
            "1254  HOLY MOTHER OF GOOD GAMES!! SHE HAD ANOTHER ON...       992995200   0.0   \n",
            "3188                                               cool      1105920000   0.0   \n",
            "6716                                     Fast shipping!      1405036800   0.0   \n",
            "3301                                      Excellent,but      1116028800   0.0   \n",
            "2946          What's wrong people? This perfect game!!!      1085529600   0.0   \n",
            "\n",
            "      label  reviewer_mean_score  reviewer_min_score  reviewer_max_score  \\\n",
            "1254      2                  5.0                 5.0                 5.0   \n",
            "3188      2                  3.0                 3.0                 3.0   \n",
            "6716      2                  5.0                 5.0                 5.0   \n",
            "3301      2                  3.0                 3.0                 3.0   \n",
            "2946      2                  4.0                 4.0                 4.0   \n",
            "\n",
            "      item_mean_score  item_min_score  item_max_score  \n",
            "1254         4.640000             2.0             5.0  \n",
            "3188         4.049383             1.0             5.0  \n",
            "6716         4.500000             1.0             5.0  \n",
            "3301         4.552632             2.0             5.0  \n",
            "2946         4.747126             1.0             5.0  \n"
          ]
        }
      ],
      "source": [
        "# split into train and test set\n",
        "x_train, x_test = train_test_split(df, test_size=0.2, random_state = 453, stratify=df['label'])\n",
        "\n",
        "y_train = x_train['label']\n",
        "y_test = x_test['label']\n",
        "\n",
        "print (f\"y_train: {y_train.shape}/ x_train: {x_train.shape}\")\n",
        "print (f\"y_test: {y_test.shape}/ x_test: {x_test.shape}\")\n",
        "\n",
        "print(x_train.head())"
      ]
    },
    {
      "cell_type": "markdown",
      "metadata": {
        "id": "-c_g4TzPQt8_"
      },
      "source": [
        "# Model Training"
      ]
    },
    {
      "cell_type": "markdown",
      "metadata": {
        "id": "hTCfxyjHohj8"
      },
      "source": [
        "## Set Up Pipeline"
      ]
    },
    {
      "cell_type": "code",
      "execution_count": 13,
      "metadata": {
        "colab": {
          "base_uri": "https://localhost:8080/"
        },
        "id": "da4hsNzPog0r",
        "outputId": "28973bea-4f86-44cf-f0c2-a230d925f3e3"
      },
      "outputs": [
        {
          "output_type": "stream",
          "name": "stdout",
          "text": [
            "(7352, 11)\n",
            "(7352,)\n",
            "      verified                                         reviewText  \\\n",
            "1254     False  The mother good games given birth yet another ...   \n",
            "3188     False  loved first disc ended, final fantasy 8 much. ...   \n",
            "6716      True  I thought work I sent back. Bought another I t...   \n",
            "3301     False  Okay,the game addicting. The sound,graphics,ga...   \n",
            "2946     False  Ok... This game way way way under-rated!!! Wha...   \n",
            "\n",
            "                                                summary  unixReviewTime  vote  \\\n",
            "1254  HOLY MOTHER OF GOOD GAMES!! SHE HAD ANOTHER ON...       992995200   0.0   \n",
            "3188                                               cool      1105920000   0.0   \n",
            "6716                                     Fast shipping!      1405036800   0.0   \n",
            "3301                                      Excellent,but      1116028800   0.0   \n",
            "2946          What's wrong people? This perfect game!!!      1085529600   0.0   \n",
            "\n",
            "      reviewer_mean_score  reviewer_min_score  reviewer_max_score  \\\n",
            "1254                  5.0                 5.0                 5.0   \n",
            "3188                  3.0                 3.0                 3.0   \n",
            "6716                  5.0                 5.0                 5.0   \n",
            "3301                  3.0                 3.0                 3.0   \n",
            "2946                  4.0                 4.0                 4.0   \n",
            "\n",
            "      item_mean_score  item_min_score  item_max_score  \n",
            "1254         4.640000             2.0             5.0  \n",
            "3188         4.049383             1.0             5.0  \n",
            "6716         4.500000             1.0             5.0  \n",
            "3301         4.552632             2.0             5.0  \n",
            "2946         4.747126             1.0             5.0  \n"
          ]
        }
      ],
      "source": [
        "\n",
        "# define column transformer\n",
        "transformer = ColumnTransformer(transformers=[('tf_reviewText', TfidfVectorizer(max_df=0.75, smooth_idf=False, norm='l2'), 'reviewText'), ('tf_summary', TfidfVectorizer(max_df=0.75, smooth_idf=False, norm='l2'), 'summary')], remainder='passthrough')\n",
        "\n",
        "# define sampling\n",
        "sampling = RandomOverSampler(random_state=452)\n",
        "\n",
        "# define the scoring function\n",
        "f1 = make_scorer(f1_score, average='weighted')\n",
        "\n",
        "# set up cross validation configuration\n",
        "cv = StratifiedKFold(n_splits=5, shuffle=True, random_state=42)\n",
        "\n",
        "# dataset preparation\n",
        "x_train.drop(columns = ['label'], inplace= True)\n",
        "x_test.drop(columns = ['label'], inplace= True)\n",
        "#x_train = x_train['reviewText']\n",
        "#x_test = x_valid['reviewText']\n",
        "print(x_train.shape)\n",
        "print(y_train.shape)\n",
        "print(x_train.head(5))\n",
        "\n",
        "\n"
      ]
    },
    {
      "cell_type": "markdown",
      "metadata": {
        "id": "GjcsWovnRMvl"
      },
      "source": [
        "## Naïve Bayes"
      ]
    },
    {
      "cell_type": "code",
      "execution_count": 14,
      "metadata": {
        "colab": {
          "base_uri": "https://localhost:8080/"
        },
        "id": "kJvXgDr9qutk",
        "outputId": "9a7273be-e3b5-48ac-dd9d-0ac5a8960952"
      },
      "outputs": [
        {
          "output_type": "stream",
          "name": "stdout",
          "text": [
            "Pipeline(steps=[('FeaturePreprocessing',\n",
            "                 ColumnTransformer(remainder='passthrough',\n",
            "                                   transformers=[('tf_reviewText',\n",
            "                                                  TfidfVectorizer(max_df=0.75,\n",
            "                                                                  smooth_idf=False),\n",
            "                                                  'reviewText'),\n",
            "                                                 ('tf_summary',\n",
            "                                                  TfidfVectorizer(max_df=0.75,\n",
            "                                                                  smooth_idf=False),\n",
            "                                                  'summary')])),\n",
            "                ('balancing', RandomOverSampler(random_state=452)),\n",
            "                ('estimator', MultinomialNB())])\n",
            "Fitting 5 folds for each of 6 candidates, totalling 30 fits\n",
            "--- 35.82756567001343 seconds ---\n",
            "Multinomial NBClassifier: 91.87923312883349% F1-score for class 'label' with parameters {'estimator__alpha': 0.1}\n"
          ]
        },
        {
          "output_type": "execute_result",
          "data": {
            "text/plain": [
              "['/content/drive/My Drive/Web_Mining_Project/more_features/classifier_parameters/nb.pkl']"
            ]
          },
          "metadata": {},
          "execution_count": 14
        }
      ],
      "source": [
        "\n",
        "# Optimize parameters for NB Classifier\n",
        "from sklearn.naive_bayes import MultinomialNB\n",
        "estimator = MultinomialNB()\n",
        "\n",
        "# Define grid of possible hyperparamters values \n",
        "parameters = {\n",
        "    #'vectorizer__max_df': [0.25, 0.5, 0.75, 1.0],  ------- used vectorizer parameters from only text runs with classifiers\n",
        "    #'vectorizer__smooth_idf': (True, False),\n",
        "    #'vectorizer__norm': ('l1', 'l2', None),\n",
        "    'estimator__alpha': [ 0.0001, 0.001, 0.01, 0.1, 1, 10],\n",
        "}\n",
        "\n",
        "# Create a pipeline\n",
        "pipeline = Pipeline([ ('FeaturePreprocessing', transformer),('balancing', sampling), ('estimator', estimator) ])\n",
        "print(pipeline)\n",
        "\n",
        "# Hyperparameter optimization with Grid Search\n",
        "start_time = time.time()\n",
        "grid_search_estimator = GridSearchCV(pipeline, parameters, scoring=f1, cv=cv, return_train_score=False, n_jobs=-1, verbose=10)\n",
        "grid_search_estimator.fit(x_train, y_train)\n",
        "\n",
        "print(\"--- %s seconds ---\" % (time.time() - start_time))\n",
        "print(\"Multinomial NBClassifier: {}% F1-score for class 'label' with parameters {}\".format(grid_search_estimator.best_score_ * 100, grid_search_estimator.best_params_))\n",
        "\n",
        "# Save hyperparameter optmization results\n",
        "df_hyper = pd.DataFrame(grid_search_estimator.cv_results_)\n",
        "df_hyper.to_csv(path_hyperparameters_nb, index=False)\n",
        "\n",
        "# Save best hyperparameters values\n",
        "joblib.dump(grid_search_estimator.best_params_, path_best_parameters_nb, compress = 1) # Only best parameters\n"
      ]
    },
    {
      "cell_type": "code",
      "execution_count": 15,
      "metadata": {
        "colab": {
          "base_uri": "https://localhost:8080/",
          "height": 453
        },
        "id": "GZuCTfkb-TFF",
        "outputId": "c6195948-e118-4592-8dce-67ab42ccdf56"
      },
      "outputs": [
        {
          "output_type": "stream",
          "name": "stdout",
          "text": [
            "              precision    recall  f1-score   support\n",
            "\n",
            "           0       0.49      0.56      0.52       151\n",
            "           2       0.96      0.95      0.95      1688\n",
            "\n",
            "    accuracy                           0.92      1839\n",
            "   macro avg       0.73      0.75      0.74      1839\n",
            "weighted avg       0.92      0.92      0.92      1839\n",
            "\n"
          ]
        },
        {
          "output_type": "display_data",
          "data": {
            "text/plain": [
              "<Figure size 432x288 with 2 Axes>"
            ],
            "image/png": "[encoded data removed]"
          },
          "metadata": {
            "needs_background": "light"
          }
        }
      ],
      "source": [
        "prediction = grid_search_estimator.predict(x_test)\n",
        "cm = confusion_matrix(y_test, prediction)\n",
        "plot_confusion_matrix(cm, classes = unique_labels(y_test), title = \"NB Classifier on Test Set\")\n",
        "print(classification_report(y_test, prediction))"
      ]
    },
    {
      "cell_type": "markdown",
      "source": [
        "## Knn"
      ],
      "metadata": {
        "id": "d9bPYcxzjMjb"
      }
    },
    {
      "cell_type": "code",
      "source": [
        "# Optimize parameters for KNN Classifier\n",
        "from sklearn.neighbors import KNeighborsClassifier\n",
        "estimator = KNeighborsClassifier()\n",
        "\n",
        "transformer = ColumnTransformer(transformers=[('tf_reviewText', TfidfVectorizer(max_df=0.75, smooth_idf=False, norm=None), 'reviewText'), ('tf_summary', TfidfVectorizer(max_df=0.75, smooth_idf=False, norm=None), 'summary')], remainder='passthrough')\n",
        "\n",
        "# Define grid of posible hyperparamters values \n",
        "parameters = {\n",
        "    #'vectorizer__max_df': [0.25, 0.5, 0.75, 1.0],\n",
        "    #'vectorizer__smooth_idf': (True, False),\n",
        "    #'vectorizer__norm': ('l1', 'l2', None),\n",
        "    'estimator__n_neighbors': [5, 10, 15, 20, 25],\n",
        "    'estimator__weights': ['uniform','distance'],\n",
        "    'estimator__algorithm':['auto', 'ball_tree', 'kd_tree', 'brute'],\n",
        "       }\n",
        "\n",
        "# Create a pipeline\n",
        "pipeline = Pipeline([ ('FeaturePreprocessing', transformer), ('balancing', sampling), ('estimator', estimator) ])\n",
        "print(pipeline)\n",
        "\n",
        "# Hyperparameter optimization with Grid Search\n",
        "start_time = time.time()\n",
        "grid_search_estimator = GridSearchCV(pipeline, parameters, scoring=f1, cv=cv, return_train_score=False, n_jobs=-1, verbose=10)\n",
        "grid_search_estimator.fit(x_train, y_train)\n",
        "\n",
        "print(\"--- %s seconds ---\" % (time.time() - start_time))\n",
        "print(\"KNN : {}% F1-score for class 'label' with parameters {}\".format(grid_search_estimator.best_score_ * 100, grid_search_estimator.best_params_))\n",
        "\n",
        "# Save hyperparameter optmization results\n",
        "df_hyper = pd.DataFrame(grid_search_estimator.cv_results_)\n",
        "df_hyper.to_csv(path_hyperparameters_knn, index=False)\n",
        "\n",
        "# Save best hyperparameters values\n",
        "joblib.dump(grid_search_estimator.best_params_, path_best_parameters_knn, compress = 1) # Only best parameters"
      ],
      "metadata": {
        "colab": {
          "base_uri": "https://localhost:8080/"
        },
        "id": "rHXahtiTjQ5F",
        "outputId": "0d8d9b3c-1cd2-4537-9502-d7db81b8cac2"
      },
      "execution_count": 16,
      "outputs": [
        {
          "output_type": "stream",
          "name": "stdout",
          "text": [
            "Pipeline(steps=[('FeaturePreprocessing',\n",
            "                 ColumnTransformer(remainder='passthrough',\n",
            "                                   transformers=[('tf_reviewText',\n",
            "                                                  TfidfVectorizer(max_df=0.75,\n",
            "                                                                  norm=None,\n",
            "                                                                  smooth_idf=False),\n",
            "                                                  'reviewText'),\n",
            "                                                 ('tf_summary',\n",
            "                                                  TfidfVectorizer(max_df=0.75,\n",
            "                                                                  norm=None,\n",
            "                                                                  smooth_idf=False),\n",
            "                                                  'summary')])),\n",
            "                ('balancing', RandomOverSampler(random_state=452)),\n",
            "                ('estimator', KNeighborsClassifier())])\n",
            "Fitting 5 folds for each of 40 candidates, totalling 200 fits\n"
          ]
        },
        {
          "output_type": "stream",
          "name": "stderr",
          "text": [
            "/usr/local/lib/python3.7/dist-packages/joblib/externals/loky/process_executor.py:705: UserWarning: A worker stopped while some jobs were given to the executor. This can be caused by a too short worker timeout or by a memory leak.\n",
            "  \"timeout or by a memory leak.\", UserWarning\n"
          ]
        },
        {
          "output_type": "stream",
          "name": "stdout",
          "text": [
            "--- 344.3723773956299 seconds ---\n",
            "KNN : 82.92805936649172% F1-score for class 'label' with parameters {'estimator__algorithm': 'auto', 'estimator__n_neighbors': 5, 'estimator__weights': 'distance'}\n"
          ]
        },
        {
          "output_type": "execute_result",
          "data": {
            "text/plain": [
              "['/content/drive/My Drive/Web_Mining_Project/more_features/classifier_parameters/knn.pkl']"
            ]
          },
          "metadata": {},
          "execution_count": 16
        }
      ]
    },
    {
      "cell_type": "code",
      "source": [
        "prediction = grid_search_estimator.predict(x_test)\n",
        "cm = confusion_matrix(y_test, prediction)\n",
        "plot_confusion_matrix(cm, classes = unique_labels(y_test), title = \"Knn Classifier on Test Set\")\n",
        "print(classification_report(y_test, prediction))"
      ],
      "metadata": {
        "colab": {
          "base_uri": "https://localhost:8080/",
          "height": 453
        },
        "id": "iwq5egtkjRjG",
        "outputId": "93e6e379-ebab-4664-c037-9d9efd79bea2"
      },
      "execution_count": 17,
      "outputs": [
        {
          "output_type": "stream",
          "name": "stdout",
          "text": [
            "              precision    recall  f1-score   support\n",
            "\n",
            "           0       0.13      0.21      0.16       151\n",
            "           2       0.93      0.87      0.90      1688\n",
            "\n",
            "    accuracy                           0.82      1839\n",
            "   macro avg       0.53      0.54      0.53      1839\n",
            "weighted avg       0.86      0.82      0.84      1839\n",
            "\n"
          ]
        },
        {
          "output_type": "display_data",
          "data": {
            "text/plain": [
              "<Figure size 432x288 with 2 Axes>"
            ],
            "image/png": "[encoded data removed]"
          },
          "metadata": {
            "needs_background": "light"
          }
        }
      ]
    },
    {
      "cell_type": "markdown",
      "source": [
        "## Random Forest"
      ],
      "metadata": {
        "id": "qaWhwUKLqkU7"
      }
    },
    {
      "cell_type": "code",
      "source": [
        "# Optimize parameters for Random Forest\n",
        "estimator = RandomForestClassifier( random_state=42)\n",
        "\n",
        "transformer = ColumnTransformer(transformers=[('tf_reviewText', TfidfVectorizer(max_df=0.25, smooth_idf=False), 'reviewText'), ('tf_summary', TfidfVectorizer(max_df=0.25, smooth_idf=False), 'summary')], remainder='passthrough')\n",
        "\n",
        "# Define grid of posible hyperparamters values \n",
        "parameters = {\n",
        "    #'vectorizer__max_df': [0.25, 0.5, 0.75, 1.0],\n",
        "    #'vectorizer__smooth_idf': (True, False),\n",
        "    #'vectorizer__norm': ('l1', 'l2', None),\n",
        "    'estimator__n_estimators': [100, 300, 500],\n",
        "    'estimator__max_depth': [5, 15, 25],\n",
        "    'estimator__min_samples_split': [5, 25, 100],\n",
        "    'estimator__min_samples_leaf': [ 2, 5, 10]\n",
        "}\n",
        "\n",
        "# Create a pipeline\n",
        "pipeline = Pipeline([ ('FeaturePreprocessing', transformer), ('balancing', sampling), ('estimator', estimator) ])\n",
        "print(pipeline)\n",
        "\n",
        "# Hyperparameter optimization with Grid Search\n",
        "start_time = time.time()\n",
        "grid_search_estimator = GridSearchCV(pipeline, parameters, scoring=f1, cv=cv, return_train_score=False, n_jobs=-1, verbose=10)\n",
        "grid_search_estimator.fit(x_train, y_train)\n",
        "\n",
        "print(\"--- %s seconds ---\" % (time.time() - start_time))\n",
        "print(\"Random Forest Classifier: {}% F1-score for class 'label' with parameters {}\".format(grid_search_estimator.best_score_ * 100, grid_search_estimator.best_params_))\n",
        "\n",
        "# Save hyperparameter optmization results\n",
        "df_hyper = pd.DataFrame(grid_search_estimator.cv_results_)\n",
        "df_hyper.to_csv(path_hyperparameters_rf, index=False)\n",
        "\n",
        "# Save best hyperparameters values\n",
        "joblib.dump(grid_search_estimator.best_params_, path_best_parameters_rf, compress = 1) # Only best parameters"
      ],
      "metadata": {
        "colab": {
          "base_uri": "https://localhost:8080/"
        },
        "id": "IG_tC6xlqn9L",
        "outputId": "2ea8dd3f-d926-4694-8bc9-8b4272556340"
      },
      "execution_count": 18,
      "outputs": [
        {
          "output_type": "stream",
          "name": "stdout",
          "text": [
            "Pipeline(steps=[('FeaturePreprocessing',\n",
            "                 ColumnTransformer(remainder='passthrough',\n",
            "                                   transformers=[('tf_reviewText',\n",
            "                                                  TfidfVectorizer(max_df=0.25,\n",
            "                                                                  smooth_idf=False),\n",
            "                                                  'reviewText'),\n",
            "                                                 ('tf_summary',\n",
            "                                                  TfidfVectorizer(max_df=0.25,\n",
            "                                                                  smooth_idf=False),\n",
            "                                                  'summary')])),\n",
            "                ('balancing', RandomOverSampler(random_state=452)),\n",
            "                ('estimator', RandomForestClassifier(random_state=42))])\n",
            "Fitting 5 folds for each of 81 candidates, totalling 405 fits\n",
            "--- 1326.4167983531952 seconds ---\n",
            "Random Forest Classifier: 93.37872628121502% F1-score for class 'label' with parameters {'estimator__max_depth': 25, 'estimator__min_samples_leaf': 5, 'estimator__min_samples_split': 100, 'estimator__n_estimators': 500}\n"
          ]
        },
        {
          "output_type": "execute_result",
          "data": {
            "text/plain": [
              "['/content/drive/My Drive/Web_Mining_Project/more_features/classifier_parameters/rf.pkl']"
            ]
          },
          "metadata": {},
          "execution_count": 18
        }
      ]
    },
    {
      "cell_type": "code",
      "source": [
        "prediction = grid_search_estimator.predict(x_test)\n",
        "cm = confusion_matrix(y_test, prediction)\n",
        "plot_confusion_matrix(cm, classes = unique_labels(y_test), title = \"Random Forest Classifier on Test Set\")\n",
        "print(classification_report(y_test, prediction))"
      ],
      "metadata": {
        "colab": {
          "base_uri": "https://localhost:8080/",
          "height": 453
        },
        "id": "JQiviuzzqoVF",
        "outputId": "a0e616ba-f219-44e1-98d2-1b9b70d69159"
      },
      "execution_count": 19,
      "outputs": [
        {
          "output_type": "stream",
          "name": "stdout",
          "text": [
            "              precision    recall  f1-score   support\n",
            "\n",
            "           0       0.71      0.61      0.66       151\n",
            "           2       0.97      0.98      0.97      1688\n",
            "\n",
            "    accuracy                           0.95      1839\n",
            "   macro avg       0.84      0.79      0.81      1839\n",
            "weighted avg       0.94      0.95      0.95      1839\n",
            "\n"
          ]
        },
        {
          "output_type": "display_data",
          "data": {
            "text/plain": [
              "<Figure size 432x288 with 2 Axes>"
            ],
            "image/png": "[encoded data removed]"
          },
          "metadata": {
            "needs_background": "light"
          }
        }
      ]
    },
    {
      "cell_type": "markdown",
      "source": [
        "## SVM\n",
        "\n"
      ],
      "metadata": {
        "id": "WospJdwh6_Qo"
      }
    },
    {
      "cell_type": "code",
      "source": [
        "# Optimize parameters for LSVM Classifier\n",
        "estimator = LinearSVC(max_iter=5000, random_state=42, dual = True)\n",
        "\n",
        "transformer = ColumnTransformer(transformers=[('tf_reviewText', TfidfVectorizer(), 'reviewText'), ('tf_summary', TfidfVectorizer(), 'summary')], remainder='passthrough')\n",
        "\n",
        "# Define grid of posible hyperparamters values \n",
        "parameters = {\n",
        "    #'vectorizer__max_df': [0.25, 0.5, 0.75, 1.0],\n",
        "    #'vectorizer__smooth_idf': (True, False),\n",
        "    #'vectorizer__norm': ('l1', 'l2', None),\n",
        "    'estimator__loss': ['hinge', 'squared_hinge'],\n",
        "    'estimator__tol': [1e-2, 1e-3, 1e-4, 1e-5],\n",
        "    'estimator__C': [0.01, 0.1, 1, 10, 100, 1000],\n",
        "}\n",
        "\n",
        "# Create a pipeline\n",
        "pipeline = Pipeline([ ('FeaturePreprocessing', transformer), ('balancing', sampling), ('estimator', estimator) ])\n",
        "print(pipeline)\n",
        "\n",
        "# Hyperparameter optimization with Grid Search\n",
        "start_time = time.time()\n",
        "grid_search_estimator = GridSearchCV(pipeline, parameters, scoring=f1, cv=cv, return_train_score=False, n_jobs=-1, verbose=2)\n",
        "grid_search_estimator.fit(x_train, y_train)\n",
        "\n",
        "print(\"--- %s seconds ---\" % (time.time() - start_time))\n",
        "print(\"LSVM Classifier: {}% F1-score for class 'label' with parameters {}\".format(grid_search_estimator.best_score_ * 100, grid_search_estimator.best_params_))\n",
        "\n",
        "# Save hyperparameter optmization results\n",
        "df_hyper = pd.DataFrame(grid_search_estimator.cv_results_)\n",
        "df_hyper.to_csv(path_hyperparameters_svm, index=False)\n",
        "\n",
        "# Save best hyperparameters values\n",
        "joblib.dump(grid_search_estimator.best_params_, path_best_parameters_svm, compress = 1) # Only best parameters"
      ],
      "metadata": {
        "colab": {
          "base_uri": "https://localhost:8080/"
        },
        "id": "TPp2HbO77DDN",
        "outputId": "01824cc1-a23c-49d3-dcb0-36cbab50d0b7"
      },
      "execution_count": 20,
      "outputs": [
        {
          "output_type": "stream",
          "name": "stdout",
          "text": [
            "Pipeline(steps=[('FeaturePreprocessing',\n",
            "                 ColumnTransformer(remainder='passthrough',\n",
            "                                   transformers=[('tf_reviewText',\n",
            "                                                  TfidfVectorizer(),\n",
            "                                                  'reviewText'),\n",
            "                                                 ('tf_summary',\n",
            "                                                  TfidfVectorizer(),\n",
            "                                                  'summary')])),\n",
            "                ('balancing', RandomOverSampler(random_state=452)),\n",
            "                ('estimator', LinearSVC(max_iter=5000, random_state=42))])\n",
            "Fitting 5 folds for each of 48 candidates, totalling 240 fits\n"
          ]
        },
        {
          "output_type": "stream",
          "name": "stderr",
          "text": [
            "/usr/local/lib/python3.7/dist-packages/sklearn/svm/_base.py:1208: ConvergenceWarning: Liblinear failed to converge, increase the number of iterations.\n",
            "  ConvergenceWarning,\n"
          ]
        },
        {
          "output_type": "stream",
          "name": "stdout",
          "text": [
            "--- 6208.798006534576 seconds ---\n",
            "LSVM Classifier: 53.19994282837875% F1-score for class 'label' with parameters {'estimator__C': 0.01, 'estimator__loss': 'hinge', 'estimator__tol': 0.01}\n"
          ]
        },
        {
          "output_type": "execute_result",
          "data": {
            "text/plain": [
              "['/content/drive/My Drive/Web_Mining_Project/more_features/classifier_parameters/svm.pkl']"
            ]
          },
          "metadata": {},
          "execution_count": 20
        }
      ]
    },
    {
      "cell_type": "code",
      "source": [
        "prediction = grid_search_estimator.predict(x_test)\n",
        "cm = confusion_matrix(y_test, prediction)\n",
        "plot_confusion_matrix(cm, classes = unique_labels(y_test), title = \"SVM Classifier on Test Set\")\n",
        "print(classification_report(y_test, prediction))"
      ],
      "metadata": {
        "id": "eKmn_03S7EdF",
        "colab": {
          "base_uri": "https://localhost:8080/",
          "height": 577
        },
        "outputId": "88985f49-f0e5-41ba-fcd4-d02c700c707b"
      },
      "execution_count": 21,
      "outputs": [
        {
          "output_type": "stream",
          "name": "stdout",
          "text": [
            "              precision    recall  f1-score   support\n",
            "\n",
            "           0       0.00      0.00      0.00       151\n",
            "           2       0.92      1.00      0.96      1688\n",
            "\n",
            "    accuracy                           0.92      1839\n",
            "   macro avg       0.46      0.50      0.48      1839\n",
            "weighted avg       0.84      0.92      0.88      1839\n",
            "\n"
          ]
        },
        {
          "output_type": "stream",
          "name": "stderr",
          "text": [
            "/usr/local/lib/python3.7/dist-packages/sklearn/metrics/_classification.py:1318: UndefinedMetricWarning: Precision and F-score are ill-defined and being set to 0.0 in labels with no predicted samples. Use `zero_division` parameter to control this behavior.\n",
            "  _warn_prf(average, modifier, msg_start, len(result))\n",
            "/usr/local/lib/python3.7/dist-packages/sklearn/metrics/_classification.py:1318: UndefinedMetricWarning: Precision and F-score are ill-defined and being set to 0.0 in labels with no predicted samples. Use `zero_division` parameter to control this behavior.\n",
            "  _warn_prf(average, modifier, msg_start, len(result))\n",
            "/usr/local/lib/python3.7/dist-packages/sklearn/metrics/_classification.py:1318: UndefinedMetricWarning: Precision and F-score are ill-defined and being set to 0.0 in labels with no predicted samples. Use `zero_division` parameter to control this behavior.\n",
            "  _warn_prf(average, modifier, msg_start, len(result))\n"
          ]
        },
        {
          "output_type": "display_data",
          "data": {
            "text/plain": [
              "<Figure size 432x288 with 2 Axes>"
            ],
            "image/png": "[encoded data removed]"
          },
          "metadata": {
            "needs_background": "light"
          }
        }
      ]
    },
    {
      "cell_type": "markdown",
      "source": [
        "## Logistic Regression"
      ],
      "metadata": {
        "id": "pn3jSVhM6tjF"
      }
    },
    {
      "cell_type": "code",
      "source": [
        "# Optimize parameters for Logistic Regression\n",
        "estimator = LogisticRegression()\n",
        "\n",
        "transformer = ColumnTransformer(transformers=[('tf_reviewText', TfidfVectorizer(max_df=0.5, smooth_idf=False), 'reviewText'), ('tf_summary', TfidfVectorizer(max_df=0.5, smooth_idf=False), 'summary')], remainder='passthrough')\n",
        "\n",
        "# Define grid of posible hyperparamters values \n",
        "parameters = {\n",
        "    #'vectorizer__max_df': [0.25, 0.5, 0.75, 1.0],\n",
        "    #'vectorizer__smooth_idf': (True, False),\n",
        "    #'vectorizer__norm': ('l1', 'l2', None),\n",
        "    'estimator__solver': ['newton-cg', 'lbfgs', 'liblinear', 'sag', 'saga'],\n",
        "    'estimator__C': [100, 10, 1.0, 0.1, 0.01]\n",
        "}\n",
        "\n",
        "# Create a pipeline\n",
        "pipeline = Pipeline([ ('FeaturePreprocessing', transformer), ('balancing', sampling), ('estimator', estimator) ])\n",
        "print(pipeline)\n",
        "\n",
        "# Hyperparameter optimization with Grid Search\n",
        "start_time = time.time()\n",
        "grid_search_estimator = GridSearchCV(pipeline, parameters, scoring=f1, cv=cv, return_train_score=False, n_jobs=-1, verbose=2)\n",
        "grid_search_estimator.fit(x_train, y_train)\n",
        "\n",
        "print(\"--- %s seconds ---\" % (time.time() - start_time))\n",
        "print(\"Logistic Regression Classifier: {}% F1-score for class 'label' with parameters {}\".format(grid_search_estimator.best_score_ * 100, grid_search_estimator.best_params_))\n",
        "\n",
        "# Save hyperparameter optmization results\n",
        "df_hyper = pd.DataFrame(grid_search_estimator.cv_results_)\n",
        "df_hyper.to_csv(path_hyperparameters_lr, index=False)\n",
        "\n",
        "# Save best hyperparameters values\n",
        "joblib.dump(grid_search_estimator.best_params_, path_best_parameters_lr, compress = 1) # Only best parameters"
      ],
      "metadata": {
        "colab": {
          "base_uri": "https://localhost:8080/"
        },
        "id": "Q6Yea4oh6xh7",
        "outputId": "8d23539e-11bd-46dd-85d9-6195f580564f"
      },
      "execution_count": 22,
      "outputs": [
        {
          "output_type": "stream",
          "name": "stdout",
          "text": [
            "Pipeline(steps=[('FeaturePreprocessing',\n",
            "                 ColumnTransformer(remainder='passthrough',\n",
            "                                   transformers=[('tf_reviewText',\n",
            "                                                  TfidfVectorizer(max_df=0.5,\n",
            "                                                                  smooth_idf=False),\n",
            "                                                  'reviewText'),\n",
            "                                                 ('tf_summary',\n",
            "                                                  TfidfVectorizer(max_df=0.5,\n",
            "                                                                  smooth_idf=False),\n",
            "                                                  'summary')])),\n",
            "                ('balancing', RandomOverSampler(random_state=452)),\n",
            "                ('estimator', LogisticRegression())])\n",
            "Fitting 5 folds for each of 25 candidates, totalling 125 fits\n"
          ]
        },
        {
          "output_type": "stream",
          "name": "stderr",
          "text": [
            "/usr/local/lib/python3.7/dist-packages/scipy/optimize/linesearch.py:466: LineSearchWarning: The line search algorithm did not converge\n",
            "  warn('The line search algorithm did not converge', LineSearchWarning)\n",
            "/usr/local/lib/python3.7/dist-packages/scipy/optimize/linesearch.py:314: LineSearchWarning: The line search algorithm did not converge\n",
            "  warn('The line search algorithm did not converge', LineSearchWarning)\n",
            "/usr/local/lib/python3.7/dist-packages/scipy/optimize/linesearch.py:466: LineSearchWarning: The line search algorithm did not converge\n",
            "  warn('The line search algorithm did not converge', LineSearchWarning)\n",
            "/usr/local/lib/python3.7/dist-packages/scipy/optimize/linesearch.py:314: LineSearchWarning: The line search algorithm did not converge\n",
            "  warn('The line search algorithm did not converge', LineSearchWarning)\n",
            "/usr/local/lib/python3.7/dist-packages/scipy/optimize/linesearch.py:466: LineSearchWarning: The line search algorithm did not converge\n",
            "  warn('The line search algorithm did not converge', LineSearchWarning)\n",
            "/usr/local/lib/python3.7/dist-packages/scipy/optimize/linesearch.py:314: LineSearchWarning: The line search algorithm did not converge\n",
            "  warn('The line search algorithm did not converge', LineSearchWarning)\n",
            "/usr/local/lib/python3.7/dist-packages/scipy/optimize/linesearch.py:466: LineSearchWarning: The line search algorithm did not converge\n",
            "  warn('The line search algorithm did not converge', LineSearchWarning)\n",
            "/usr/local/lib/python3.7/dist-packages/scipy/optimize/linesearch.py:314: LineSearchWarning: The line search algorithm did not converge\n",
            "  warn('The line search algorithm did not converge', LineSearchWarning)\n",
            "/usr/local/lib/python3.7/dist-packages/scipy/optimize/linesearch.py:466: LineSearchWarning: The line search algorithm did not converge\n",
            "  warn('The line search algorithm did not converge', LineSearchWarning)\n",
            "/usr/local/lib/python3.7/dist-packages/scipy/optimize/linesearch.py:314: LineSearchWarning: The line search algorithm did not converge\n",
            "  warn('The line search algorithm did not converge', LineSearchWarning)\n",
            "/usr/local/lib/python3.7/dist-packages/scipy/optimize/linesearch.py:466: LineSearchWarning: The line search algorithm did not converge\n",
            "  warn('The line search algorithm did not converge', LineSearchWarning)\n",
            "/usr/local/lib/python3.7/dist-packages/scipy/optimize/linesearch.py:314: LineSearchWarning: The line search algorithm did not converge\n",
            "  warn('The line search algorithm did not converge', LineSearchWarning)\n",
            "/usr/local/lib/python3.7/dist-packages/scipy/optimize/linesearch.py:466: LineSearchWarning: The line search algorithm did not converge\n",
            "  warn('The line search algorithm did not converge', LineSearchWarning)\n",
            "/usr/local/lib/python3.7/dist-packages/scipy/optimize/linesearch.py:314: LineSearchWarning: The line search algorithm did not converge\n",
            "  warn('The line search algorithm did not converge', LineSearchWarning)\n",
            "/usr/local/lib/python3.7/dist-packages/scipy/optimize/linesearch.py:466: LineSearchWarning: The line search algorithm did not converge\n",
            "  warn('The line search algorithm did not converge', LineSearchWarning)\n",
            "/usr/local/lib/python3.7/dist-packages/scipy/optimize/linesearch.py:314: LineSearchWarning: The line search algorithm did not converge\n",
            "  warn('The line search algorithm did not converge', LineSearchWarning)\n",
            "/usr/local/lib/python3.7/dist-packages/scipy/optimize/linesearch.py:466: LineSearchWarning: The line search algorithm did not converge\n",
            "  warn('The line search algorithm did not converge', LineSearchWarning)\n",
            "/usr/local/lib/python3.7/dist-packages/scipy/optimize/linesearch.py:314: LineSearchWarning: The line search algorithm did not converge\n",
            "  warn('The line search algorithm did not converge', LineSearchWarning)\n",
            "/usr/local/lib/python3.7/dist-packages/scipy/optimize/linesearch.py:466: LineSearchWarning: The line search algorithm did not converge\n",
            "  warn('The line search algorithm did not converge', LineSearchWarning)\n",
            "/usr/local/lib/python3.7/dist-packages/scipy/optimize/linesearch.py:314: LineSearchWarning: The line search algorithm did not converge\n",
            "  warn('The line search algorithm did not converge', LineSearchWarning)\n",
            "/usr/local/lib/python3.7/dist-packages/scipy/optimize/linesearch.py:466: LineSearchWarning: The line search algorithm did not converge\n",
            "  warn('The line search algorithm did not converge', LineSearchWarning)\n",
            "/usr/local/lib/python3.7/dist-packages/scipy/optimize/linesearch.py:314: LineSearchWarning: The line search algorithm did not converge\n",
            "  warn('The line search algorithm did not converge', LineSearchWarning)\n",
            "/usr/local/lib/python3.7/dist-packages/scipy/optimize/linesearch.py:466: LineSearchWarning: The line search algorithm did not converge\n",
            "  warn('The line search algorithm did not converge', LineSearchWarning)\n",
            "/usr/local/lib/python3.7/dist-packages/scipy/optimize/linesearch.py:314: LineSearchWarning: The line search algorithm did not converge\n",
            "  warn('The line search algorithm did not converge', LineSearchWarning)\n",
            "/usr/local/lib/python3.7/dist-packages/scipy/optimize/linesearch.py:466: LineSearchWarning: The line search algorithm did not converge\n",
            "  warn('The line search algorithm did not converge', LineSearchWarning)\n",
            "/usr/local/lib/python3.7/dist-packages/scipy/optimize/linesearch.py:314: LineSearchWarning: The line search algorithm did not converge\n",
            "  warn('The line search algorithm did not converge', LineSearchWarning)\n",
            "/usr/local/lib/python3.7/dist-packages/scipy/optimize/linesearch.py:466: LineSearchWarning: The line search algorithm did not converge\n",
            "  warn('The line search algorithm did not converge', LineSearchWarning)\n",
            "/usr/local/lib/python3.7/dist-packages/scipy/optimize/linesearch.py:314: LineSearchWarning: The line search algorithm did not converge\n",
            "  warn('The line search algorithm did not converge', LineSearchWarning)\n",
            "/usr/local/lib/python3.7/dist-packages/scipy/optimize/linesearch.py:466: LineSearchWarning: The line search algorithm did not converge\n",
            "  warn('The line search algorithm did not converge', LineSearchWarning)\n",
            "/usr/local/lib/python3.7/dist-packages/scipy/optimize/linesearch.py:314: LineSearchWarning: The line search algorithm did not converge\n",
            "  warn('The line search algorithm did not converge', LineSearchWarning)\n",
            "/usr/local/lib/python3.7/dist-packages/scipy/optimize/linesearch.py:466: LineSearchWarning: The line search algorithm did not converge\n",
            "  warn('The line search algorithm did not converge', LineSearchWarning)\n",
            "/usr/local/lib/python3.7/dist-packages/scipy/optimize/linesearch.py:314: LineSearchWarning: The line search algorithm did not converge\n",
            "  warn('The line search algorithm did not converge', LineSearchWarning)\n",
            "/usr/local/lib/python3.7/dist-packages/scipy/optimize/linesearch.py:466: LineSearchWarning: The line search algorithm did not converge\n",
            "  warn('The line search algorithm did not converge', LineSearchWarning)\n",
            "/usr/local/lib/python3.7/dist-packages/scipy/optimize/linesearch.py:314: LineSearchWarning: The line search algorithm did not converge\n",
            "  warn('The line search algorithm did not converge', LineSearchWarning)\n",
            "/usr/local/lib/python3.7/dist-packages/scipy/optimize/linesearch.py:466: LineSearchWarning: The line search algorithm did not converge\n",
            "  warn('The line search algorithm did not converge', LineSearchWarning)\n",
            "/usr/local/lib/python3.7/dist-packages/scipy/optimize/linesearch.py:314: LineSearchWarning: The line search algorithm did not converge\n",
            "  warn('The line search algorithm did not converge', LineSearchWarning)\n",
            "/usr/local/lib/python3.7/dist-packages/scipy/optimize/linesearch.py:466: LineSearchWarning: The line search algorithm did not converge\n",
            "  warn('The line search algorithm did not converge', LineSearchWarning)\n",
            "/usr/local/lib/python3.7/dist-packages/scipy/optimize/linesearch.py:314: LineSearchWarning: The line search algorithm did not converge\n",
            "  warn('The line search algorithm did not converge', LineSearchWarning)\n",
            "/usr/local/lib/python3.7/dist-packages/scipy/optimize/linesearch.py:466: LineSearchWarning: The line search algorithm did not converge\n",
            "  warn('The line search algorithm did not converge', LineSearchWarning)\n",
            "/usr/local/lib/python3.7/dist-packages/scipy/optimize/linesearch.py:314: LineSearchWarning: The line search algorithm did not converge\n",
            "  warn('The line search algorithm did not converge', LineSearchWarning)\n",
            "/usr/local/lib/python3.7/dist-packages/scipy/optimize/linesearch.py:466: LineSearchWarning: The line search algorithm did not converge\n",
            "  warn('The line search algorithm did not converge', LineSearchWarning)\n",
            "/usr/local/lib/python3.7/dist-packages/scipy/optimize/linesearch.py:314: LineSearchWarning: The line search algorithm did not converge\n",
            "  warn('The line search algorithm did not converge', LineSearchWarning)\n",
            "/usr/local/lib/python3.7/dist-packages/scipy/optimize/linesearch.py:466: LineSearchWarning: The line search algorithm did not converge\n",
            "  warn('The line search algorithm did not converge', LineSearchWarning)\n",
            "/usr/local/lib/python3.7/dist-packages/scipy/optimize/linesearch.py:314: LineSearchWarning: The line search algorithm did not converge\n",
            "  warn('The line search algorithm did not converge', LineSearchWarning)\n",
            "/usr/local/lib/python3.7/dist-packages/scipy/optimize/linesearch.py:466: LineSearchWarning: The line search algorithm did not converge\n",
            "  warn('The line search algorithm did not converge', LineSearchWarning)\n",
            "/usr/local/lib/python3.7/dist-packages/scipy/optimize/linesearch.py:314: LineSearchWarning: The line search algorithm did not converge\n",
            "  warn('The line search algorithm did not converge', LineSearchWarning)\n",
            "/usr/local/lib/python3.7/dist-packages/scipy/optimize/linesearch.py:466: LineSearchWarning: The line search algorithm did not converge\n",
            "  warn('The line search algorithm did not converge', LineSearchWarning)\n",
            "/usr/local/lib/python3.7/dist-packages/scipy/optimize/linesearch.py:314: LineSearchWarning: The line search algorithm did not converge\n",
            "  warn('The line search algorithm did not converge', LineSearchWarning)\n",
            "/usr/local/lib/python3.7/dist-packages/scipy/optimize/linesearch.py:466: LineSearchWarning: The line search algorithm did not converge\n",
            "  warn('The line search algorithm did not converge', LineSearchWarning)\n",
            "/usr/local/lib/python3.7/dist-packages/scipy/optimize/linesearch.py:314: LineSearchWarning: The line search algorithm did not converge\n",
            "  warn('The line search algorithm did not converge', LineSearchWarning)\n",
            "/usr/local/lib/python3.7/dist-packages/scipy/optimize/linesearch.py:466: LineSearchWarning: The line search algorithm did not converge\n",
            "  warn('The line search algorithm did not converge', LineSearchWarning)\n",
            "/usr/local/lib/python3.7/dist-packages/scipy/optimize/linesearch.py:314: LineSearchWarning: The line search algorithm did not converge\n",
            "  warn('The line search algorithm did not converge', LineSearchWarning)\n",
            "/usr/local/lib/python3.7/dist-packages/scipy/optimize/linesearch.py:466: LineSearchWarning: The line search algorithm did not converge\n",
            "  warn('The line search algorithm did not converge', LineSearchWarning)\n",
            "/usr/local/lib/python3.7/dist-packages/scipy/optimize/linesearch.py:314: LineSearchWarning: The line search algorithm did not converge\n",
            "  warn('The line search algorithm did not converge', LineSearchWarning)\n",
            "/usr/local/lib/python3.7/dist-packages/scipy/optimize/linesearch.py:466: LineSearchWarning: The line search algorithm did not converge\n",
            "  warn('The line search algorithm did not converge', LineSearchWarning)\n",
            "/usr/local/lib/python3.7/dist-packages/scipy/optimize/linesearch.py:314: LineSearchWarning: The line search algorithm did not converge\n",
            "  warn('The line search algorithm did not converge', LineSearchWarning)\n",
            "/usr/local/lib/python3.7/dist-packages/scipy/optimize/linesearch.py:466: LineSearchWarning: The line search algorithm did not converge\n",
            "  warn('The line search algorithm did not converge', LineSearchWarning)\n",
            "/usr/local/lib/python3.7/dist-packages/scipy/optimize/linesearch.py:314: LineSearchWarning: The line search algorithm did not converge\n",
            "  warn('The line search algorithm did not converge', LineSearchWarning)\n",
            "/usr/local/lib/python3.7/dist-packages/scipy/optimize/linesearch.py:466: LineSearchWarning: The line search algorithm did not converge\n",
            "  warn('The line search algorithm did not converge', LineSearchWarning)\n",
            "/usr/local/lib/python3.7/dist-packages/scipy/optimize/linesearch.py:314: LineSearchWarning: The line search algorithm did not converge\n",
            "  warn('The line search algorithm did not converge', LineSearchWarning)\n",
            "/usr/local/lib/python3.7/dist-packages/scipy/optimize/linesearch.py:466: LineSearchWarning: The line search algorithm did not converge\n",
            "  warn('The line search algorithm did not converge', LineSearchWarning)\n",
            "/usr/local/lib/python3.7/dist-packages/scipy/optimize/linesearch.py:314: LineSearchWarning: The line search algorithm did not converge\n",
            "  warn('The line search algorithm did not converge', LineSearchWarning)\n",
            "/usr/local/lib/python3.7/dist-packages/scipy/optimize/linesearch.py:466: LineSearchWarning: The line search algorithm did not converge\n",
            "  warn('The line search algorithm did not converge', LineSearchWarning)\n",
            "/usr/local/lib/python3.7/dist-packages/scipy/optimize/linesearch.py:314: LineSearchWarning: The line search algorithm did not converge\n",
            "  warn('The line search algorithm did not converge', LineSearchWarning)\n",
            "/usr/local/lib/python3.7/dist-packages/scipy/optimize/linesearch.py:466: LineSearchWarning: The line search algorithm did not converge\n",
            "  warn('The line search algorithm did not converge', LineSearchWarning)\n",
            "/usr/local/lib/python3.7/dist-packages/scipy/optimize/linesearch.py:314: LineSearchWarning: The line search algorithm did not converge\n",
            "  warn('The line search algorithm did not converge', LineSearchWarning)\n",
            "/usr/local/lib/python3.7/dist-packages/scipy/optimize/linesearch.py:466: LineSearchWarning: The line search algorithm did not converge\n",
            "  warn('The line search algorithm did not converge', LineSearchWarning)\n",
            "/usr/local/lib/python3.7/dist-packages/scipy/optimize/linesearch.py:314: LineSearchWarning: The line search algorithm did not converge\n",
            "  warn('The line search algorithm did not converge', LineSearchWarning)\n",
            "/usr/local/lib/python3.7/dist-packages/scipy/optimize/linesearch.py:466: LineSearchWarning: The line search algorithm did not converge\n",
            "  warn('The line search algorithm did not converge', LineSearchWarning)\n",
            "/usr/local/lib/python3.7/dist-packages/scipy/optimize/linesearch.py:314: LineSearchWarning: The line search algorithm did not converge\n",
            "  warn('The line search algorithm did not converge', LineSearchWarning)\n",
            "/usr/local/lib/python3.7/dist-packages/scipy/optimize/linesearch.py:466: LineSearchWarning: The line search algorithm did not converge\n",
            "  warn('The line search algorithm did not converge', LineSearchWarning)\n",
            "/usr/local/lib/python3.7/dist-packages/scipy/optimize/linesearch.py:314: LineSearchWarning: The line search algorithm did not converge\n",
            "  warn('The line search algorithm did not converge', LineSearchWarning)\n",
            "/usr/local/lib/python3.7/dist-packages/scipy/optimize/linesearch.py:466: LineSearchWarning: The line search algorithm did not converge\n",
            "  warn('The line search algorithm did not converge', LineSearchWarning)\n",
            "/usr/local/lib/python3.7/dist-packages/scipy/optimize/linesearch.py:314: LineSearchWarning: The line search algorithm did not converge\n",
            "  warn('The line search algorithm did not converge', LineSearchWarning)\n",
            "/usr/local/lib/python3.7/dist-packages/scipy/optimize/linesearch.py:466: LineSearchWarning: The line search algorithm did not converge\n",
            "  warn('The line search algorithm did not converge', LineSearchWarning)\n",
            "/usr/local/lib/python3.7/dist-packages/scipy/optimize/linesearch.py:314: LineSearchWarning: The line search algorithm did not converge\n",
            "  warn('The line search algorithm did not converge', LineSearchWarning)\n",
            "/usr/local/lib/python3.7/dist-packages/scipy/optimize/linesearch.py:466: LineSearchWarning: The line search algorithm did not converge\n",
            "  warn('The line search algorithm did not converge', LineSearchWarning)\n",
            "/usr/local/lib/python3.7/dist-packages/scipy/optimize/linesearch.py:314: LineSearchWarning: The line search algorithm did not converge\n",
            "  warn('The line search algorithm did not converge', LineSearchWarning)\n",
            "/usr/local/lib/python3.7/dist-packages/scipy/optimize/linesearch.py:466: LineSearchWarning: The line search algorithm did not converge\n",
            "  warn('The line search algorithm did not converge', LineSearchWarning)\n",
            "/usr/local/lib/python3.7/dist-packages/scipy/optimize/linesearch.py:314: LineSearchWarning: The line search algorithm did not converge\n",
            "  warn('The line search algorithm did not converge', LineSearchWarning)\n",
            "/usr/local/lib/python3.7/dist-packages/sklearn/utils/optimize.py:212: ConvergenceWarning: newton-cg failed to converge. Increase the number of iterations.\n",
            "  ConvergenceWarning,\n"
          ]
        },
        {
          "output_type": "stream",
          "name": "stdout",
          "text": [
            "--- 204.9625256061554 seconds ---\n",
            "Logistic Regression Classifier: 92.36817420270728% F1-score for class 'label' with parameters {'estimator__C': 100, 'estimator__solver': 'newton-cg'}\n"
          ]
        },
        {
          "output_type": "execute_result",
          "data": {
            "text/plain": [
              "['/content/drive/My Drive/Web_Mining_Project/more_features/classifier_parameters/lr.pkl']"
            ]
          },
          "metadata": {},
          "execution_count": 22
        }
      ]
    },
    {
      "cell_type": "code",
      "source": [
        "prediction = grid_search_estimator.predict(x_test)\n",
        "cm = confusion_matrix(y_test, prediction)\n",
        "plot_confusion_matrix(cm, classes = unique_labels(y_test), title = \"Logistic Regression Classifier on Test Set\")\n",
        "print(classification_report(y_test, prediction))"
      ],
      "metadata": {
        "colab": {
          "base_uri": "https://localhost:8080/",
          "height": 453
        },
        "id": "txpMVsBv6yQ3",
        "outputId": "b15ff6fd-d790-4b7a-da32-212e394a92e4"
      },
      "execution_count": 23,
      "outputs": [
        {
          "output_type": "stream",
          "name": "stdout",
          "text": [
            "              precision    recall  f1-score   support\n",
            "\n",
            "           0       0.75      0.74      0.74       151\n",
            "           2       0.98      0.98      0.98      1688\n",
            "\n",
            "    accuracy                           0.96      1839\n",
            "   macro avg       0.86      0.86      0.86      1839\n",
            "weighted avg       0.96      0.96      0.96      1839\n",
            "\n"
          ]
        },
        {
          "output_type": "display_data",
          "data": {
            "text/plain": [
              "<Figure size 432x288 with 2 Axes>"
            ],
            "image/png": "[encoded data removed]"
          },
          "metadata": {
            "needs_background": "light"
          }
        }
      ]
    }
  ],
  "metadata": {
    "colab": {
      "collapsed_sections": [],
      "name": "amazon_reviews_more_features_2labels.ipynb",
      "provenance": [],
      "toc_visible": true
    },
    "kernelspec": {
      "display_name": "Python 3",
      "language": "python",
      "name": "python3"
    },
    "language_info": {
      "codemirror_mode": {
        "name": "ipython",
        "version": 3
      },
      "file_extension": ".py",
      "mimetype": "text/x-python",
      "name": "python",
      "nbconvert_exporter": "python",
      "pygments_lexer": "ipython3",
      "version": "3.8.8"
    }
  },
  "nbformat": 4,
  "nbformat_minor": 0
}
