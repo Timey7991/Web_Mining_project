{
  "cells": [
    {
      "cell_type": "markdown",
      "metadata": {
        "id": "pdIoGVy0dLFJ"
      },
      "source": [
        "# Set up"
      ]
    },
    {
      "cell_type": "markdown",
      "metadata": {
        "id": "dAbpqgiYZQTw"
      },
      "source": [
        "## Package Loading"
      ]
    },
    {
      "cell_type": "code",
      "execution_count": 21,
      "metadata": {
        "colab": {
          "base_uri": "https://localhost:8080/"
        },
        "id": "pkuSpTlmZZ17",
        "outputId": "9a8fba0f-6193-43b3-fac5-1190f920fa80"
      },
      "outputs": [
        {
          "output_type": "stream",
          "name": "stdout",
          "text": [
            "Looking in indexes: https://pypi.org/simple, https://us-python.pkg.dev/colab-wheels/public/simple/\n",
            "Requirement already satisfied: emoji in /usr/local/lib/python3.7/dist-packages (1.7.0)\n",
            "Looking in indexes: https://pypi.org/simple, https://us-python.pkg.dev/colab-wheels/public/simple/\n",
            "Requirement already satisfied: nltk in /usr/local/lib/python3.7/dist-packages (3.2.5)\n",
            "Requirement already satisfied: six in /usr/local/lib/python3.7/dist-packages (from nltk) (1.15.0)\n",
            "[nltk_data] Downloading package punkt to /root/nltk_data...\n",
            "[nltk_data]   Package punkt is already up-to-date!\n",
            "[nltk_data] Downloading package stopwords to /root/nltk_data...\n",
            "[nltk_data]   Package stopwords is already up-to-date!\n",
            "Looking in indexes: https://pypi.org/simple, https://us-python.pkg.dev/colab-wheels/public/simple/\n",
            "Requirement already satisfied: imblearn in /usr/local/lib/python3.7/dist-packages (0.0)\n",
            "Requirement already satisfied: imbalanced-learn in /usr/local/lib/python3.7/dist-packages (from imblearn) (0.8.1)\n",
            "Requirement already satisfied: scikit-learn>=0.24 in /usr/local/lib/python3.7/dist-packages (from imbalanced-learn->imblearn) (1.0.2)\n",
            "Requirement already satisfied: numpy>=1.13.3 in /usr/local/lib/python3.7/dist-packages (from imbalanced-learn->imblearn) (1.21.6)\n",
            "Requirement already satisfied: scipy>=0.19.1 in /usr/local/lib/python3.7/dist-packages (from imbalanced-learn->imblearn) (1.4.1)\n",
            "Requirement already satisfied: joblib>=0.11 in /usr/local/lib/python3.7/dist-packages (from imbalanced-learn->imblearn) (1.1.0)\n",
            "Requirement already satisfied: threadpoolctl>=2.0.0 in /usr/local/lib/python3.7/dist-packages (from scikit-learn>=0.24->imbalanced-learn->imblearn) (3.1.0)\n",
            "Drive already mounted at /content/drive; to attempt to forcibly remount, call drive.mount(\"/content/drive\", force_remount=True).\n"
          ]
        }
      ],
      "source": [
        "import pandas as pd\n",
        "import numpy as np\n",
        "import itertools\n",
        "!pip install emoji\n",
        "import emoji\n",
        "import re\n",
        "!pip install nltk\n",
        "import nltk\n",
        "nltk.download('punkt')\n",
        "nltk.download('stopwords')\n",
        "from nltk.corpus import stopwords \n",
        "from nltk.tokenize import word_tokenize \n",
        "from nltk.stem import PorterStemmer \n",
        "from sklearn.utils.multiclass import unique_labels\n",
        "from sklearn.feature_extraction.text import TfidfVectorizer, CountVectorizer\n",
        "! pip install imblearn\n",
        "from imblearn.pipeline import Pipeline\n",
        "from imblearn.over_sampling import RandomOverSampler, ADASYN, SMOTE\n",
        "from imblearn.under_sampling import RandomUnderSampler, NearMiss\n",
        "from sklearn.pipeline import make_pipeline\n",
        "from sklearn.model_selection import train_test_split, StratifiedKFold, cross_val_predict, GridSearchCV\n",
        "from sklearn.svm import LinearSVC\n",
        "from sklearn.ensemble import RandomForestClassifier\n",
        "from sklearn.linear_model import LogisticRegression\n",
        "from sklearn.metrics import classification_report, accuracy_score, confusion_matrix, f1_score, make_scorer\n",
        "from sklearn.compose import ColumnTransformer\n",
        "from sklearn.preprocessing import StandardScaler, MinMaxScaler\n",
        "import mlxtend\n",
        "import matplotlib.pyplot as plt\n",
        "import time\n",
        "import joblib\n",
        "import gzip\n",
        "import json\n",
        "import seaborn as sns\n",
        "from google.colab import drive\n",
        "drive.mount('/content/drive')"
      ]
    },
    {
      "cell_type": "markdown",
      "metadata": {
        "id": "bhhHbBWheQb-"
      },
      "source": [
        "## Set Up paths"
      ]
    },
    {
      "cell_type": "code",
      "execution_count": 22,
      "metadata": {
        "id": "frFeRDORe2DQ"
      },
      "outputs": [],
      "source": [
        "# Parent paths\n",
        "parent_path = '/content/drive/My Drive/'\n",
        "\n",
        "\n",
        "#Specific paths\n",
        "path_hyperparameters_nb = parent_path+\"Web_Mining_Project/more_features/classifier_parameters/best_parameters/nb.csv\"\n",
        "path_hyperparameters_knn = parent_path+\"Web_Mining_Project/more_features/classifier_parameters/best_parameters/knn.csv\"\n",
        "path_hyperparameters_rf = parent_path+\"Web_Mining_Project/more_features/classifier_parameters/best_parameters/rf.csv\"\n",
        "path_hyperparameters_svm = parent_path+\"Web_Mining_Project/more_features/classifier_parameters/best_parameters/svm.csv\"\n",
        "path_hyperparameters_lr = parent_path+\"Web_Mining_Project/more_features/classifier_parameters/best_parameters/lr.csv\"\n",
        "\n",
        "path_best_parameters_nb = parent_path+\"Web_Mining_Project/more_features/classifier_parameters/nb.pkl\"\n",
        "path_best_parameters_knn = parent_path+\"Web_Mining_Project/more_features/classifier_parameters/knn.pkl\"\n",
        "path_best_parameters_rf = parent_path+\"Web_Mining_Project/more_features/classifier_parameters/rf.pkl\"\n",
        "path_best_parameters_svm = parent_path+\"Web_Mining_Project/more_features/classifier_parameters/svm.pkl\"\n",
        "path_best_parameters_lr = parent_path+\"Web_Mining_Project/more_features/classifier_parameters/lr.pkl\"\n",
        "#dataset paths \n",
        "path_complete_dataset = parent_path + \"Web_Mining_Project/data/complete_dataset.csv\"\n",
        "path_shortend_dataset = parent_path + \"Web_Mining_Project/data/shortend10000_dataset.csv\"\n",
        "path_shortend10000_preprocessed = parent_path + \"Web_Mining_Project/data/shortend10000_dataset_preprocessed.csv\"\n",
        "path_shortend50000_preprocessed = parent_path + \"Web_Mining_Project/data/shortend50000_dataset_preprocessed.csv\""
      ]
    },
    {
      "cell_type": "markdown",
      "metadata": {
        "id": "ghQeUaKCgx2L"
      },
      "source": [
        "## Set Up Functions"
      ]
    },
    {
      "cell_type": "code",
      "execution_count": 23,
      "metadata": {
        "id": "_IgovWRmgwRa"
      },
      "outputs": [],
      "source": [
        "# function for evaluation(confusion matrix)\n",
        "def plot_confusion_matrix(cm, classes,\n",
        "                          normalize=False,\n",
        "                          title='Confusion matrix',\n",
        "                          cmap=plt.cm.Blues):\n",
        "    \"\"\"\n",
        "    This function prints and plots the confusion matrix.\n",
        "    Normalization can be applied by setting `normalize=True`.\n",
        "    \"\"\"\n",
        "    if normalize:\n",
        "        cm = cm.astype('float') / cm.sum(axis=1)[:, np.newaxis]\n",
        "\n",
        "    plt.imshow(cm, interpolation='nearest', cmap=cmap)\n",
        "    plt.title(title)\n",
        "    plt.colorbar()\n",
        "    tick_marks = np.arange(len(classes))\n",
        "    plt.xticks(tick_marks, classes, rotation=45)\n",
        "    plt.yticks(tick_marks, classes)\n",
        "\n",
        "    fmt = '.2f' if normalize else 'd'\n",
        "    thresh = cm.max() / 2.\n",
        "    for i, j in itertools.product(range(cm.shape[0]), range(cm.shape[1])):\n",
        "        plt.text(j, i, format(cm[i, j], fmt),\n",
        "                 horizontalalignment=\"center\",\n",
        "                 color=\"white\" if cm[i, j] > thresh else \"black\")\n",
        "\n",
        "    plt.ylabel('True label')\n",
        "    plt.xlabel('Predicted label')\n",
        "    plt.tight_layout()\n",
        "\n",
        "# function for sentiment label creating \n",
        "def create_labels_from_rating(score):\n",
        "  score = int(score)\n",
        "  if score <= 2:\n",
        "    return 0 #negative\n",
        "  elif score == 3:\n",
        "    return 1 #neutral\n",
        "  else:\n",
        "    return 2 #positive\n",
        "  \n",
        "# function to bin vote column \n",
        "def bin_vote(vote):\n",
        "  vote = int(vote)\n",
        "\n",
        "  if vote < 2:\n",
        "    return 0\n",
        "  elif vote >= 2 and vote <= 6:\n",
        "    return 1 \n",
        "  else:\n",
        "    return 2"
      ]
    },
    {
      "cell_type": "markdown",
      "metadata": {
        "id": "2psw4oRk5UQu"
      },
      "source": [
        "# Data Download and Exploration"
      ]
    },
    {
      "cell_type": "code",
      "execution_count": 24,
      "metadata": {
        "colab": {
          "base_uri": "https://localhost:8080/",
          "height": 268
        },
        "id": "gOg75kouWVna",
        "outputId": "1da34701-ff9f-4d68-84c7-851f3949a254"
      },
      "outputs": [
        {
          "output_type": "stream",
          "name": "stdout",
          "text": [
            "(10000, 12)\n"
          ]
        },
        {
          "output_type": "execute_result",
          "data": {
            "text/plain": [
              "   overall  verified   reviewTime      reviewerID        asin  \\\n",
              "0      5.0      True  10 17, 2015  A1HP7NVNPFMA4N  0700026657   \n",
              "1      4.0     False  07 27, 2015  A1JGAP0185YJI6  0700026657   \n",
              "2      3.0      True  02 23, 2015  A1YJWEXHQBWK2B  0700026657   \n",
              "3      2.0      True  02 20, 2015  A2204E1TH211HT  0700026657   \n",
              "4      5.0      True  12 25, 2014  A2RF5B5H74JLPE  0700026657   \n",
              "\n",
              "        reviewerName                                         reviewText  \\\n",
              "0        Ambrosia075  This game is a bit hard to get the hang of, bu...   \n",
              "1             travis  I played it a while but it was alright. The st...   \n",
              "2  Vincent G. Mezera                                           ok game.   \n",
              "3         Grandma KR  found the game a bit too complicated, not what...   \n",
              "4                jon  great game, I love it and have played it since...   \n",
              "\n",
              "                                       summary  unixReviewTime  vote style  \\\n",
              "0                  but when you do it's great.      1445040000   NaN   NaN   \n",
              "1  But in spite of that it was fun, I liked it      1437955200   NaN   NaN   \n",
              "2                                  Three Stars      1424649600   NaN   NaN   \n",
              "3                                    Two Stars      1424390400   NaN   NaN   \n",
              "4                               love this game      1419465600   NaN   NaN   \n",
              "\n",
              "  image  \n",
              "0   NaN  \n",
              "1   NaN  \n",
              "2   NaN  \n",
              "3   NaN  \n",
              "4   NaN  "
            ],
            "text/html": [
              "\n",
              "  <div id=\"df-a13cde07-da18-422d-9c3a-fd0f7aa70394\">\n",
              "    <div class=\"colab-df-container\">\n",
              "      <div>\n",
              "<style scoped>\n",
              "    .dataframe tbody tr th:only-of-type {\n",
              "        vertical-align: middle;\n",
              "    }\n",
              "\n",
              "    .dataframe tbody tr th {\n",
              "        vertical-align: top;\n",
              "    }\n",
              "\n",
              "    .dataframe thead th {\n",
              "        text-align: right;\n",
              "    }\n",
              "</style>\n",
              "<table border=\"1\" class=\"dataframe\">\n",
              "  <thead>\n",
              "    <tr style=\"text-align: right;\">\n",
              "      <th></th>\n",
              "      <th>overall</th>\n",
              "      <th>verified</th>\n",
              "      <th>reviewTime</th>\n",
              "      <th>reviewerID</th>\n",
              "      <th>asin</th>\n",
              "      <th>reviewerName</th>\n",
              "      <th>reviewText</th>\n",
              "      <th>summary</th>\n",
              "      <th>unixReviewTime</th>\n",
              "      <th>vote</th>\n",
              "      <th>style</th>\n",
              "      <th>image</th>\n",
              "    </tr>\n",
              "  </thead>\n",
              "  <tbody>\n",
              "    <tr>\n",
              "      <th>0</th>\n",
              "      <td>5.0</td>\n",
              "      <td>True</td>\n",
              "      <td>10 17, 2015</td>\n",
              "      <td>A1HP7NVNPFMA4N</td>\n",
              "      <td>0700026657</td>\n",
              "      <td>Ambrosia075</td>\n",
              "      <td>This game is a bit hard to get the hang of, bu...</td>\n",
              "      <td>but when you do it's great.</td>\n",
              "      <td>1445040000</td>\n",
              "      <td>NaN</td>\n",
              "      <td>NaN</td>\n",
              "      <td>NaN</td>\n",
              "    </tr>\n",
              "    <tr>\n",
              "      <th>1</th>\n",
              "      <td>4.0</td>\n",
              "      <td>False</td>\n",
              "      <td>07 27, 2015</td>\n",
              "      <td>A1JGAP0185YJI6</td>\n",
              "      <td>0700026657</td>\n",
              "      <td>travis</td>\n",
              "      <td>I played it a while but it was alright. The st...</td>\n",
              "      <td>But in spite of that it was fun, I liked it</td>\n",
              "      <td>1437955200</td>\n",
              "      <td>NaN</td>\n",
              "      <td>NaN</td>\n",
              "      <td>NaN</td>\n",
              "    </tr>\n",
              "    <tr>\n",
              "      <th>2</th>\n",
              "      <td>3.0</td>\n",
              "      <td>True</td>\n",
              "      <td>02 23, 2015</td>\n",
              "      <td>A1YJWEXHQBWK2B</td>\n",
              "      <td>0700026657</td>\n",
              "      <td>Vincent G. Mezera</td>\n",
              "      <td>ok game.</td>\n",
              "      <td>Three Stars</td>\n",
              "      <td>1424649600</td>\n",
              "      <td>NaN</td>\n",
              "      <td>NaN</td>\n",
              "      <td>NaN</td>\n",
              "    </tr>\n",
              "    <tr>\n",
              "      <th>3</th>\n",
              "      <td>2.0</td>\n",
              "      <td>True</td>\n",
              "      <td>02 20, 2015</td>\n",
              "      <td>A2204E1TH211HT</td>\n",
              "      <td>0700026657</td>\n",
              "      <td>Grandma KR</td>\n",
              "      <td>found the game a bit too complicated, not what...</td>\n",
              "      <td>Two Stars</td>\n",
              "      <td>1424390400</td>\n",
              "      <td>NaN</td>\n",
              "      <td>NaN</td>\n",
              "      <td>NaN</td>\n",
              "    </tr>\n",
              "    <tr>\n",
              "      <th>4</th>\n",
              "      <td>5.0</td>\n",
              "      <td>True</td>\n",
              "      <td>12 25, 2014</td>\n",
              "      <td>A2RF5B5H74JLPE</td>\n",
              "      <td>0700026657</td>\n",
              "      <td>jon</td>\n",
              "      <td>great game, I love it and have played it since...</td>\n",
              "      <td>love this game</td>\n",
              "      <td>1419465600</td>\n",
              "      <td>NaN</td>\n",
              "      <td>NaN</td>\n",
              "      <td>NaN</td>\n",
              "    </tr>\n",
              "  </tbody>\n",
              "</table>\n",
              "</div>\n",
              "      <button class=\"colab-df-convert\" onclick=\"convertToInteractive('df-a13cde07-da18-422d-9c3a-fd0f7aa70394')\"\n",
              "              title=\"Convert this dataframe to an interactive table.\"\n",
              "              style=\"display:none;\">\n",
              "        \n",
              "  <svg xmlns=\"http://www.w3.org/2000/svg\" height=\"24px\"viewBox=\"0 0 24 24\"\n",
              "       width=\"24px\">\n",
              "    <path d=\"M0 0h24v24H0V0z\" fill=\"none\"/>\n",
              "    <path d=\"M18.56 5.44l.94 2.06.94-2.06 2.06-.94-2.06-.94-.94-2.06-.94 2.06-2.06.94zm-11 1L8.5 8.5l.94-2.06 2.06-.94-2.06-.94L8.5 2.5l-.94 2.06-2.06.94zm10 10l.94 2.06.94-2.06 2.06-.94-2.06-.94-.94-2.06-.94 2.06-2.06.94z\"/><path d=\"M17.41 7.96l-1.37-1.37c-.4-.4-.92-.59-1.43-.59-.52 0-1.04.2-1.43.59L10.3 9.45l-7.72 7.72c-.78.78-.78 2.05 0 2.83L4 21.41c.39.39.9.59 1.41.59.51 0 1.02-.2 1.41-.59l7.78-7.78 2.81-2.81c.8-.78.8-2.07 0-2.86zM5.41 20L4 18.59l7.72-7.72 1.47 1.35L5.41 20z\"/>\n",
              "  </svg>\n",
              "      </button>\n",
              "      \n",
              "  <style>\n",
              "    .colab-df-container {\n",
              "      display:flex;\n",
              "      flex-wrap:wrap;\n",
              "      gap: 12px;\n",
              "    }\n",
              "\n",
              "    .colab-df-convert {\n",
              "      background-color: #E8F0FE;\n",
              "      border: none;\n",
              "      border-radius: 50%;\n",
              "      cursor: pointer;\n",
              "      display: none;\n",
              "      fill: #1967D2;\n",
              "      height: 32px;\n",
              "      padding: 0 0 0 0;\n",
              "      width: 32px;\n",
              "    }\n",
              "\n",
              "    .colab-df-convert:hover {\n",
              "      background-color: #E2EBFA;\n",
              "      box-shadow: 0px 1px 2px rgba(60, 64, 67, 0.3), 0px 1px 3px 1px rgba(60, 64, 67, 0.15);\n",
              "      fill: #174EA6;\n",
              "    }\n",
              "\n",
              "    [theme=dark] .colab-df-convert {\n",
              "      background-color: #3B4455;\n",
              "      fill: #D2E3FC;\n",
              "    }\n",
              "\n",
              "    [theme=dark] .colab-df-convert:hover {\n",
              "      background-color: #434B5C;\n",
              "      box-shadow: 0px 1px 3px 1px rgba(0, 0, 0, 0.15);\n",
              "      filter: drop-shadow(0px 1px 2px rgba(0, 0, 0, 0.3));\n",
              "      fill: #FFFFFF;\n",
              "    }\n",
              "  </style>\n",
              "\n",
              "      <script>\n",
              "        const buttonEl =\n",
              "          document.querySelector('#df-a13cde07-da18-422d-9c3a-fd0f7aa70394 button.colab-df-convert');\n",
              "        buttonEl.style.display =\n",
              "          google.colab.kernel.accessAllowed ? 'block' : 'none';\n",
              "\n",
              "        async function convertToInteractive(key) {\n",
              "          const element = document.querySelector('#df-a13cde07-da18-422d-9c3a-fd0f7aa70394');\n",
              "          const dataTable =\n",
              "            await google.colab.kernel.invokeFunction('convertToInteractive',\n",
              "                                                     [key], {});\n",
              "          if (!dataTable) return;\n",
              "\n",
              "          const docLinkHtml = 'Like what you see? Visit the ' +\n",
              "            '<a target=\"_blank\" href=https://colab.research.google.com/notebooks/data_table.ipynb>data table notebook</a>'\n",
              "            + ' to learn more about interactive tables.';\n",
              "          element.innerHTML = '';\n",
              "          dataTable['output_type'] = 'display_data';\n",
              "          await google.colab.output.renderOutput(dataTable, element);\n",
              "          const docLink = document.createElement('div');\n",
              "          docLink.innerHTML = docLinkHtml;\n",
              "          element.appendChild(docLink);\n",
              "        }\n",
              "      </script>\n",
              "    </div>\n",
              "  </div>\n",
              "  "
            ]
          },
          "metadata": {},
          "execution_count": 24
        }
      ],
      "source": [
        "# create dataframe \n",
        "df = pd.read_csv(path_shortend_dataset)\n",
        "df.drop(columns=['Unnamed: 0'], inplace=True)\n",
        "print(df.shape)\n",
        "df.head()"
      ]
    },
    {
      "cell_type": "code",
      "execution_count": 25,
      "metadata": {
        "colab": {
          "base_uri": "https://localhost:8080/",
          "height": 1000
        },
        "id": "G_CWaKAg6ceh",
        "outputId": "2e34e354-1d1e-48d6-f1ad-6d190d9eb653"
      },
      "outputs": [
        {
          "output_type": "stream",
          "name": "stdout",
          "text": [
            "overall           False\n",
            "verified          False\n",
            "reviewTime        False\n",
            "reviewerID        False\n",
            "asin              False\n",
            "reviewerName      False\n",
            "reviewText        False\n",
            "summary            True\n",
            "unixReviewTime    False\n",
            "vote               True\n",
            "style              True\n",
            "image              True\n",
            "dtype: bool\n",
            "\n",
            "<class 'pandas.core.frame.DataFrame'>\n",
            "RangeIndex: 10000 entries, 0 to 9999\n",
            "Data columns (total 12 columns):\n",
            " #   Column          Non-Null Count  Dtype  \n",
            "---  ------          --------------  -----  \n",
            " 0   overall         10000 non-null  float64\n",
            " 1   verified        10000 non-null  bool   \n",
            " 2   reviewTime      10000 non-null  object \n",
            " 3   reviewerID      10000 non-null  object \n",
            " 4   asin            10000 non-null  object \n",
            " 5   reviewerName    10000 non-null  object \n",
            " 6   reviewText      10000 non-null  object \n",
            " 7   summary         9999 non-null   object \n",
            " 8   unixReviewTime  10000 non-null  int64  \n",
            " 9   vote            2716 non-null   float64\n",
            " 10  style           3784 non-null   object \n",
            " 11  image           50 non-null     object \n",
            "dtypes: bool(1), float64(2), int64(1), object(8)\n",
            "memory usage: 869.3+ KB\n",
            "\n",
            "overall           float64\n",
            "verified             bool\n",
            "reviewTime         object\n",
            "reviewerID         object\n",
            "asin               object\n",
            "reviewerName       object\n",
            "reviewText         object\n",
            "summary            object\n",
            "unixReviewTime      int64\n",
            "vote              float64\n",
            "style              object\n",
            "image              object\n",
            "dtype: object\n",
            "\n",
            "count    10000.000000\n",
            "mean         4.391900\n",
            "std          1.042316\n",
            "min          1.000000\n",
            "25%          4.000000\n",
            "50%          5.000000\n",
            "75%          5.000000\n",
            "max          5.000000\n",
            "Name: overall, dtype: float64\n",
            "\n"
          ]
        },
        {
          "output_type": "stream",
          "name": "stderr",
          "text": [
            "/usr/local/lib/python3.7/dist-packages/seaborn/_decorators.py:43: FutureWarning: Pass the following variable as a keyword arg: x. From version 0.12, the only valid positional argument will be `data`, and passing other arguments without an explicit keyword will result in an error or misinterpretation.\n",
            "  FutureWarning\n"
          ]
        },
        {
          "output_type": "display_data",
          "data": {
            "text/plain": [
              "<Figure size 432x288 with 1 Axes>"
            ],
            "image/png": "[encoded data removed]"
          },
          "metadata": {
            "needs_background": "light"
          }
        },
        {
          "output_type": "stream",
          "name": "stdout",
          "text": [
            "\n"
          ]
        },
        {
          "output_type": "stream",
          "name": "stderr",
          "text": [
            "/usr/local/lib/python3.7/dist-packages/seaborn/_decorators.py:43: FutureWarning: Pass the following variable as a keyword arg: x. From version 0.12, the only valid positional argument will be `data`, and passing other arguments without an explicit keyword will result in an error or misinterpretation.\n",
            "  FutureWarning\n"
          ]
        },
        {
          "output_type": "stream",
          "name": "stdout",
          "text": [
            "\n",
            "count    10000.000000\n",
            "mean         1.743100\n",
            "std          7.031931\n",
            "min          0.000000\n",
            "25%          0.000000\n",
            "50%          0.000000\n",
            "75%          2.000000\n",
            "max        281.000000\n",
            "Name: vote, dtype: float64\n"
          ]
        },
        {
          "output_type": "execute_result",
          "data": {
            "text/plain": [
              "<matplotlib.axes._subplots.AxesSubplot at 0x7fb363f26bd0>"
            ]
          },
          "metadata": {},
          "execution_count": 25
        },
        {
          "output_type": "display_data",
          "data": {
            "text/plain": [
              "<Figure size 432x288 with 1 Axes>"
            ],
            "image/png": "[encoded data removed]"
          },
          "metadata": {
            "needs_background": "light"
          }
        },
        {
          "output_type": "display_data",
          "data": {
            "text/plain": [
              "<Figure size 432x288 with 1 Axes>"
            ],
            "image/png": "[encoded data removed]"
          },
          "metadata": {
            "needs_background": "light"
          }
        }
      ],
      "source": [
        "# General Information and Null values\n",
        "print(df.isnull().any())\n",
        "print()\n",
        "df.info()\n",
        "print()\n",
        "print(df.dtypes)\n",
        "print()\n",
        "print(df.overall.describe())\n",
        "print()\n",
        "# plot the score & check for the distribution of the star ratings \n",
        "sns.countplot(df.overall)\n",
        "plt.show()\n",
        "print()\n",
        "# plot distribution of vote column\n",
        "df['vote'] = df['vote'].fillna(0)\n",
        "sns.countplot(df.vote)\n",
        "print()\n",
        "print(df.vote.describe())\n",
        "# plot vote depending on overall\n",
        "df.plot(x='overall', y='vote', style='o')"
      ]
    },
    {
      "cell_type": "markdown",
      "metadata": {
        "id": "Ub4lefsY5XwW"
      },
      "source": [
        "# Data Preprocessing and further Exploration"
      ]
    },
    {
      "cell_type": "markdown",
      "metadata": {
        "id": "T6qhdNDLviKC"
      },
      "source": [
        "## Label creation"
      ]
    },
    {
      "cell_type": "code",
      "execution_count": 26,
      "metadata": {
        "colab": {
          "base_uri": "https://localhost:8080/",
          "height": 334
        },
        "id": "oC2lhUbiv6fy",
        "outputId": "659eafcc-611c-4227-c3ed-4736656df663"
      },
      "outputs": [
        {
          "output_type": "stream",
          "name": "stderr",
          "text": [
            "/usr/local/lib/python3.7/dist-packages/seaborn/_decorators.py:43: FutureWarning: Pass the following variable as a keyword arg: x. From version 0.12, the only valid positional argument will be `data`, and passing other arguments without an explicit keyword will result in an error or misinterpretation.\n",
            "  FutureWarning\n"
          ]
        },
        {
          "output_type": "display_data",
          "data": {
            "text/plain": [
              "<Figure size 432x288 with 1 Axes>"
            ],
            "image/png": "[encoded data removed]"
          },
          "metadata": {
            "needs_background": "light"
          }
        }
      ],
      "source": [
        "df['label'] = df['overall'].apply(create_labels_from_rating)\n",
        "# plot the score & check for the distribution of the star ratings \n",
        "sns.countplot(df.label)\n",
        "plt.show()"
      ]
    },
    {
      "cell_type": "markdown",
      "metadata": {
        "id": "PyHX54AVnI4U"
      },
      "source": [
        "## Feature Generation and Selection"
      ]
    },
    {
      "cell_type": "code",
      "source": [
        "df.sort_values(by=['unixReviewTime'], inplace=True)\n",
        "df.reset_index(drop=True, inplace=True)\n",
        "\n",
        "# detecting ratings score per user\n",
        "df['reviewer_mean_score'] = df.groupby(['reviewerID'])['overall'].apply(lambda x: x.expanding(1).mean().shift()).reset_index(0,drop=True)\n",
        "df['reviewer_min_score'] = df.groupby(['reviewerID'])['overall'].apply(lambda x: x.expanding(1).min().shift()).reset_index(0,drop=True)\n",
        "df['reviewer_max_score'] = df.groupby(['reviewerID'])['overall'].apply(lambda x: x.expanding(1).max().shift()).reset_index(0,drop=True)\n",
        "\n",
        "# detecting ratings score per item\n",
        "df['item_mean_score'] = df.groupby(['asin'])['overall'].apply(lambda x: x.expanding(1).mean().shift()).reset_index(0,drop=True)\n",
        "df['item_min_score'] = df.groupby(['asin'])['overall'].apply(lambda x: x.expanding(1).min().shift()).reset_index(0,drop=True)\n",
        "df['item_max_score'] = df.groupby(['asin'])['overall'].apply(lambda x: x.expanding(1).max().shift()).reset_index(0,drop=True)\n",
        "df.drop(columns=['overall','reviewerName','reviewerID', 'asin', 'reviewTime','style', 'image'], inplace=True)\n",
        "\n",
        "# delete nans \n",
        "#df['reviewer_mean_score'] = df['reviewer_mean_score'].fillna(3)\n",
        "#df['reviewer_min_score'] = df['reviewer_min_score'].fillna(3)\n",
        "#df['reviewer_max_score'] = df['reviewer_max_score'].fillna(3)\n",
        "#df['item_mean_score'] = df['item_mean_score'].fillna(3)\n",
        "#df['item_min_score'] = df['item_min_score'].fillna(3)\n",
        "#df['item_max_score'] = df['item_max_score'].fillna(3)"
      ],
      "metadata": {
        "id": "_CcYQxlDZ_u6"
      },
      "execution_count": 27,
      "outputs": []
    },
    {
      "cell_type": "code",
      "execution_count": 28,
      "metadata": {
        "colab": {
          "base_uri": "https://localhost:8080/"
        },
        "id": "sH2tmY5m4fIZ",
        "outputId": "5a7336e6-69cf-4fba-c5c9-77e8290dc5cc"
      },
      "outputs": [
        {
          "output_type": "stream",
          "name": "stdout",
          "text": [
            "(4759, 12)\n",
            "    verified                                         reviewText  \\\n",
            "17     False  This is without any doubt the best sci-fi RPG ...   \n",
            "19     False  If you liked Full Trottle and love LucasArts' ...   \n",
            "25     False  The first Age of Empires was great. The second...   \n",
            "31     False  This is quite simply the best action titles I ...   \n",
            "33     False  This game's great!  Some people are complainin...   \n",
            "\n",
            "                         summary  unixReviewTime  vote  label  \\\n",
            "17     The best sci-fi RPG ever!       943488000   7.0      2   \n",
            "19  LucasArts have done it again       943488000   8.0      2   \n",
            "25              Computer crasher       943747200  43.0      0   \n",
            "31                Buy it Dammit!       944179200   3.0      2   \n",
            "33  You Want RPG; You've Got RPG       944352000   3.0      2   \n",
            "\n",
            "    reviewer_mean_score  reviewer_min_score  reviewer_max_score  \\\n",
            "17             4.000000                 4.0                 4.0   \n",
            "19             4.666667                 4.0                 5.0   \n",
            "25             5.000000                 5.0                 5.0   \n",
            "31             1.000000                 1.0                 1.0   \n",
            "33             3.000000                 3.0                 3.0   \n",
            "\n",
            "    item_mean_score  item_min_score  item_max_score  \n",
            "17              5.0             5.0             5.0  \n",
            "19              5.0             5.0             5.0  \n",
            "25              4.0             4.0             4.0  \n",
            "31              5.0             5.0             5.0  \n",
            "33              5.0             5.0             5.0  \n"
          ]
        }
      ],
      "source": [
        "df = df[df['reviewText'].apply(lambda x: isinstance(x, str))] \n",
        "df = df[df['summary'].apply(lambda x: isinstance(x, str))]\n",
        "df.dropna(inplace=True)\n",
        "print(df.shape)\n",
        "print(df.head())"
      ]
    },
    {
      "cell_type": "markdown",
      "metadata": {
        "id": "pocsiti49v2l"
      },
      "source": [
        "## Tokenization "
      ]
    },
    {
      "cell_type": "code",
      "execution_count": 29,
      "metadata": {
        "colab": {
          "base_uri": "https://localhost:8080/"
        },
        "id": "Bs6W6wRsA1hz",
        "outputId": "72671e6d-b24d-4264-f13a-d9bd6856961d"
      },
      "outputs": [
        {
          "output_type": "stream",
          "name": "stdout",
          "text": [
            "    verified                                         reviewText  \\\n",
            "17     False  This without doubt best sci-fi RPG ever (and I...   \n",
            "19     False  If liked Full Trottle love LucasArts' games ge...   \n",
            "25     False  The first Age Empires great. The second one pl...   \n",
            "31     False  This quite simply best action titles I ever pl...   \n",
            "33     False  This game's great! Some people complaining ori...   \n",
            "\n",
            "                         summary  unixReviewTime  vote  label  \\\n",
            "17     The best sci-fi RPG ever!       943488000   7.0      2   \n",
            "19                LucasArts done       943488000   8.0      2   \n",
            "25              Computer crasher       943747200  43.0      0   \n",
            "31                   Buy Dammit!       944179200   3.0      2   \n",
            "33  You Want RPG; You've Got RPG       944352000   3.0      2   \n",
            "\n",
            "    reviewer_mean_score  reviewer_min_score  reviewer_max_score  \\\n",
            "17             4.000000                 4.0                 4.0   \n",
            "19             4.666667                 4.0                 5.0   \n",
            "25             5.000000                 5.0                 5.0   \n",
            "31             1.000000                 1.0                 1.0   \n",
            "33             3.000000                 3.0                 3.0   \n",
            "\n",
            "    item_mean_score  item_min_score  item_max_score  \n",
            "17              5.0             5.0             5.0  \n",
            "19              5.0             5.0             5.0  \n",
            "25              4.0             4.0             4.0  \n",
            "31              5.0             5.0             5.0  \n",
            "33              5.0             5.0             5.0  \n",
            "(4759, 12)\n"
          ]
        }
      ],
      "source": [
        "df = df[df['reviewText'].apply(lambda x: isinstance(x, str))] \n",
        "df = df[df['summary'].apply(lambda x: isinstance(x, str))]\n",
        "\n",
        "#tokenize and use stemming \n",
        "#stemmer = PorterStemmer()\n",
        "#print(df.head())\n",
        "#df['reviewText'] = df['reviewText'].apply(lambda x: ' '.join([stemmer.stem(word) for word in x.split()]))\n",
        "#df['summary'] = df['summary'].apply(lambda x: ' '.join([stemmer.stem(word) for word in x.split()]))\n",
        "#print(df.head())\n",
        "\n",
        "# tokenize and remove stopwords \n",
        "stop = stopwords.words('english')\n",
        "df['reviewText'] = df['reviewText'].apply(lambda x: ' '.join([word for word in x.split() if word not in (stop)]))\n",
        "df['summary'] = df['summary'].apply(lambda x: ' '.join([word for word in x.split() if word not in (stop)]))\n",
        "df.dropna(inplace=True)\n",
        "print(df.head())\n",
        "print(df.shape)"
      ]
    },
    {
      "cell_type": "markdown",
      "metadata": {
        "id": "h0Huq-553D0p"
      },
      "source": [
        "# Train Test Split and shortening "
      ]
    },
    {
      "cell_type": "code",
      "execution_count": 30,
      "metadata": {
        "id": "V304yhm93NOu"
      },
      "outputs": [],
      "source": [
        "df.dropna(inplace=True)\n",
        "df = df[df['reviewText'].apply(lambda x: isinstance(x, str))] \n",
        "df = df[df['summary'].apply(lambda x: isinstance(x, str))]"
      ]
    },
    {
      "cell_type": "code",
      "execution_count": 31,
      "metadata": {
        "colab": {
          "base_uri": "https://localhost:8080/"
        },
        "id": "W4AtH8CR3SKs",
        "outputId": "bc0afe46-3763-438c-85c6-7de3064b346c"
      },
      "outputs": [
        {
          "output_type": "stream",
          "name": "stdout",
          "text": [
            "y_train: (3807,)/ x_train: (3807, 12)\n",
            "y_test: (952,)/ x_test: (952, 12)\n",
            "      verified                                         reviewText  \\\n",
            "3011     False  I really looking forward trying game I pretty ...   \n",
            "3180     False  The first X-Men game classic I also say Clone ...   \n",
            "558      False  Hey, I remember old gold-laden boxes first AD&...   \n",
            "6771      True  It great re-living childhood days playing game...   \n",
            "9616     False  Better second good first. My brother got birth...   \n",
            "\n",
            "                                        summary  unixReviewTime  vote  label  \\\n",
            "3011                    Frustrating & Confusing      1064188800   2.0      1   \n",
            "3180  A bit cartoony really awesome video game!      1078012800   0.0      2   \n",
            "558                           AD&D rises ashes!       966211200   0.0      2   \n",
            "6771                                     Great!      1382745600   0.0      2   \n",
            "9616                      Still good first game      1473465600   0.0      1   \n",
            "\n",
            "      reviewer_mean_score  reviewer_min_score  reviewer_max_score  \\\n",
            "3011                 4.25                 4.0                 5.0   \n",
            "3180                 5.00                 5.0                 5.0   \n",
            "558                  3.00                 2.0                 4.0   \n",
            "6771                 5.00                 5.0                 5.0   \n",
            "9616                 4.00                 3.0                 5.0   \n",
            "\n",
            "      item_mean_score  item_min_score  item_max_score  \n",
            "3011         3.826087             1.0             5.0  \n",
            "3180         4.666667             4.0             5.0  \n",
            "558          3.428571             2.0             5.0  \n",
            "6771         4.566667             3.0             5.0  \n",
            "9616         4.571429             1.0             5.0  \n"
          ]
        }
      ],
      "source": [
        "# split into train and test set\n",
        "x_train, x_test = train_test_split(df, test_size=0.2, random_state = 453, stratify=df['label'])\n",
        "\n",
        "y_train = x_train['label']\n",
        "y_test = x_test['label']\n",
        "\n",
        "print (f\"y_train: {y_train.shape}/ x_train: {x_train.shape}\")\n",
        "print (f\"y_test: {y_test.shape}/ x_test: {x_test.shape}\")\n",
        "\n",
        "print(x_train.head())"
      ]
    },
    {
      "cell_type": "markdown",
      "metadata": {
        "id": "-c_g4TzPQt8_"
      },
      "source": [
        "# Model Training"
      ]
    },
    {
      "cell_type": "markdown",
      "metadata": {
        "id": "hTCfxyjHohj8"
      },
      "source": [
        "## Set Up Pipeline"
      ]
    },
    {
      "cell_type": "code",
      "execution_count": 32,
      "metadata": {
        "colab": {
          "base_uri": "https://localhost:8080/"
        },
        "id": "da4hsNzPog0r",
        "outputId": "44bb01a4-d543-4dc4-a310-27a4c02277b6"
      },
      "outputs": [
        {
          "output_type": "stream",
          "name": "stdout",
          "text": [
            "(3807, 11)\n",
            "(3807,)\n",
            "      verified                                         reviewText  \\\n",
            "3011     False  I really looking forward trying game I pretty ...   \n",
            "3180     False  The first X-Men game classic I also say Clone ...   \n",
            "558      False  Hey, I remember old gold-laden boxes first AD&...   \n",
            "6771      True  It great re-living childhood days playing game...   \n",
            "9616     False  Better second good first. My brother got birth...   \n",
            "\n",
            "                                        summary  unixReviewTime  vote  \\\n",
            "3011                    Frustrating & Confusing      1064188800   2.0   \n",
            "3180  A bit cartoony really awesome video game!      1078012800   0.0   \n",
            "558                           AD&D rises ashes!       966211200   0.0   \n",
            "6771                                     Great!      1382745600   0.0   \n",
            "9616                      Still good first game      1473465600   0.0   \n",
            "\n",
            "      reviewer_mean_score  reviewer_min_score  reviewer_max_score  \\\n",
            "3011                 4.25                 4.0                 5.0   \n",
            "3180                 5.00                 5.0                 5.0   \n",
            "558                  3.00                 2.0                 4.0   \n",
            "6771                 5.00                 5.0                 5.0   \n",
            "9616                 4.00                 3.0                 5.0   \n",
            "\n",
            "      item_mean_score  item_min_score  item_max_score  \n",
            "3011         3.826087             1.0             5.0  \n",
            "3180         4.666667             4.0             5.0  \n",
            "558          3.428571             2.0             5.0  \n",
            "6771         4.566667             3.0             5.0  \n",
            "9616         4.571429             1.0             5.0  \n"
          ]
        }
      ],
      "source": [
        "\n",
        "# define transformer\n",
        "transformer = ColumnTransformer(transformers=[('tf_reviewText', TfidfVectorizer(max_df=0.75, smooth_idf=False, norm='l2'), 'reviewText'), ('tf_summary', TfidfVectorizer(max_df=0.75, smooth_idf=False, norm='l2'), 'summary')], remainder='passthrough')\n",
        "\n",
        "# define sampling\n",
        "sampling = RandomOverSampler(random_state=452)\n",
        "\n",
        "# define the scoring function\n",
        "f1 = make_scorer(f1_score, average='weighted')\n",
        "\n",
        "# set up cross validation configuration\n",
        "cv = StratifiedKFold(n_splits=5, shuffle=True, random_state=42)\n",
        "\n",
        "# dataset preparation\n",
        "x_train.drop(columns = ['label'], inplace= True)\n",
        "x_test.drop(columns = ['label'], inplace= True)\n",
        "#x_train = x_train['reviewText']\n",
        "#x_test = x_valid['reviewText']\n",
        "print(x_train.shape)\n",
        "print(y_train.shape)\n",
        "print(x_train.head(5))\n",
        "\n",
        "\n"
      ]
    },
    {
      "cell_type": "markdown",
      "metadata": {
        "id": "GjcsWovnRMvl"
      },
      "source": [
        "## Naïve Bayes"
      ]
    },
    {
      "cell_type": "code",
      "execution_count": 13,
      "metadata": {
        "colab": {
          "base_uri": "https://localhost:8080/"
        },
        "id": "kJvXgDr9qutk",
        "outputId": "8701cc7c-6386-4bf0-d35d-470f43455a12"
      },
      "outputs": [
        {
          "output_type": "stream",
          "name": "stdout",
          "text": [
            "Pipeline(steps=[('FeaturePreprocessing',\n",
            "                 ColumnTransformer(remainder='passthrough',\n",
            "                                   transformers=[('tf_reviewText',\n",
            "                                                  TfidfVectorizer(max_df=0.75,\n",
            "                                                                  smooth_idf=False),\n",
            "                                                  'reviewText'),\n",
            "                                                 ('tf_summary',\n",
            "                                                  TfidfVectorizer(max_df=0.75,\n",
            "                                                                  smooth_idf=False),\n",
            "                                                  'summary')])),\n",
            "                ('balancing', RandomOverSampler(random_state=452)),\n",
            "                ('estimator', MultinomialNB())])\n",
            "Fitting 5 folds for each of 6 candidates, totalling 30 fits\n",
            "--- 24.93198871612549 seconds ---\n",
            "Multinomial NBClassifier: 80.97020485693494% F1-score for class 'label' with parameters {'estimator__alpha': 0.1}\n"
          ]
        },
        {
          "output_type": "execute_result",
          "data": {
            "text/plain": [
              "['/content/drive/My Drive/Web_Mining_Project/more_features/classifier_parameters/nb.pkl']"
            ]
          },
          "metadata": {},
          "execution_count": 13
        }
      ],
      "source": [
        "\n",
        "# Optimize parameters for NB Classifier\n",
        "from sklearn.naive_bayes import MultinomialNB\n",
        "estimator = MultinomialNB()\n",
        "\n",
        "# Define grid of possible hyperparamters values \n",
        "parameters = {\n",
        "    #'vectorizer__max_df': [0.25, 0.5, 0.75, 1.0],  ------- used vectorizer parameters from only text runs with classifiers\n",
        "    #'vectorizer__smooth_idf': (True, False),\n",
        "    #'vectorizer__norm': ('l1', 'l2', None),\n",
        "    'estimator__alpha': [ 0.0001, 0.001, 0.01, 0.1, 1, 10],\n",
        "}\n",
        "\n",
        "# Create a pipeline\n",
        "pipeline = Pipeline([ ('FeaturePreprocessing', transformer),('balancing', sampling), ('estimator', estimator) ])\n",
        "print(pipeline)\n",
        "\n",
        "# Hyperparameter optimization with Grid Search\n",
        "start_time = time.time()\n",
        "grid_search_estimator = GridSearchCV(pipeline, parameters, scoring=f1, cv=cv, return_train_score=False, n_jobs=-1, verbose=10)\n",
        "grid_search_estimator.fit(x_train, y_train)\n",
        "\n",
        "print(\"--- %s seconds ---\" % (time.time() - start_time))\n",
        "print(\"Multinomial NBClassifier: {}% F1-score for class 'label' with parameters {}\".format(grid_search_estimator.best_score_ * 100, grid_search_estimator.best_params_))\n",
        "\n",
        "# Save hyperparameter optmization results\n",
        "df_hyper = pd.DataFrame(grid_search_estimator.cv_results_)\n",
        "df_hyper.to_csv(path_hyperparameters_nb, index=False)\n",
        "\n",
        "# Save best hyperparameters values\n",
        "joblib.dump(grid_search_estimator.best_params_, path_best_parameters_nb, compress = 1) # Only best parameters\n"
      ]
    },
    {
      "cell_type": "code",
      "execution_count": 14,
      "metadata": {
        "colab": {
          "base_uri": "https://localhost:8080/",
          "height": 471
        },
        "id": "GZuCTfkb-TFF",
        "outputId": "3e1e98dc-92e5-4821-e251-352fcc172b73"
      },
      "outputs": [
        {
          "output_type": "stream",
          "name": "stdout",
          "text": [
            "              precision    recall  f1-score   support\n",
            "\n",
            "           0       0.43      0.32      0.37        65\n",
            "           1       0.36      0.35      0.36        85\n",
            "           2       0.91      0.93      0.92       802\n",
            "\n",
            "    accuracy                           0.83       952\n",
            "   macro avg       0.56      0.53      0.55       952\n",
            "weighted avg       0.83      0.83      0.83       952\n",
            "\n"
          ]
        },
        {
          "output_type": "display_data",
          "data": {
            "text/plain": [
              "<Figure size 432x288 with 2 Axes>"
            ],
            "image/png": "[encoded data removed]"
          },
          "metadata": {
            "needs_background": "light"
          }
        }
      ],
      "source": [
        "prediction = grid_search_estimator.predict(x_test)\n",
        "cm = confusion_matrix(y_test, prediction)\n",
        "plot_confusion_matrix(cm, classes = unique_labels(y_test), title = \"NB Classifier on Test Set\")\n",
        "print(classification_report(y_test, prediction))"
      ]
    },
    {
      "cell_type": "markdown",
      "source": [
        "## Knn"
      ],
      "metadata": {
        "id": "d9bPYcxzjMjb"
      }
    },
    {
      "cell_type": "code",
      "source": [
        "# Optimize parameters for KNN Classifier\n",
        "from sklearn.neighbors import KNeighborsClassifier\n",
        "estimator = KNeighborsClassifier()\n",
        "\n",
        "transformer = ColumnTransformer(transformers=[('tf_reviewText', TfidfVectorizer(max_df=0.75, smooth_idf=False, norm=None), 'reviewText'), ('tf_summary', TfidfVectorizer(max_df=0.75, smooth_idf=False, norm=None), 'summary')], remainder='passthrough')\n",
        "\n",
        "# Define grid of posible hyperparamters values \n",
        "parameters = {\n",
        "    #'vectorizer__max_df': [0.25, 0.5, 0.75, 1.0],\n",
        "    #'vectorizer__smooth_idf': (True, False),\n",
        "    #'vectorizer__norm': ('l1', 'l2', None),\n",
        "    'estimator__n_neighbors': [5, 10, 15, 20, 25],\n",
        "    'estimator__weights': ['uniform','distance'],\n",
        "    'estimator__algorithm':['auto', 'ball_tree', 'kd_tree', 'brute'],\n",
        "       }\n",
        "\n",
        "# Create a pipeline\n",
        "pipeline = Pipeline([ ('FeaturePreprocessing', transformer), ('balancing', sampling), ('estimator', estimator) ])\n",
        "print(pipeline)\n",
        "\n",
        "# Hyperparameter optimization with Grid Search\n",
        "start_time = time.time()\n",
        "grid_search_estimator = GridSearchCV(pipeline, parameters, scoring=f1, cv=cv, return_train_score=False, n_jobs=-1, verbose=10)\n",
        "grid_search_estimator.fit(x_train, y_train)\n",
        "\n",
        "print(\"--- %s seconds ---\" % (time.time() - start_time))\n",
        "print(\"KNN : {}% F1-score for class 'label' with parameters {}\".format(grid_search_estimator.best_score_ * 100, grid_search_estimator.best_params_))\n",
        "\n",
        "# Save hyperparameter optmization results\n",
        "df_hyper = pd.DataFrame(grid_search_estimator.cv_results_)\n",
        "df_hyper.to_csv(path_hyperparameters_knn, index=False)\n",
        "\n",
        "# Save best hyperparameters values\n",
        "joblib.dump(grid_search_estimator.best_params_, path_best_parameters_knn, compress = 1) # Only best parameters"
      ],
      "metadata": {
        "colab": {
          "base_uri": "https://localhost:8080/"
        },
        "id": "rHXahtiTjQ5F",
        "outputId": "1fba826a-7a62-4283-a329-23b013eef52a"
      },
      "execution_count": 15,
      "outputs": [
        {
          "output_type": "stream",
          "name": "stdout",
          "text": [
            "Pipeline(steps=[('FeaturePreprocessing',\n",
            "                 ColumnTransformer(remainder='passthrough',\n",
            "                                   transformers=[('tf_reviewText',\n",
            "                                                  TfidfVectorizer(max_df=0.75,\n",
            "                                                                  norm=None,\n",
            "                                                                  smooth_idf=False),\n",
            "                                                  'reviewText'),\n",
            "                                                 ('tf_summary',\n",
            "                                                  TfidfVectorizer(max_df=0.75,\n",
            "                                                                  norm=None,\n",
            "                                                                  smooth_idf=False),\n",
            "                                                  'summary')])),\n",
            "                ('balancing', RandomOverSampler(random_state=452)),\n",
            "                ('estimator', KNeighborsClassifier())])\n",
            "Fitting 5 folds for each of 40 candidates, totalling 200 fits\n",
            "--- 145.12794065475464 seconds ---\n",
            "KNN : 70.20460563545076% F1-score for class 'label' with parameters {'estimator__algorithm': 'auto', 'estimator__n_neighbors': 5, 'estimator__weights': 'distance'}\n"
          ]
        },
        {
          "output_type": "execute_result",
          "data": {
            "text/plain": [
              "['/content/drive/My Drive/Web_Mining_Project/more_features/classifier_parameters/knn.pkl']"
            ]
          },
          "metadata": {},
          "execution_count": 15
        }
      ]
    },
    {
      "cell_type": "code",
      "source": [
        "prediction = grid_search_estimator.predict(x_test)\n",
        "cm = confusion_matrix(y_test, prediction)\n",
        "plot_confusion_matrix(cm, classes = unique_labels(y_test), title = \"Knn Classifier on Test Set\")\n",
        "print(classification_report(y_test, prediction))"
      ],
      "metadata": {
        "colab": {
          "base_uri": "https://localhost:8080/",
          "height": 471
        },
        "id": "iwq5egtkjRjG",
        "outputId": "9ad80f63-953a-4109-c5d0-8d48d4fa270b"
      },
      "execution_count": 16,
      "outputs": [
        {
          "output_type": "stream",
          "name": "stdout",
          "text": [
            "              precision    recall  f1-score   support\n",
            "\n",
            "           0       0.17      0.26      0.20        65\n",
            "           1       0.12      0.21      0.16        85\n",
            "           2       0.86      0.76      0.81       802\n",
            "\n",
            "    accuracy                           0.67       952\n",
            "   macro avg       0.38      0.41      0.39       952\n",
            "weighted avg       0.75      0.67      0.71       952\n",
            "\n"
          ]
        },
        {
          "output_type": "display_data",
          "data": {
            "text/plain": [
              "<Figure size 432x288 with 2 Axes>"
            ],
            "image/png": "[encoded data removed]"
          },
          "metadata": {
            "needs_background": "light"
          }
        }
      ]
    },
    {
      "cell_type": "markdown",
      "source": [
        "## Random Forest"
      ],
      "metadata": {
        "id": "qaWhwUKLqkU7"
      }
    },
    {
      "cell_type": "code",
      "source": [
        "# Optimize parameters for Random Forest\n",
        "estimator = RandomForestClassifier( random_state=42)\n",
        "\n",
        "transformer = ColumnTransformer(transformers=[('tf_reviewText', TfidfVectorizer(max_df=0.25, smooth_idf=False), 'reviewText'), ('tf_summary', TfidfVectorizer(max_df=0.25, smooth_idf=False), 'summary')], remainder='passthrough')\n",
        "\n",
        "# Define grid of posible hyperparamters values \n",
        "parameters = {\n",
        "    #'vectorizer__max_df': [0.25, 0.5, 0.75, 1.0],\n",
        "    #'vectorizer__smooth_idf': (True, False),\n",
        "    #'vectorizer__norm': ('l1', 'l2', None),\n",
        "    'estimator__n_estimators': [100, 300, 500],\n",
        "    'estimator__max_depth': [5, 15, 25],\n",
        "    'estimator__min_samples_split': [5, 25, 100],\n",
        "    'estimator__min_samples_leaf': [ 2, 5, 10]\n",
        "}\n",
        "\n",
        "# Create a pipeline\n",
        "pipeline = Pipeline([ ('FeaturePreprocessing', transformer), ('balancing', sampling), ('estimator', estimator) ])\n",
        "print(pipeline)\n",
        "\n",
        "# Hyperparameter optimization with Grid Search\n",
        "start_time = time.time()\n",
        "grid_search_estimator = GridSearchCV(pipeline, parameters, scoring=f1, cv=cv, return_train_score=False, n_jobs=-1, verbose=10)\n",
        "grid_search_estimator.fit(x_train, y_train)\n",
        "\n",
        "print(\"--- %s seconds ---\" % (time.time() - start_time))\n",
        "print(\"Random Forest Classifier: {}% F1-score for class 'label' with parameters {}\".format(grid_search_estimator.best_score_ * 100, grid_search_estimator.best_params_))\n",
        "\n",
        "# Save hyperparameter optmization results\n",
        "df_hyper = pd.DataFrame(grid_search_estimator.cv_results_)\n",
        "df_hyper.to_csv(path_hyperparameters_rf, index=False)\n",
        "\n",
        "# Save best hyperparameters values\n",
        "joblib.dump(grid_search_estimator.best_params_, path_best_parameters_rf, compress = 1) # Only best parameters"
      ],
      "metadata": {
        "colab": {
          "base_uri": "https://localhost:8080/"
        },
        "id": "IG_tC6xlqn9L",
        "outputId": "76c1f4f1-3392-40aa-a982-5e4cbca9be36"
      },
      "execution_count": 17,
      "outputs": [
        {
          "output_type": "stream",
          "name": "stdout",
          "text": [
            "Pipeline(steps=[('FeaturePreprocessing',\n",
            "                 ColumnTransformer(remainder='passthrough',\n",
            "                                   transformers=[('tf_reviewText',\n",
            "                                                  TfidfVectorizer(max_df=0.25,\n",
            "                                                                  smooth_idf=False),\n",
            "                                                  'reviewText'),\n",
            "                                                 ('tf_summary',\n",
            "                                                  TfidfVectorizer(max_df=0.25,\n",
            "                                                                  smooth_idf=False),\n",
            "                                                  'summary')])),\n",
            "                ('balancing', RandomOverSampler(random_state=452)),\n",
            "                ('estimator', RandomForestClassifier(random_state=42))])\n",
            "Fitting 5 folds for each of 81 candidates, totalling 405 fits\n",
            "--- 906.0206696987152 seconds ---\n",
            "Random Forest Classifier: 82.65812492299057% F1-score for class 'label' with parameters {'estimator__max_depth': 15, 'estimator__min_samples_leaf': 2, 'estimator__min_samples_split': 25, 'estimator__n_estimators': 500}\n"
          ]
        },
        {
          "output_type": "execute_result",
          "data": {
            "text/plain": [
              "['/content/drive/My Drive/Web_Mining_Project/more_features/classifier_parameters/rf.pkl']"
            ]
          },
          "metadata": {},
          "execution_count": 17
        }
      ]
    },
    {
      "cell_type": "code",
      "source": [
        "prediction = grid_search_estimator.predict(x_test)\n",
        "cm = confusion_matrix(y_test, prediction)\n",
        "plot_confusion_matrix(cm, classes = unique_labels(y_test), title = \"Random Forest Classifier on Test Set\")\n",
        "print(classification_report(y_test, prediction))"
      ],
      "metadata": {
        "colab": {
          "base_uri": "https://localhost:8080/",
          "height": 471
        },
        "id": "JQiviuzzqoVF",
        "outputId": "6c439702-1f99-4db6-ed9e-cda909024c9a"
      },
      "execution_count": 18,
      "outputs": [
        {
          "output_type": "stream",
          "name": "stdout",
          "text": [
            "              precision    recall  f1-score   support\n",
            "\n",
            "           0       0.47      0.40      0.43        65\n",
            "           1       0.38      0.29      0.33        85\n",
            "           2       0.91      0.94      0.92       802\n",
            "\n",
            "    accuracy                           0.85       952\n",
            "   macro avg       0.59      0.54      0.56       952\n",
            "weighted avg       0.83      0.85      0.84       952\n",
            "\n"
          ]
        },
        {
          "output_type": "display_data",
          "data": {
            "text/plain": [
              "<Figure size 432x288 with 2 Axes>"
            ],
            "image/png": "[encoded data removed]"
          },
          "metadata": {
            "needs_background": "light"
          }
        }
      ]
    },
    {
      "cell_type": "markdown",
      "source": [
        "## SVM\n",
        "\n"
      ],
      "metadata": {
        "id": "WospJdwh6_Qo"
      }
    },
    {
      "cell_type": "code",
      "source": [
        "# Optimize parameters for LSVM Classifier\n",
        "estimator = LinearSVC(max_iter=5000, random_state=42, dual = True)\n",
        "\n",
        "transformer = ColumnTransformer(transformers=[('tf_reviewText', TfidfVectorizer(), 'reviewText'), ('tf_summary', TfidfVectorizer(), 'summary')], remainder='passthrough')\n",
        "\n",
        "# Define grid of posible hyperparamters values \n",
        "parameters = {\n",
        "    #'vectorizer__max_df': [0.25, 0.5, 0.75, 1.0],\n",
        "    #'vectorizer__smooth_idf': (True, False),\n",
        "    #'vectorizer__norm': ('l1', 'l2', None),\n",
        "    'estimator__loss': ['hinge', 'squared_hinge'],\n",
        "    'estimator__tol': [1e-2, 1e-3, 1e-4, 1e-5],\n",
        "    'estimator__C': [0.01, 0.1, 1, 10, 100, 1000],\n",
        "}\n",
        "\n",
        "# Create a pipeline\n",
        "pipeline = Pipeline([ ('FeaturePreprocessing', transformer), ('balancing', sampling), ('estimator', estimator) ])\n",
        "print(pipeline)\n",
        "\n",
        "# Hyperparameter optimization with Grid Search\n",
        "start_time = time.time()\n",
        "grid_search_estimator = GridSearchCV(pipeline, parameters, scoring=f1, cv=cv, return_train_score=False, n_jobs=-1, verbose=2)\n",
        "grid_search_estimator.fit(x_train, y_train)\n",
        "\n",
        "print(\"--- %s seconds ---\" % (time.time() - start_time))\n",
        "print(\"LSVM Classifier: {}% F1-score for class 'label' with parameters {}\".format(grid_search_estimator.best_score_ * 100, grid_search_estimator.best_params_))\n",
        "\n",
        "# Save hyperparameter optmization results\n",
        "df_hyper = pd.DataFrame(grid_search_estimator.cv_results_)\n",
        "df_hyper.to_csv(path_hyperparameters_svm, index=False)\n",
        "\n",
        "# Save best hyperparameters values\n",
        "joblib.dump(grid_search_estimator.best_params_, path_best_parameters_svm, compress = 1) # Only best parameters"
      ],
      "metadata": {
        "colab": {
          "base_uri": "https://localhost:8080/"
        },
        "id": "TPp2HbO77DDN",
        "outputId": "474f765e-8e56-4045-f0ea-98e4a4bb5393"
      },
      "execution_count": 19,
      "outputs": [
        {
          "output_type": "stream",
          "name": "stdout",
          "text": [
            "Pipeline(steps=[('FeaturePreprocessing',\n",
            "                 ColumnTransformer(remainder='passthrough',\n",
            "                                   transformers=[('tf_reviewText',\n",
            "                                                  TfidfVectorizer(),\n",
            "                                                  'reviewText'),\n",
            "                                                 ('tf_summary',\n",
            "                                                  TfidfVectorizer(),\n",
            "                                                  'summary')])),\n",
            "                ('balancing', RandomOverSampler(random_state=452)),\n",
            "                ('estimator', LinearSVC(max_iter=5000, random_state=42))])\n",
            "Fitting 5 folds for each of 48 candidates, totalling 240 fits\n",
            "--- 10153.255246162415 seconds ---\n",
            "LSVM Classifier: 16.300221914200197% F1-score for class 'label' with parameters {'estimator__C': 0.01, 'estimator__loss': 'hinge', 'estimator__tol': 0.01}\n"
          ]
        },
        {
          "output_type": "stream",
          "name": "stderr",
          "text": [
            "/usr/local/lib/python3.7/dist-packages/sklearn/svm/_base.py:1208: ConvergenceWarning: Liblinear failed to converge, increase the number of iterations.\n",
            "  ConvergenceWarning,\n"
          ]
        },
        {
          "output_type": "execute_result",
          "data": {
            "text/plain": [
              "['/content/drive/My Drive/Web_Mining_Project/more_features/classifier_parameters/svm.pkl']"
            ]
          },
          "metadata": {},
          "execution_count": 19
        }
      ]
    },
    {
      "cell_type": "code",
      "source": [
        "prediction = grid_search_estimator.predict(x_test)\n",
        "cm = confusion_matrix(y_test, prediction)\n",
        "plot_confusion_matrix(cm, classes = unique_labels(y_test), title = \"SVM Classifier on Test Set\")\n",
        "print(classification_report(y_test, prediction))"
      ],
      "metadata": {
        "id": "eKmn_03S7EdF",
        "colab": {
          "base_uri": "https://localhost:8080/",
          "height": 595
        },
        "outputId": "16ac59e3-12ac-4506-ffc4-85701231252a"
      },
      "execution_count": 20,
      "outputs": [
        {
          "output_type": "stream",
          "name": "stderr",
          "text": [
            "/usr/local/lib/python3.7/dist-packages/sklearn/metrics/_classification.py:1318: UndefinedMetricWarning: Precision and F-score are ill-defined and being set to 0.0 in labels with no predicted samples. Use `zero_division` parameter to control this behavior.\n",
            "  _warn_prf(average, modifier, msg_start, len(result))\n"
          ]
        },
        {
          "output_type": "stream",
          "name": "stdout",
          "text": [
            "              precision    recall  f1-score   support\n",
            "\n",
            "           0       0.00      0.00      0.00        65\n",
            "           1       0.00      0.00      0.00        85\n",
            "           2       0.84      1.00      0.91       802\n",
            "\n",
            "    accuracy                           0.84       952\n",
            "   macro avg       0.28      0.33      0.30       952\n",
            "weighted avg       0.71      0.84      0.77       952\n",
            "\n"
          ]
        },
        {
          "output_type": "stream",
          "name": "stderr",
          "text": [
            "/usr/local/lib/python3.7/dist-packages/sklearn/metrics/_classification.py:1318: UndefinedMetricWarning: Precision and F-score are ill-defined and being set to 0.0 in labels with no predicted samples. Use `zero_division` parameter to control this behavior.\n",
            "  _warn_prf(average, modifier, msg_start, len(result))\n",
            "/usr/local/lib/python3.7/dist-packages/sklearn/metrics/_classification.py:1318: UndefinedMetricWarning: Precision and F-score are ill-defined and being set to 0.0 in labels with no predicted samples. Use `zero_division` parameter to control this behavior.\n",
            "  _warn_prf(average, modifier, msg_start, len(result))\n"
          ]
        },
        {
          "output_type": "display_data",
          "data": {
            "text/plain": [
              "<Figure size 432x288 with 2 Axes>"
            ],
            "image/png": "[encoded data removed]"
          },
          "metadata": {
            "needs_background": "light"
          }
        }
      ]
    },
    {
      "cell_type": "markdown",
      "source": [
        "## Logistic Regression"
      ],
      "metadata": {
        "id": "NpkbMcIW4_q5"
      }
    },
    {
      "cell_type": "code",
      "source": [
        "# Optimize parameters for Logistic Regression\n",
        "estimator = LogisticRegression()\n",
        "\n",
        "transformer = ColumnTransformer(transformers=[('tf_reviewText', TfidfVectorizer(max_df=0.5, smooth_idf=False), 'reviewText'), ('tf_summary', TfidfVectorizer(max_df=0.5, smooth_idf=False), 'summary')], remainder='passthrough')\n",
        "\n",
        "# Define grid of posible hyperparamters values \n",
        "parameters = {\n",
        "    #'vectorizer__max_df': [0.25, 0.5, 0.75, 1.0],\n",
        "    #'vectorizer__smooth_idf': (True, False),\n",
        "    #'vectorizer__norm': ('l1', 'l2', None),\n",
        "    'estimator__solver': ['newton-cg', 'lbfgs', 'liblinear', 'sag', 'saga'],\n",
        "    'estimator__C': [100, 10, 1.0, 0.1, 0.01]\n",
        "}\n",
        "\n",
        "# Create a pipeline\n",
        "pipeline = Pipeline([ ('FeaturePreprocessing', transformer), ('balancing', sampling), ('estimator', estimator) ])\n",
        "print(pipeline)\n",
        "\n",
        "# Hyperparameter optimization with Grid Search\n",
        "start_time = time.time()\n",
        "grid_search_estimator = GridSearchCV(pipeline, parameters, scoring=f1, cv=cv, return_train_score=False, n_jobs=-1, verbose=2)\n",
        "grid_search_estimator.fit(x_train, y_train)\n",
        "\n",
        "print(\"--- %s seconds ---\" % (time.time() - start_time))\n",
        "print(\"Logistic Regression Classifier: {}% F1-score for class 'label' with parameters {}\".format(grid_search_estimator.best_score_ * 100, grid_search_estimator.best_params_))\n",
        "\n",
        "# Save hyperparameter optmization results\n",
        "df_hyper = pd.DataFrame(grid_search_estimator.cv_results_)\n",
        "df_hyper.to_csv(path_hyperparameters_lr, index=False)\n",
        "\n",
        "# Save best hyperparameters values\n",
        "joblib.dump(grid_search_estimator.best_params_, path_best_parameters_lr, compress = 1) # Only best parameters"
      ],
      "metadata": {
        "colab": {
          "base_uri": "https://localhost:8080/"
        },
        "id": "YenGHImX5AQn",
        "outputId": "b21304cf-b5cd-4c75-cbbe-a3d7e8ca4454"
      },
      "execution_count": 34,
      "outputs": [
        {
          "output_type": "stream",
          "name": "stdout",
          "text": [
            "Pipeline(steps=[('FeaturePreprocessing',\n",
            "                 ColumnTransformer(remainder='passthrough',\n",
            "                                   transformers=[('tf_reviewText',\n",
            "                                                  TfidfVectorizer(max_df=0.5,\n",
            "                                                                  smooth_idf=False),\n",
            "                                                  'reviewText'),\n",
            "                                                 ('tf_summary',\n",
            "                                                  TfidfVectorizer(max_df=0.5,\n",
            "                                                                  smooth_idf=False),\n",
            "                                                  'summary')])),\n",
            "                ('balancing', RandomOverSampler(random_state=452)),\n",
            "                ('estimator', LogisticRegression())])\n",
            "Fitting 5 folds for each of 25 candidates, totalling 125 fits\n",
            "--- 199.35793805122375 seconds ---\n",
            "Logistic Regression Classifier: 77.07065007791553% F1-score for class 'label' with parameters {'estimator__C': 100, 'estimator__solver': 'lbfgs'}\n"
          ]
        },
        {
          "output_type": "execute_result",
          "data": {
            "text/plain": [
              "['/content/drive/My Drive/Web_Mining_Project/more_features/classifier_parameters/lr.pkl']"
            ]
          },
          "metadata": {},
          "execution_count": 34
        }
      ]
    },
    {
      "cell_type": "code",
      "source": [
        "prediction = grid_search_estimator.predict(x_test)\n",
        "cm = confusion_matrix(y_test, prediction)\n",
        "plot_confusion_matrix(cm, classes = unique_labels(y_test), title = \"Logistic Regression Classifier on Test Set\")\n",
        "print(classification_report(y_test, prediction))"
      ],
      "metadata": {
        "colab": {
          "base_uri": "https://localhost:8080/",
          "height": 595
        },
        "id": "dodtKDST7dMb",
        "outputId": "95b0b33d-d887-48e4-cd34-8d733f32f844"
      },
      "execution_count": 35,
      "outputs": [
        {
          "output_type": "stream",
          "name": "stdout",
          "text": [
            "              precision    recall  f1-score   support\n",
            "\n",
            "           0       0.00      0.00      0.00        65\n",
            "           1       0.00      0.00      0.00        85\n",
            "           2       0.84      1.00      0.91       802\n",
            "\n",
            "    accuracy                           0.84       952\n",
            "   macro avg       0.28      0.33      0.30       952\n",
            "weighted avg       0.71      0.84      0.77       952\n",
            "\n"
          ]
        },
        {
          "output_type": "stream",
          "name": "stderr",
          "text": [
            "/usr/local/lib/python3.7/dist-packages/sklearn/metrics/_classification.py:1318: UndefinedMetricWarning: Precision and F-score are ill-defined and being set to 0.0 in labels with no predicted samples. Use `zero_division` parameter to control this behavior.\n",
            "  _warn_prf(average, modifier, msg_start, len(result))\n",
            "/usr/local/lib/python3.7/dist-packages/sklearn/metrics/_classification.py:1318: UndefinedMetricWarning: Precision and F-score are ill-defined and being set to 0.0 in labels with no predicted samples. Use `zero_division` parameter to control this behavior.\n",
            "  _warn_prf(average, modifier, msg_start, len(result))\n",
            "/usr/local/lib/python3.7/dist-packages/sklearn/metrics/_classification.py:1318: UndefinedMetricWarning: Precision and F-score are ill-defined and being set to 0.0 in labels with no predicted samples. Use `zero_division` parameter to control this behavior.\n",
            "  _warn_prf(average, modifier, msg_start, len(result))\n"
          ]
        },
        {
          "output_type": "display_data",
          "data": {
            "text/plain": [
              "<Figure size 432x288 with 2 Axes>"
            ],
            "image/png": "[encoded data removed]"
          },
          "metadata": {
            "needs_background": "light"
          }
        }
      ]
    }
  ],
  "metadata": {
    "colab": {
      "collapsed_sections": [],
      "name": "amazon_reviews_more_features_del_nan.ipynb",
      "provenance": [],
      "toc_visible": true
    },
    "kernelspec": {
      "display_name": "Python 3",
      "language": "python",
      "name": "python3"
    },
    "language_info": {
      "codemirror_mode": {
        "name": "ipython",
        "version": 3
      },
      "file_extension": ".py",
      "mimetype": "text/x-python",
      "name": "python",
      "nbconvert_exporter": "python",
      "pygments_lexer": "ipython3",
      "version": "3.8.8"
    }
  },
  "nbformat": 4,
  "nbformat_minor": 0
}
